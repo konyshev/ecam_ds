{
 "cells": [
  {
   "cell_type": "markdown",
   "metadata": {},
   "source": [
    "# Imports & Setups"
   ]
  },
  {
   "cell_type": "code",
   "execution_count": 359,
   "metadata": {
    "scrolled": true
   },
   "outputs": [],
   "source": [
    "import pandas as pd\n",
    "import numpy as np\n",
    "import itertools\n",
    "\n",
    "from sklearn.model_selection import train_test_split\n",
    "from sklearn.metrics import confusion_matrix,roc_auc_score\n",
    "from lightgbm import LGBMClassifier\n",
    "from imblearn.over_sampling import SMOTE\n",
    "\n",
    "import warnings \n",
    "\n",
    "import lib.kotools as kt"
   ]
  },
  {
   "cell_type": "code",
   "execution_count": 360,
   "metadata": {},
   "outputs": [
    {
     "name": "stdout",
     "output_type": "stream",
     "text": [
      "The autoreload extension is already loaded. To reload it, use:\n",
      "  %reload_ext autoreload\n"
     ]
    }
   ],
   "source": [
    "%load_ext autoreload\n",
    "%autoreload 2\n",
    "warnings.simplefilter('ignore')\n",
    "pd.set_option('display.max_columns', 7)"
   ]
  },
  {
   "cell_type": "markdown",
   "metadata": {},
   "source": [
    "# Load data"
   ]
  },
  {
   "cell_type": "markdown",
   "metadata": {},
   "source": [
    "Data source is https://archive.ics.uci.edu/ml/datasets/SECOM"
   ]
  },
  {
   "cell_type": "code",
   "execution_count": 361,
   "metadata": {},
   "outputs": [
    {
     "data": {
      "text/plain": [
       "(1567, 591)"
      ]
     },
     "execution_count": 361,
     "metadata": {},
     "output_type": "execute_result"
    }
   ],
   "source": [
    "df_raw = pd.read_csv('./input/secom.data',sep=' ',header=None)\n",
    "labels = pd.read_csv('./input/secom_labels.data',sep=' ',header=None,usecols=[0],squeeze = True)\n",
    "df_raw['TARGET'] = labels\n",
    "df_raw.shape"
   ]
  },
  {
   "cell_type": "code",
   "execution_count": 362,
   "metadata": {},
   "outputs": [],
   "source": [
    "evo = kt.DataFrameEvolution(df_raw)"
   ]
  },
  {
   "cell_type": "markdown",
   "metadata": {},
   "source": [
    "# Test on Raw data"
   ]
  },
  {
   "cell_type": "code",
   "execution_count": 363,
   "metadata": {
    "scrolled": true
   },
   "outputs": [
    {
     "name": "stdout",
     "output_type": "stream",
     "text": [
      "CrossValidation(3) ROC AUC on full raw data: 0.550166155936\n"
     ]
    }
   ],
   "source": [
    "feats = [f for f in df_raw.columns if f not in ['TARGET']]\n",
    "score = evo.test(df_raw[feats],df_raw['TARGET'],step_group = 'Initial data',step_name = 'Full RAW data')\n",
    "print('CrossValidation(3) ROC AUC on full raw data:',score)"
   ]
  },
  {
   "cell_type": "markdown",
   "metadata": {},
   "source": [
    "# Train / test split"
   ]
  },
  {
   "cell_type": "code",
   "execution_count": 364,
   "metadata": {},
   "outputs": [],
   "source": [
    "step_group = 'Train / Test Split'"
   ]
  },
  {
   "cell_type": "code",
   "execution_count": 365,
   "metadata": {
    "code_folding": []
   },
   "outputs": [
    {
     "name": "stdout",
     "output_type": "stream",
     "text": [
      "CrossValidation(3) ROC AUC for step \"X_train RAW (split:60/40)\":0.601843255730768\n",
      "CrossValidation(3) ROC AUC for step \"X_train RAW (split:70/30)\":0.6318002606712284\n",
      "CrossValidation(3) ROC AUC for step \"X_train RAW (split:80/20)\":0.6714125759309049\n",
      "CrossValidation(3) ROC AUC for step \"X_train RAW (split:90/10)\":0.7246004566210046\n"
     ]
    }
   ],
   "source": [
    "df = df_raw\n",
    "X = df.copy()\n",
    "y = df['TARGET'].copy()\n",
    "X.drop(['TARGET'],axis=1,inplace=True)\n",
    "\n",
    "\n",
    "for ts in range(60,100,10):\n",
    "    step_name = 'X_train RAW (split:{}/{})'.format(ts,100-ts,score)\n",
    "    X_train, X_test, y_train, y_test = train_test_split(X,y, test_size=1-ts/100, random_state=42)\n",
    "    score = evo.test(X_train,y_train,step_group,step_name)\n",
    "    print('CrossValidation(3) ROC AUC for step \"{}\":{}'.format(step_name,score))"
   ]
  },
  {
   "cell_type": "code",
   "execution_count": 366,
   "metadata": {},
   "outputs": [
    {
     "data": {
      "text/html": [
       "<div>\n",
       "<style scoped>\n",
       "    .dataframe tbody tr th:only-of-type {\n",
       "        vertical-align: middle;\n",
       "    }\n",
       "\n",
       "    .dataframe tbody tr th {\n",
       "        vertical-align: top;\n",
       "    }\n",
       "\n",
       "    .dataframe thead th {\n",
       "        text-align: right;\n",
       "    }\n",
       "</style>\n",
       "<table border=\"1\" class=\"dataframe\">\n",
       "  <thead>\n",
       "    <tr style=\"text-align: right;\">\n",
       "      <th></th>\n",
       "      <th>Step Group</th>\n",
       "      <th>Step name</th>\n",
       "      <th>LGBM CV3 ROC AUC</th>\n",
       "      <th>Comment</th>\n",
       "    </tr>\n",
       "  </thead>\n",
       "  <tbody>\n",
       "    <tr>\n",
       "      <th>0</th>\n",
       "      <td>Train / Test Split</td>\n",
       "      <td>X_train RAW (split:90/10)</td>\n",
       "      <td>0.7246</td>\n",
       "      <td>Best by score</td>\n",
       "    </tr>\n",
       "    <tr>\n",
       "      <th>1</th>\n",
       "      <td>Train / Test Split</td>\n",
       "      <td>X_train RAW (split:80/20)</td>\n",
       "      <td>0.671413</td>\n",
       "      <td>More confidence</td>\n",
       "    </tr>\n",
       "    <tr>\n",
       "      <th>2</th>\n",
       "      <td>Train / Test Split</td>\n",
       "      <td>X_train RAW (split:70/30)</td>\n",
       "      <td>0.6318</td>\n",
       "      <td>NaN</td>\n",
       "    </tr>\n",
       "    <tr>\n",
       "      <th>3</th>\n",
       "      <td>Train / Test Split</td>\n",
       "      <td>X_train RAW (split:60/40)</td>\n",
       "      <td>0.601843</td>\n",
       "      <td>NaN</td>\n",
       "    </tr>\n",
       "    <tr>\n",
       "      <th>4</th>\n",
       "      <td>Initial data</td>\n",
       "      <td>Full RAW data</td>\n",
       "      <td>0.550166</td>\n",
       "      <td>NaN</td>\n",
       "    </tr>\n",
       "  </tbody>\n",
       "</table>\n",
       "</div>"
      ],
      "text/plain": [
       "           Step Group                  Step name LGBM CV3 ROC AUC  \\\n",
       "0  Train / Test Split  X_train RAW (split:90/10)           0.7246   \n",
       "1  Train / Test Split  X_train RAW (split:80/20)         0.671413   \n",
       "2  Train / Test Split  X_train RAW (split:70/30)           0.6318   \n",
       "3  Train / Test Split  X_train RAW (split:60/40)         0.601843   \n",
       "4        Initial data              Full RAW data         0.550166   \n",
       "\n",
       "           Comment  \n",
       "0    Best by score  \n",
       "1  More confidence  \n",
       "2              NaN  \n",
       "3              NaN  \n",
       "4              NaN  "
      ]
     },
     "execution_count": 366,
     "metadata": {},
     "output_type": "execute_result"
    }
   ],
   "source": [
    "evo.add_step_comment('X_train RAW (split:90/10)','Best by score')\n",
    "evo.add_step_comment('X_train RAW (split:80/20)','More confidence')\n",
    "\n",
    "X_train, X_test, y_train, y_test = train_test_split(X,y, test_size=0.2, random_state=42)\n",
    "evo.get_history()"
   ]
  },
  {
   "cell_type": "markdown",
   "metadata": {},
   "source": [
    "# Exploratory data analysis"
   ]
  },
  {
   "cell_type": "markdown",
   "metadata": {},
   "source": [
    "## Missing Values"
   ]
  },
  {
   "cell_type": "code",
   "execution_count": 367,
   "metadata": {},
   "outputs": [],
   "source": [
    "step_group = 'Missing Values'"
   ]
  },
  {
   "cell_type": "markdown",
   "metadata": {
    "heading_collapsed": true
   },
   "source": [
    "### Missing Values Exploring"
   ]
  },
  {
   "cell_type": "markdown",
   "metadata": {
    "hidden": true
   },
   "source": [
    "For X_train:"
   ]
  },
  {
   "cell_type": "code",
   "execution_count": 368,
   "metadata": {
    "hidden": true,
    "scrolled": false
   },
   "outputs": [
    {
     "data": {
      "text/html": [
       "<div>\n",
       "<style scoped>\n",
       "    .dataframe tbody tr th:only-of-type {\n",
       "        vertical-align: middle;\n",
       "    }\n",
       "\n",
       "    .dataframe tbody tr th {\n",
       "        vertical-align: top;\n",
       "    }\n",
       "\n",
       "    .dataframe thead th {\n",
       "        text-align: right;\n",
       "    }\n",
       "</style>\n",
       "<table border=\"1\" class=\"dataframe\">\n",
       "  <thead>\n",
       "    <tr style=\"text-align: right;\">\n",
       "      <th></th>\n",
       "      <th>count_missing</th>\n",
       "      <th>ratio_missing</th>\n",
       "    </tr>\n",
       "  </thead>\n",
       "  <tbody>\n",
       "    <tr>\n",
       "      <th>157</th>\n",
       "      <td>1138</td>\n",
       "      <td>0.908220</td>\n",
       "    </tr>\n",
       "    <tr>\n",
       "      <th>293</th>\n",
       "      <td>1138</td>\n",
       "      <td>0.908220</td>\n",
       "    </tr>\n",
       "    <tr>\n",
       "      <th>292</th>\n",
       "      <td>1138</td>\n",
       "      <td>0.908220</td>\n",
       "    </tr>\n",
       "    <tr>\n",
       "      <th>158</th>\n",
       "      <td>1138</td>\n",
       "      <td>0.908220</td>\n",
       "    </tr>\n",
       "    <tr>\n",
       "      <th>85</th>\n",
       "      <td>1070</td>\n",
       "      <td>0.853951</td>\n",
       "    </tr>\n",
       "    <tr>\n",
       "      <th>220</th>\n",
       "      <td>1070</td>\n",
       "      <td>0.853951</td>\n",
       "    </tr>\n",
       "    <tr>\n",
       "      <th>492</th>\n",
       "      <td>1070</td>\n",
       "      <td>0.853951</td>\n",
       "    </tr>\n",
       "    <tr>\n",
       "      <th>358</th>\n",
       "      <td>1070</td>\n",
       "      <td>0.853951</td>\n",
       "    </tr>\n",
       "    <tr>\n",
       "      <th>383</th>\n",
       "      <td>816</td>\n",
       "      <td>0.651237</td>\n",
       "    </tr>\n",
       "    <tr>\n",
       "      <th>110</th>\n",
       "      <td>816</td>\n",
       "      <td>0.651237</td>\n",
       "    </tr>\n",
       "  </tbody>\n",
       "</table>\n",
       "</div>"
      ],
      "text/plain": [
       "     count_missing  ratio_missing\n",
       "157           1138       0.908220\n",
       "293           1138       0.908220\n",
       "292           1138       0.908220\n",
       "158           1138       0.908220\n",
       "85            1070       0.853951\n",
       "220           1070       0.853951\n",
       "492           1070       0.853951\n",
       "358           1070       0.853951\n",
       "383            816       0.651237\n",
       "110            816       0.651237"
      ]
     },
     "execution_count": 368,
     "metadata": {},
     "output_type": "execute_result"
    }
   ],
   "source": [
    "kt.df_missing_report(X_train).sort_values(by='ratio_missing',ascending=False).head(10)"
   ]
  },
  {
   "cell_type": "markdown",
   "metadata": {
    "hidden": true
   },
   "source": [
    "For X_test:"
   ]
  },
  {
   "cell_type": "code",
   "execution_count": 369,
   "metadata": {
    "hidden": true
   },
   "outputs": [
    {
     "data": {
      "text/html": [
       "<div>\n",
       "<style scoped>\n",
       "    .dataframe tbody tr th:only-of-type {\n",
       "        vertical-align: middle;\n",
       "    }\n",
       "\n",
       "    .dataframe tbody tr th {\n",
       "        vertical-align: top;\n",
       "    }\n",
       "\n",
       "    .dataframe thead th {\n",
       "        text-align: right;\n",
       "    }\n",
       "</style>\n",
       "<table border=\"1\" class=\"dataframe\">\n",
       "  <thead>\n",
       "    <tr style=\"text-align: right;\">\n",
       "      <th></th>\n",
       "      <th>count_missing</th>\n",
       "      <th>ratio_missing</th>\n",
       "    </tr>\n",
       "  </thead>\n",
       "  <tbody>\n",
       "    <tr>\n",
       "      <th>158</th>\n",
       "      <td>291</td>\n",
       "      <td>0.926752</td>\n",
       "    </tr>\n",
       "    <tr>\n",
       "      <th>157</th>\n",
       "      <td>291</td>\n",
       "      <td>0.926752</td>\n",
       "    </tr>\n",
       "    <tr>\n",
       "      <th>293</th>\n",
       "      <td>291</td>\n",
       "      <td>0.926752</td>\n",
       "    </tr>\n",
       "    <tr>\n",
       "      <th>292</th>\n",
       "      <td>291</td>\n",
       "      <td>0.926752</td>\n",
       "    </tr>\n",
       "    <tr>\n",
       "      <th>492</th>\n",
       "      <td>271</td>\n",
       "      <td>0.863057</td>\n",
       "    </tr>\n",
       "    <tr>\n",
       "      <th>85</th>\n",
       "      <td>271</td>\n",
       "      <td>0.863057</td>\n",
       "    </tr>\n",
       "    <tr>\n",
       "      <th>358</th>\n",
       "      <td>271</td>\n",
       "      <td>0.863057</td>\n",
       "    </tr>\n",
       "    <tr>\n",
       "      <th>220</th>\n",
       "      <td>271</td>\n",
       "      <td>0.863057</td>\n",
       "    </tr>\n",
       "    <tr>\n",
       "      <th>516</th>\n",
       "      <td>202</td>\n",
       "      <td>0.643312</td>\n",
       "    </tr>\n",
       "    <tr>\n",
       "      <th>245</th>\n",
       "      <td>202</td>\n",
       "      <td>0.643312</td>\n",
       "    </tr>\n",
       "  </tbody>\n",
       "</table>\n",
       "</div>"
      ],
      "text/plain": [
       "     count_missing  ratio_missing\n",
       "158            291       0.926752\n",
       "157            291       0.926752\n",
       "293            291       0.926752\n",
       "292            291       0.926752\n",
       "492            271       0.863057\n",
       "85             271       0.863057\n",
       "358            271       0.863057\n",
       "220            271       0.863057\n",
       "516            202       0.643312\n",
       "245            202       0.643312"
      ]
     },
     "execution_count": 369,
     "metadata": {},
     "output_type": "execute_result"
    }
   ],
   "source": [
    "kt.df_missing_report(X_test).sort_values(by='ratio_missing',ascending=False).head(10)"
   ]
  },
  {
   "cell_type": "markdown",
   "metadata": {},
   "source": [
    "### Missing Values Columns Drop"
   ]
  },
  {
   "cell_type": "code",
   "execution_count": 370,
   "metadata": {
    "scrolled": false
   },
   "outputs": [
    {
     "name": "stdout",
     "output_type": "stream",
     "text": [
      "Drop Columns with 30% of NaNs; Count of columns to drop:32\n",
      "CrossValidation(3) ROC AUC for step \"Drop Columns with 30% of NaNs\":0.6602436589648866\n",
      "\n",
      "Drop Columns with 40% of NaNs; Count of columns to drop:32\n",
      "CrossValidation(3) ROC AUC for step \"Drop Columns with 40% of NaNs\":0.6602436589648866\n",
      "\n",
      "Drop Columns with 50% of NaNs; Count of columns to drop:28\n",
      "CrossValidation(3) ROC AUC for step \"Drop Columns with 50% of NaNs\":0.6484250333355193\n",
      "\n",
      "Drop Columns with 60% of NaNs; Count of columns to drop:24\n",
      "CrossValidation(3) ROC AUC for step \"Drop Columns with 60% of NaNs\":0.6639718937246644\n",
      "\n",
      "Drop Columns with 70% of NaNs; Count of columns to drop:8\n",
      "CrossValidation(3) ROC AUC for step \"Drop Columns with 70% of NaNs\":0.6701155874216402\n",
      "\n",
      "Drop Columns with 80% of NaNs; Count of columns to drop:8\n",
      "CrossValidation(3) ROC AUC for step \"Drop Columns with 80% of NaNs\":0.6701155874216402\n",
      "\n",
      "Drop Columns with 90% of NaNs; Count of columns to drop:4\n",
      "CrossValidation(3) ROC AUC for step \"Drop Columns with 90% of NaNs\":0.6623300131399023\n",
      "\n"
     ]
    }
   ],
   "source": [
    "for c in range(30,100,10):\n",
    "    step_name = 'Drop Columns with {}% of NaNs'.format(c)\n",
    "    c=c/100\n",
    "    nan_cols_to_drop = X_train.columns[(((X_train.isnull().sum()/X_train.shape[0])>c) | \\\n",
    "                                        ((X_test.isnull().sum()/X_test.shape[0])>c))]\n",
    "    print('{}; Count of columns to drop:{}'.format(step_name,len(nan_cols_to_drop)))\n",
    "    \n",
    "    step_df = X_train.drop(nan_cols_to_drop,axis=1)\n",
    "    \n",
    "    score = evo.test(step_df,y_train,step_group,step_name)\n",
    "    print('CrossValidation(3) ROC AUC for step \"{}\":{}\\n'.format(step_name,score))"
   ]
  },
  {
   "cell_type": "code",
   "execution_count": 371,
   "metadata": {},
   "outputs": [
    {
     "name": "stdout",
     "output_type": "stream",
     "text": [
      "Count of columns to drop:8\n",
      "Actual X_train shape:(1253, 582) \tActual X_test shape:(314, 582)\n"
     ]
    }
   ],
   "source": [
    "evo.add_step_comment('Drop Columns with 70% of NaNs','Best cutoff by score/amount of data')\n",
    "\n",
    "c=0.7\n",
    "nan_cols_to_drop = X_train.columns[(((X_train.isnull().sum()/X_train.shape[0])>c) | \\\n",
    "                                    ((X_test.isnull().sum()/X_test.shape[0])>c))]\n",
    "print('Count of columns to drop:{}'.format(len(nan_cols_to_drop)))\n",
    "\n",
    "X_train = X_train.drop(nan_cols_to_drop,axis=1)\n",
    "X_test = X_test.drop(nan_cols_to_drop,axis=1)\n",
    "print('Actual X_train shape:{} \\tActual X_test shape:{}'.format(X_train.shape,X_test.shape))"
   ]
  },
  {
   "cell_type": "code",
   "execution_count": 372,
   "metadata": {
    "scrolled": true
   },
   "outputs": [
    {
     "data": {
      "text/html": [
       "<div>\n",
       "<style scoped>\n",
       "    .dataframe tbody tr th:only-of-type {\n",
       "        vertical-align: middle;\n",
       "    }\n",
       "\n",
       "    .dataframe tbody tr th {\n",
       "        vertical-align: top;\n",
       "    }\n",
       "\n",
       "    .dataframe thead th {\n",
       "        text-align: right;\n",
       "    }\n",
       "</style>\n",
       "<table border=\"1\" class=\"dataframe\">\n",
       "  <thead>\n",
       "    <tr style=\"text-align: right;\">\n",
       "      <th></th>\n",
       "      <th>Step Group</th>\n",
       "      <th>Step name</th>\n",
       "      <th>LGBM CV3 ROC AUC</th>\n",
       "      <th>Comment</th>\n",
       "    </tr>\n",
       "  </thead>\n",
       "  <tbody>\n",
       "    <tr>\n",
       "      <th>0</th>\n",
       "      <td>Missing Values</td>\n",
       "      <td>Drop Columns with 90% of NaNs</td>\n",
       "      <td>0.66233</td>\n",
       "      <td>NaN</td>\n",
       "    </tr>\n",
       "    <tr>\n",
       "      <th>1</th>\n",
       "      <td>Missing Values</td>\n",
       "      <td>Drop Columns with 80% of NaNs</td>\n",
       "      <td>0.670116</td>\n",
       "      <td>NaN</td>\n",
       "    </tr>\n",
       "    <tr>\n",
       "      <th>2</th>\n",
       "      <td>Missing Values</td>\n",
       "      <td>Drop Columns with 70% of NaNs</td>\n",
       "      <td>0.670116</td>\n",
       "      <td>Best cutoff by score/amount of data</td>\n",
       "    </tr>\n",
       "    <tr>\n",
       "      <th>3</th>\n",
       "      <td>Missing Values</td>\n",
       "      <td>Drop Columns with 60% of NaNs</td>\n",
       "      <td>0.663972</td>\n",
       "      <td>NaN</td>\n",
       "    </tr>\n",
       "    <tr>\n",
       "      <th>4</th>\n",
       "      <td>Missing Values</td>\n",
       "      <td>Drop Columns with 50% of NaNs</td>\n",
       "      <td>0.648425</td>\n",
       "      <td>NaN</td>\n",
       "    </tr>\n",
       "    <tr>\n",
       "      <th>5</th>\n",
       "      <td>Missing Values</td>\n",
       "      <td>Drop Columns with 40% of NaNs</td>\n",
       "      <td>0.660244</td>\n",
       "      <td>NaN</td>\n",
       "    </tr>\n",
       "    <tr>\n",
       "      <th>6</th>\n",
       "      <td>Missing Values</td>\n",
       "      <td>Drop Columns with 30% of NaNs</td>\n",
       "      <td>0.660244</td>\n",
       "      <td>NaN</td>\n",
       "    </tr>\n",
       "    <tr>\n",
       "      <th>7</th>\n",
       "      <td>Train / Test Split</td>\n",
       "      <td>X_train RAW (split:90/10)</td>\n",
       "      <td>0.7246</td>\n",
       "      <td>Best by score</td>\n",
       "    </tr>\n",
       "    <tr>\n",
       "      <th>8</th>\n",
       "      <td>Train / Test Split</td>\n",
       "      <td>X_train RAW (split:80/20)</td>\n",
       "      <td>0.671413</td>\n",
       "      <td>More confidence</td>\n",
       "    </tr>\n",
       "    <tr>\n",
       "      <th>9</th>\n",
       "      <td>Train / Test Split</td>\n",
       "      <td>X_train RAW (split:70/30)</td>\n",
       "      <td>0.6318</td>\n",
       "      <td>NaN</td>\n",
       "    </tr>\n",
       "    <tr>\n",
       "      <th>10</th>\n",
       "      <td>Train / Test Split</td>\n",
       "      <td>X_train RAW (split:60/40)</td>\n",
       "      <td>0.601843</td>\n",
       "      <td>NaN</td>\n",
       "    </tr>\n",
       "    <tr>\n",
       "      <th>11</th>\n",
       "      <td>Initial data</td>\n",
       "      <td>Full RAW data</td>\n",
       "      <td>0.550166</td>\n",
       "      <td>NaN</td>\n",
       "    </tr>\n",
       "  </tbody>\n",
       "</table>\n",
       "</div>"
      ],
      "text/plain": [
       "            Step Group                      Step name LGBM CV3 ROC AUC  \\\n",
       "0       Missing Values  Drop Columns with 90% of NaNs          0.66233   \n",
       "1       Missing Values  Drop Columns with 80% of NaNs         0.670116   \n",
       "2       Missing Values  Drop Columns with 70% of NaNs         0.670116   \n",
       "3       Missing Values  Drop Columns with 60% of NaNs         0.663972   \n",
       "4       Missing Values  Drop Columns with 50% of NaNs         0.648425   \n",
       "5       Missing Values  Drop Columns with 40% of NaNs         0.660244   \n",
       "6       Missing Values  Drop Columns with 30% of NaNs         0.660244   \n",
       "7   Train / Test Split      X_train RAW (split:90/10)           0.7246   \n",
       "8   Train / Test Split      X_train RAW (split:80/20)         0.671413   \n",
       "9   Train / Test Split      X_train RAW (split:70/30)           0.6318   \n",
       "10  Train / Test Split      X_train RAW (split:60/40)         0.601843   \n",
       "11        Initial data                  Full RAW data         0.550166   \n",
       "\n",
       "                                Comment  \n",
       "0                                   NaN  \n",
       "1                                   NaN  \n",
       "2   Best cutoff by score/amount of data  \n",
       "3                                   NaN  \n",
       "4                                   NaN  \n",
       "5                                   NaN  \n",
       "6                                   NaN  \n",
       "7                         Best by score  \n",
       "8                       More confidence  \n",
       "9                                   NaN  \n",
       "10                                  NaN  \n",
       "11                                  NaN  "
      ]
     },
     "execution_count": 372,
     "metadata": {},
     "output_type": "execute_result"
    }
   ],
   "source": [
    "evo.get_history()"
   ]
  },
  {
   "cell_type": "markdown",
   "metadata": {},
   "source": [
    "### Missing Values Imputation"
   ]
  },
  {
   "cell_type": "code",
   "execution_count": 373,
   "metadata": {},
   "outputs": [
    {
     "name": "stdout",
     "output_type": "stream",
     "text": [
      "CrossValidation(3) ROC AUC for step \"Impute NaNs by median\":0.6839889925993933\n",
      "CrossValidation(3) ROC AUC for step \"Impute NaNs by mean\":0.6632420340860238\n",
      "CrossValidation(3) ROC AUC for step \"Impute NaNs by mode\":0.6767086123437359\n"
     ]
    }
   ],
   "source": [
    "nan_cols = X_train.columns[X_train.isna().any()]\n",
    "if len(nan_cols)>0:\n",
    "    for strategy in ['median','mean','mode']:\n",
    "        step_name = 'Impute NaNs by {}'.format(strategy)\n",
    "        step_df = kt.df_impute(X_train[nan_cols],strategy=strategy)    \n",
    "        score = evo.test(step_df,y_train,step_group,step_name)\n",
    "        print('CrossValidation(3) ROC AUC for step \"{}\":{}'.format(step_name,score))\n",
    "else:\n",
    "    print('DataFrame has no missed values')"
   ]
  },
  {
   "cell_type": "code",
   "execution_count": 374,
   "metadata": {},
   "outputs": [
    {
     "data": {
      "text/html": [
       "<div>\n",
       "<style scoped>\n",
       "    .dataframe tbody tr th:only-of-type {\n",
       "        vertical-align: middle;\n",
       "    }\n",
       "\n",
       "    .dataframe tbody tr th {\n",
       "        vertical-align: top;\n",
       "    }\n",
       "\n",
       "    .dataframe thead th {\n",
       "        text-align: right;\n",
       "    }\n",
       "</style>\n",
       "<table border=\"1\" class=\"dataframe\">\n",
       "  <thead>\n",
       "    <tr style=\"text-align: right;\">\n",
       "      <th></th>\n",
       "      <th>Step Group</th>\n",
       "      <th>Step name</th>\n",
       "      <th>LGBM CV3 ROC AUC</th>\n",
       "      <th>Comment</th>\n",
       "    </tr>\n",
       "  </thead>\n",
       "  <tbody>\n",
       "    <tr>\n",
       "      <th>0</th>\n",
       "      <td>Missing Values</td>\n",
       "      <td>Impute NaNs by mode</td>\n",
       "      <td>0.676709</td>\n",
       "      <td>NaN</td>\n",
       "    </tr>\n",
       "    <tr>\n",
       "      <th>1</th>\n",
       "      <td>Missing Values</td>\n",
       "      <td>Impute NaNs by mean</td>\n",
       "      <td>0.663242</td>\n",
       "      <td>NaN</td>\n",
       "    </tr>\n",
       "    <tr>\n",
       "      <th>2</th>\n",
       "      <td>Missing Values</td>\n",
       "      <td>Impute NaNs by median</td>\n",
       "      <td>0.683989</td>\n",
       "      <td>Best by score</td>\n",
       "    </tr>\n",
       "    <tr>\n",
       "      <th>3</th>\n",
       "      <td>Missing Values</td>\n",
       "      <td>Drop Columns with 90% of NaNs</td>\n",
       "      <td>0.66233</td>\n",
       "      <td>NaN</td>\n",
       "    </tr>\n",
       "    <tr>\n",
       "      <th>4</th>\n",
       "      <td>Missing Values</td>\n",
       "      <td>Drop Columns with 80% of NaNs</td>\n",
       "      <td>0.670116</td>\n",
       "      <td>NaN</td>\n",
       "    </tr>\n",
       "    <tr>\n",
       "      <th>5</th>\n",
       "      <td>Missing Values</td>\n",
       "      <td>Drop Columns with 70% of NaNs</td>\n",
       "      <td>0.670116</td>\n",
       "      <td>Best cutoff by score/amount of data</td>\n",
       "    </tr>\n",
       "    <tr>\n",
       "      <th>6</th>\n",
       "      <td>Missing Values</td>\n",
       "      <td>Drop Columns with 60% of NaNs</td>\n",
       "      <td>0.663972</td>\n",
       "      <td>NaN</td>\n",
       "    </tr>\n",
       "    <tr>\n",
       "      <th>7</th>\n",
       "      <td>Missing Values</td>\n",
       "      <td>Drop Columns with 50% of NaNs</td>\n",
       "      <td>0.648425</td>\n",
       "      <td>NaN</td>\n",
       "    </tr>\n",
       "    <tr>\n",
       "      <th>8</th>\n",
       "      <td>Missing Values</td>\n",
       "      <td>Drop Columns with 40% of NaNs</td>\n",
       "      <td>0.660244</td>\n",
       "      <td>NaN</td>\n",
       "    </tr>\n",
       "    <tr>\n",
       "      <th>9</th>\n",
       "      <td>Missing Values</td>\n",
       "      <td>Drop Columns with 30% of NaNs</td>\n",
       "      <td>0.660244</td>\n",
       "      <td>NaN</td>\n",
       "    </tr>\n",
       "    <tr>\n",
       "      <th>10</th>\n",
       "      <td>Train / Test Split</td>\n",
       "      <td>X_train RAW (split:90/10)</td>\n",
       "      <td>0.7246</td>\n",
       "      <td>Best by score</td>\n",
       "    </tr>\n",
       "    <tr>\n",
       "      <th>11</th>\n",
       "      <td>Train / Test Split</td>\n",
       "      <td>X_train RAW (split:80/20)</td>\n",
       "      <td>0.671413</td>\n",
       "      <td>More confidence</td>\n",
       "    </tr>\n",
       "    <tr>\n",
       "      <th>12</th>\n",
       "      <td>Train / Test Split</td>\n",
       "      <td>X_train RAW (split:70/30)</td>\n",
       "      <td>0.6318</td>\n",
       "      <td>NaN</td>\n",
       "    </tr>\n",
       "    <tr>\n",
       "      <th>13</th>\n",
       "      <td>Train / Test Split</td>\n",
       "      <td>X_train RAW (split:60/40)</td>\n",
       "      <td>0.601843</td>\n",
       "      <td>NaN</td>\n",
       "    </tr>\n",
       "    <tr>\n",
       "      <th>14</th>\n",
       "      <td>Initial data</td>\n",
       "      <td>Full RAW data</td>\n",
       "      <td>0.550166</td>\n",
       "      <td>NaN</td>\n",
       "    </tr>\n",
       "  </tbody>\n",
       "</table>\n",
       "</div>"
      ],
      "text/plain": [
       "            Step Group                      Step name LGBM CV3 ROC AUC  \\\n",
       "0       Missing Values            Impute NaNs by mode         0.676709   \n",
       "1       Missing Values            Impute NaNs by mean         0.663242   \n",
       "2       Missing Values          Impute NaNs by median         0.683989   \n",
       "3       Missing Values  Drop Columns with 90% of NaNs          0.66233   \n",
       "4       Missing Values  Drop Columns with 80% of NaNs         0.670116   \n",
       "5       Missing Values  Drop Columns with 70% of NaNs         0.670116   \n",
       "6       Missing Values  Drop Columns with 60% of NaNs         0.663972   \n",
       "7       Missing Values  Drop Columns with 50% of NaNs         0.648425   \n",
       "8       Missing Values  Drop Columns with 40% of NaNs         0.660244   \n",
       "9       Missing Values  Drop Columns with 30% of NaNs         0.660244   \n",
       "10  Train / Test Split      X_train RAW (split:90/10)           0.7246   \n",
       "11  Train / Test Split      X_train RAW (split:80/20)         0.671413   \n",
       "12  Train / Test Split      X_train RAW (split:70/30)           0.6318   \n",
       "13  Train / Test Split      X_train RAW (split:60/40)         0.601843   \n",
       "14        Initial data                  Full RAW data         0.550166   \n",
       "\n",
       "                                Comment  \n",
       "0                                   NaN  \n",
       "1                                   NaN  \n",
       "2                         Best by score  \n",
       "3                                   NaN  \n",
       "4                                   NaN  \n",
       "5   Best cutoff by score/amount of data  \n",
       "6                                   NaN  \n",
       "7                                   NaN  \n",
       "8                                   NaN  \n",
       "9                                   NaN  \n",
       "10                        Best by score  \n",
       "11                      More confidence  \n",
       "12                                  NaN  \n",
       "13                                  NaN  \n",
       "14                                  NaN  "
      ]
     },
     "execution_count": 374,
     "metadata": {},
     "output_type": "execute_result"
    }
   ],
   "source": [
    "evo.add_step_comment('Impute NaNs by median','Best by score')\n",
    "\n",
    "nan_cols = X_train.columns[X_train.isna().any()]\n",
    "if len(nan_cols)>0:\n",
    "    X_train[nan_cols] = kt.df_impute(X_train[nan_cols],strategy='median')\n",
    "\n",
    "nan_cols = list(X_test.columns[X_test.isna().any()])\n",
    "if len(nan_cols)>0:\n",
    "    X_test[nan_cols] = kt.df_impute(X_test[nan_cols],strategy='median')\n",
    "    \n",
    "evo.get_history()"
   ]
  },
  {
   "cell_type": "markdown",
   "metadata": {},
   "source": [
    "## Constant Values"
   ]
  },
  {
   "cell_type": "code",
   "execution_count": 375,
   "metadata": {},
   "outputs": [],
   "source": [
    "step_group = 'Constant Values'"
   ]
  },
  {
   "cell_type": "markdown",
   "metadata": {},
   "source": [
    "### Constant Values Exploring "
   ]
  },
  {
   "cell_type": "code",
   "execution_count": 376,
   "metadata": {},
   "outputs": [
    {
     "name": "stdout",
     "output_type": "stream",
     "text": [
      "Count of columns with constant value: 122\n"
     ]
    }
   ],
   "source": [
    "const_cols = X_train.columns[(((X_train == X_train.iloc[0]).all())|\\\n",
    "                              (X_test == X_test.iloc[0]).all())]\n",
    "print('Count of columns with constant value:',len(const_cols))"
   ]
  },
  {
   "cell_type": "markdown",
   "metadata": {},
   "source": [
    "### Constant Values Columns Drop"
   ]
  },
  {
   "cell_type": "code",
   "execution_count": 377,
   "metadata": {},
   "outputs": [
    {
     "name": "stdout",
     "output_type": "stream",
     "text": [
      "CrossValidation(3) ROC AUC for step \"Before drop columns with constant values\":0.6767086123437359\n",
      "CrossValidation(3) ROC AUC for step \"After drop columns with constant values\":0.6673965263053071\n"
     ]
    }
   ],
   "source": [
    "step_name = 'Before drop columns with constant values'\n",
    "score = evo.test(step_df,y_train,step_group,step_name = step_name)\n",
    "print('CrossValidation(3) ROC AUC for step \"{}\":{}'.format(step_name,score))\n",
    "\n",
    "step_df = X_train.drop(const_cols,axis=1)\n",
    "\n",
    "step_name = 'After drop columns with constant values'\n",
    "score = evo.test(step_df,y_train,step_group,step_name = 'X_train Drop constant values columns')\n",
    "print('CrossValidation(3) ROC AUC for step \"{}\":{}'.format(step_name,score))"
   ]
  },
  {
   "cell_type": "markdown",
   "metadata": {},
   "source": [
    "No changes without constant columns -> Drop"
   ]
  },
  {
   "cell_type": "code",
   "execution_count": 378,
   "metadata": {},
   "outputs": [],
   "source": [
    "X_train.drop(const_cols,axis=1,inplace=True)\n",
    "X_test.drop(const_cols,axis=1,inplace=True)"
   ]
  },
  {
   "cell_type": "markdown",
   "metadata": {},
   "source": [
    "## Correlation"
   ]
  },
  {
   "cell_type": "code",
   "execution_count": 379,
   "metadata": {
    "scrolled": true
   },
   "outputs": [
    {
     "name": "stdout",
     "output_type": "stream",
     "text": [
      "Most Positive Correlations:\n",
      " 103    0.166603\n",
      "59     0.164126\n",
      "510    0.147652\n",
      "431    0.140725\n",
      "434    0.128902\n",
      "dtype: float64\n",
      "\n",
      "Most Negative Correlations:\n",
      " 122   -0.089176\n",
      "26    -0.099154\n",
      "28    -0.100750\n",
      "316   -0.102978\n",
      "125   -0.103150\n",
      "dtype: float64\n"
     ]
    }
   ],
   "source": [
    "# Find correlations with the target and sort\n",
    "correlations = X_train.corrwith(y_train).sort_values(ascending = False)\n",
    "\n",
    "# Display correlations\n",
    "print('Most Positive Correlations:\\n', correlations.head(5))\n",
    "print('\\nMost Negative Correlations:\\n', correlations.tail(5))"
   ]
  },
  {
   "cell_type": "markdown",
   "metadata": {},
   "source": [
    "# Data Transformation"
   ]
  },
  {
   "cell_type": "markdown",
   "metadata": {},
   "source": [
    "## Normalization"
   ]
  },
  {
   "cell_type": "code",
   "execution_count": 380,
   "metadata": {},
   "outputs": [],
   "source": [
    "step_group = 'Normalization'"
   ]
  },
  {
   "cell_type": "code",
   "execution_count": 381,
   "metadata": {},
   "outputs": [],
   "source": [
    "_, cat_cols,num_cols = kt.df_feats_summary(X_train,[],verbose=False)"
   ]
  },
  {
   "cell_type": "code",
   "execution_count": 382,
   "metadata": {},
   "outputs": [
    {
     "name": "stdout",
     "output_type": "stream",
     "text": [
      "CrossValidation(3) ROC AUC for step \"Normalization of numeric columns with strategy = minmax\":0.6602132987469731\n",
      "CrossValidation(3) ROC AUC for step \"Normalization of numeric columns with strategy = standart\":0.6576241793633097\n"
     ]
    }
   ],
   "source": [
    "for strategy in ['minmax','standart']:\n",
    "    step_name = 'Normalization of numeric columns with strategy = {}'.format(strategy)\n",
    "    step_df = kt.df_scale(X_train[num_cols],strategy=strategy)   \n",
    "    score = evo.test(step_df,y_train,step_group,step_name)\n",
    "    print('CrossValidation(3) ROC AUC for step \"{}\":{}'.format(step_name,score))"
   ]
  },
  {
   "cell_type": "code",
   "execution_count": 383,
   "metadata": {
    "scrolled": true
   },
   "outputs": [
    {
     "name": "stdout",
     "output_type": "stream",
     "text": [
      "CrossValidation(3) ROC AUC on X_train: 0.657624179363\n"
     ]
    }
   ],
   "source": [
    "evo.add_step_comment('Normalization of numeric columns with strategy = minmax','Best by score')\n",
    "\n",
    "X_train[num_cols] = kt.df_scale(X_train[num_cols],strategy='minmax')\n",
    "X_test[num_cols] = kt.df_scale(X_test[num_cols],strategy='minmax')\n",
    "\n",
    "print('CrossValidation(3) ROC AUC on X_train:',score)"
   ]
  },
  {
   "cell_type": "code",
   "execution_count": 384,
   "metadata": {},
   "outputs": [
    {
     "data": {
      "text/html": [
       "<div>\n",
       "<style scoped>\n",
       "    .dataframe tbody tr th:only-of-type {\n",
       "        vertical-align: middle;\n",
       "    }\n",
       "\n",
       "    .dataframe tbody tr th {\n",
       "        vertical-align: top;\n",
       "    }\n",
       "\n",
       "    .dataframe thead th {\n",
       "        text-align: right;\n",
       "    }\n",
       "</style>\n",
       "<table border=\"1\" class=\"dataframe\">\n",
       "  <thead>\n",
       "    <tr style=\"text-align: right;\">\n",
       "      <th></th>\n",
       "      <th>Step Group</th>\n",
       "      <th>Step name</th>\n",
       "      <th>LGBM CV3 ROC AUC</th>\n",
       "      <th>Comment</th>\n",
       "    </tr>\n",
       "  </thead>\n",
       "  <tbody>\n",
       "    <tr>\n",
       "      <th>0</th>\n",
       "      <td>Normalization</td>\n",
       "      <td>Normalization of numeric columns with strategy...</td>\n",
       "      <td>0.657624</td>\n",
       "      <td>NaN</td>\n",
       "    </tr>\n",
       "    <tr>\n",
       "      <th>1</th>\n",
       "      <td>Normalization</td>\n",
       "      <td>Normalization of numeric columns with strategy...</td>\n",
       "      <td>0.660213</td>\n",
       "      <td>Best by score</td>\n",
       "    </tr>\n",
       "    <tr>\n",
       "      <th>2</th>\n",
       "      <td>Constant Values</td>\n",
       "      <td>X_train Drop constant values columns</td>\n",
       "      <td>0.667397</td>\n",
       "      <td>NaN</td>\n",
       "    </tr>\n",
       "    <tr>\n",
       "      <th>3</th>\n",
       "      <td>Constant Values</td>\n",
       "      <td>Before drop columns with constant values</td>\n",
       "      <td>0.676709</td>\n",
       "      <td>NaN</td>\n",
       "    </tr>\n",
       "    <tr>\n",
       "      <th>4</th>\n",
       "      <td>Missing Values</td>\n",
       "      <td>Impute NaNs by mode</td>\n",
       "      <td>0.676709</td>\n",
       "      <td>NaN</td>\n",
       "    </tr>\n",
       "    <tr>\n",
       "      <th>5</th>\n",
       "      <td>Missing Values</td>\n",
       "      <td>Impute NaNs by mean</td>\n",
       "      <td>0.663242</td>\n",
       "      <td>NaN</td>\n",
       "    </tr>\n",
       "    <tr>\n",
       "      <th>6</th>\n",
       "      <td>Missing Values</td>\n",
       "      <td>Impute NaNs by median</td>\n",
       "      <td>0.683989</td>\n",
       "      <td>Best by score</td>\n",
       "    </tr>\n",
       "    <tr>\n",
       "      <th>7</th>\n",
       "      <td>Missing Values</td>\n",
       "      <td>Drop Columns with 90% of NaNs</td>\n",
       "      <td>0.66233</td>\n",
       "      <td>NaN</td>\n",
       "    </tr>\n",
       "    <tr>\n",
       "      <th>8</th>\n",
       "      <td>Missing Values</td>\n",
       "      <td>Drop Columns with 80% of NaNs</td>\n",
       "      <td>0.670116</td>\n",
       "      <td>NaN</td>\n",
       "    </tr>\n",
       "    <tr>\n",
       "      <th>9</th>\n",
       "      <td>Missing Values</td>\n",
       "      <td>Drop Columns with 70% of NaNs</td>\n",
       "      <td>0.670116</td>\n",
       "      <td>Best cutoff by score/amount of data</td>\n",
       "    </tr>\n",
       "    <tr>\n",
       "      <th>10</th>\n",
       "      <td>Missing Values</td>\n",
       "      <td>Drop Columns with 60% of NaNs</td>\n",
       "      <td>0.663972</td>\n",
       "      <td>NaN</td>\n",
       "    </tr>\n",
       "    <tr>\n",
       "      <th>11</th>\n",
       "      <td>Missing Values</td>\n",
       "      <td>Drop Columns with 50% of NaNs</td>\n",
       "      <td>0.648425</td>\n",
       "      <td>NaN</td>\n",
       "    </tr>\n",
       "    <tr>\n",
       "      <th>12</th>\n",
       "      <td>Missing Values</td>\n",
       "      <td>Drop Columns with 40% of NaNs</td>\n",
       "      <td>0.660244</td>\n",
       "      <td>NaN</td>\n",
       "    </tr>\n",
       "    <tr>\n",
       "      <th>13</th>\n",
       "      <td>Missing Values</td>\n",
       "      <td>Drop Columns with 30% of NaNs</td>\n",
       "      <td>0.660244</td>\n",
       "      <td>NaN</td>\n",
       "    </tr>\n",
       "    <tr>\n",
       "      <th>14</th>\n",
       "      <td>Train / Test Split</td>\n",
       "      <td>X_train RAW (split:90/10)</td>\n",
       "      <td>0.7246</td>\n",
       "      <td>Best by score</td>\n",
       "    </tr>\n",
       "    <tr>\n",
       "      <th>15</th>\n",
       "      <td>Train / Test Split</td>\n",
       "      <td>X_train RAW (split:80/20)</td>\n",
       "      <td>0.671413</td>\n",
       "      <td>More confidence</td>\n",
       "    </tr>\n",
       "    <tr>\n",
       "      <th>16</th>\n",
       "      <td>Train / Test Split</td>\n",
       "      <td>X_train RAW (split:70/30)</td>\n",
       "      <td>0.6318</td>\n",
       "      <td>NaN</td>\n",
       "    </tr>\n",
       "    <tr>\n",
       "      <th>17</th>\n",
       "      <td>Train / Test Split</td>\n",
       "      <td>X_train RAW (split:60/40)</td>\n",
       "      <td>0.601843</td>\n",
       "      <td>NaN</td>\n",
       "    </tr>\n",
       "    <tr>\n",
       "      <th>18</th>\n",
       "      <td>Initial data</td>\n",
       "      <td>Full RAW data</td>\n",
       "      <td>0.550166</td>\n",
       "      <td>NaN</td>\n",
       "    </tr>\n",
       "  </tbody>\n",
       "</table>\n",
       "</div>"
      ],
      "text/plain": [
       "            Step Group                                          Step name  \\\n",
       "0        Normalization  Normalization of numeric columns with strategy...   \n",
       "1        Normalization  Normalization of numeric columns with strategy...   \n",
       "2      Constant Values               X_train Drop constant values columns   \n",
       "3      Constant Values           Before drop columns with constant values   \n",
       "4       Missing Values                                Impute NaNs by mode   \n",
       "5       Missing Values                                Impute NaNs by mean   \n",
       "6       Missing Values                              Impute NaNs by median   \n",
       "7       Missing Values                      Drop Columns with 90% of NaNs   \n",
       "8       Missing Values                      Drop Columns with 80% of NaNs   \n",
       "9       Missing Values                      Drop Columns with 70% of NaNs   \n",
       "10      Missing Values                      Drop Columns with 60% of NaNs   \n",
       "11      Missing Values                      Drop Columns with 50% of NaNs   \n",
       "12      Missing Values                      Drop Columns with 40% of NaNs   \n",
       "13      Missing Values                      Drop Columns with 30% of NaNs   \n",
       "14  Train / Test Split                          X_train RAW (split:90/10)   \n",
       "15  Train / Test Split                          X_train RAW (split:80/20)   \n",
       "16  Train / Test Split                          X_train RAW (split:70/30)   \n",
       "17  Train / Test Split                          X_train RAW (split:60/40)   \n",
       "18        Initial data                                      Full RAW data   \n",
       "\n",
       "   LGBM CV3 ROC AUC                              Comment  \n",
       "0          0.657624                                  NaN  \n",
       "1          0.660213                        Best by score  \n",
       "2          0.667397                                  NaN  \n",
       "3          0.676709                                  NaN  \n",
       "4          0.676709                                  NaN  \n",
       "5          0.663242                                  NaN  \n",
       "6          0.683989                        Best by score  \n",
       "7           0.66233                                  NaN  \n",
       "8          0.670116                                  NaN  \n",
       "9          0.670116  Best cutoff by score/amount of data  \n",
       "10         0.663972                                  NaN  \n",
       "11         0.648425                                  NaN  \n",
       "12         0.660244                                  NaN  \n",
       "13         0.660244                                  NaN  \n",
       "14           0.7246                        Best by score  \n",
       "15         0.671413                      More confidence  \n",
       "16           0.6318                                  NaN  \n",
       "17         0.601843                                  NaN  \n",
       "18         0.550166                                  NaN  "
      ]
     },
     "execution_count": 384,
     "metadata": {},
     "output_type": "execute_result"
    }
   ],
   "source": [
    "evo.get_history()"
   ]
  },
  {
   "cell_type": "markdown",
   "metadata": {},
   "source": [
    "# Over Sampling"
   ]
  },
  {
   "cell_type": "code",
   "execution_count": 385,
   "metadata": {},
   "outputs": [],
   "source": [
    "step_group = 'Oversampling'"
   ]
  },
  {
   "cell_type": "code",
   "execution_count": 393,
   "metadata": {},
   "outputs": [
    {
     "name": "stdout",
     "output_type": "stream",
     "text": [
      "CrossValidation(3) ROC AUC for step \"Oversampling with strategy SMOTE\":0.9989577950606462\n"
     ]
    }
   ],
   "source": [
    "step_name = 'Oversampling with strategy SMOTE'\n",
    "\n",
    "step_df_x, step_df_y = SMOTE(random_state = 0).fit_resample(X_train,y_train) \n",
    "step_df_x = pd.DataFrame(step_df_x)\n",
    "step_df_y = pd.Series(step_df_y)\n",
    "score = evo.test(step_df_x,step_df_y,step_group,step_name)\n",
    "print('CrossValidation(3) ROC AUC for step \"{}\":{}'.format(step_name,score))"
   ]
  },
  {
   "cell_type": "code",
   "execution_count": 394,
   "metadata": {},
   "outputs": [],
   "source": [
    "evo.add_step_comment('Oversampling with strategy SMOTE','Overfitting')"
   ]
  },
  {
   "cell_type": "markdown",
   "metadata": {},
   "source": [
    "Since classificator was overfitted oversampling is not appliying to X_train dataset"
   ]
  },
  {
   "cell_type": "markdown",
   "metadata": {},
   "source": [
    "# Progress Overview"
   ]
  },
  {
   "cell_type": "code",
   "execution_count": 395,
   "metadata": {},
   "outputs": [
    {
     "data": {
      "text/html": [
       "<div>\n",
       "<style scoped>\n",
       "    .dataframe tbody tr th:only-of-type {\n",
       "        vertical-align: middle;\n",
       "    }\n",
       "\n",
       "    .dataframe tbody tr th {\n",
       "        vertical-align: top;\n",
       "    }\n",
       "\n",
       "    .dataframe thead th {\n",
       "        text-align: right;\n",
       "    }\n",
       "</style>\n",
       "<table border=\"1\" class=\"dataframe\">\n",
       "  <thead>\n",
       "    <tr style=\"text-align: right;\">\n",
       "      <th></th>\n",
       "      <th>Step Group</th>\n",
       "      <th>Step name</th>\n",
       "      <th>LGBM CV3 ROC AUC</th>\n",
       "      <th>Comment</th>\n",
       "    </tr>\n",
       "  </thead>\n",
       "  <tbody>\n",
       "    <tr>\n",
       "      <th>0</th>\n",
       "      <td>Oversampling</td>\n",
       "      <td>Oversampling with strategy SMOTE</td>\n",
       "      <td>0.998958</td>\n",
       "      <td>Overfitting</td>\n",
       "    </tr>\n",
       "    <tr>\n",
       "      <th>1</th>\n",
       "      <td>Normalization</td>\n",
       "      <td>Normalization of numeric columns with strategy...</td>\n",
       "      <td>0.657624</td>\n",
       "      <td>NaN</td>\n",
       "    </tr>\n",
       "    <tr>\n",
       "      <th>2</th>\n",
       "      <td>Normalization</td>\n",
       "      <td>Normalization of numeric columns with strategy...</td>\n",
       "      <td>0.660213</td>\n",
       "      <td>Best by score</td>\n",
       "    </tr>\n",
       "    <tr>\n",
       "      <th>3</th>\n",
       "      <td>Constant Values</td>\n",
       "      <td>X_train Drop constant values columns</td>\n",
       "      <td>0.667397</td>\n",
       "      <td>NaN</td>\n",
       "    </tr>\n",
       "    <tr>\n",
       "      <th>4</th>\n",
       "      <td>Constant Values</td>\n",
       "      <td>Before drop columns with constant values</td>\n",
       "      <td>0.676709</td>\n",
       "      <td>NaN</td>\n",
       "    </tr>\n",
       "    <tr>\n",
       "      <th>5</th>\n",
       "      <td>Missing Values</td>\n",
       "      <td>Impute NaNs by mode</td>\n",
       "      <td>0.676709</td>\n",
       "      <td>NaN</td>\n",
       "    </tr>\n",
       "    <tr>\n",
       "      <th>6</th>\n",
       "      <td>Missing Values</td>\n",
       "      <td>Impute NaNs by mean</td>\n",
       "      <td>0.663242</td>\n",
       "      <td>NaN</td>\n",
       "    </tr>\n",
       "    <tr>\n",
       "      <th>7</th>\n",
       "      <td>Missing Values</td>\n",
       "      <td>Impute NaNs by median</td>\n",
       "      <td>0.683989</td>\n",
       "      <td>Best by score</td>\n",
       "    </tr>\n",
       "    <tr>\n",
       "      <th>8</th>\n",
       "      <td>Missing Values</td>\n",
       "      <td>Drop Columns with 90% of NaNs</td>\n",
       "      <td>0.66233</td>\n",
       "      <td>NaN</td>\n",
       "    </tr>\n",
       "    <tr>\n",
       "      <th>9</th>\n",
       "      <td>Missing Values</td>\n",
       "      <td>Drop Columns with 80% of NaNs</td>\n",
       "      <td>0.670116</td>\n",
       "      <td>NaN</td>\n",
       "    </tr>\n",
       "    <tr>\n",
       "      <th>10</th>\n",
       "      <td>Missing Values</td>\n",
       "      <td>Drop Columns with 70% of NaNs</td>\n",
       "      <td>0.670116</td>\n",
       "      <td>Best cutoff by score/amount of data</td>\n",
       "    </tr>\n",
       "    <tr>\n",
       "      <th>11</th>\n",
       "      <td>Missing Values</td>\n",
       "      <td>Drop Columns with 60% of NaNs</td>\n",
       "      <td>0.663972</td>\n",
       "      <td>NaN</td>\n",
       "    </tr>\n",
       "    <tr>\n",
       "      <th>12</th>\n",
       "      <td>Missing Values</td>\n",
       "      <td>Drop Columns with 50% of NaNs</td>\n",
       "      <td>0.648425</td>\n",
       "      <td>NaN</td>\n",
       "    </tr>\n",
       "    <tr>\n",
       "      <th>13</th>\n",
       "      <td>Missing Values</td>\n",
       "      <td>Drop Columns with 40% of NaNs</td>\n",
       "      <td>0.660244</td>\n",
       "      <td>NaN</td>\n",
       "    </tr>\n",
       "    <tr>\n",
       "      <th>14</th>\n",
       "      <td>Missing Values</td>\n",
       "      <td>Drop Columns with 30% of NaNs</td>\n",
       "      <td>0.660244</td>\n",
       "      <td>NaN</td>\n",
       "    </tr>\n",
       "    <tr>\n",
       "      <th>15</th>\n",
       "      <td>Train / Test Split</td>\n",
       "      <td>X_train RAW (split:90/10)</td>\n",
       "      <td>0.7246</td>\n",
       "      <td>Best by score</td>\n",
       "    </tr>\n",
       "    <tr>\n",
       "      <th>16</th>\n",
       "      <td>Train / Test Split</td>\n",
       "      <td>X_train RAW (split:80/20)</td>\n",
       "      <td>0.671413</td>\n",
       "      <td>More confidence</td>\n",
       "    </tr>\n",
       "    <tr>\n",
       "      <th>17</th>\n",
       "      <td>Train / Test Split</td>\n",
       "      <td>X_train RAW (split:70/30)</td>\n",
       "      <td>0.6318</td>\n",
       "      <td>NaN</td>\n",
       "    </tr>\n",
       "    <tr>\n",
       "      <th>18</th>\n",
       "      <td>Train / Test Split</td>\n",
       "      <td>X_train RAW (split:60/40)</td>\n",
       "      <td>0.601843</td>\n",
       "      <td>NaN</td>\n",
       "    </tr>\n",
       "    <tr>\n",
       "      <th>19</th>\n",
       "      <td>Initial data</td>\n",
       "      <td>Full RAW data</td>\n",
       "      <td>0.550166</td>\n",
       "      <td>NaN</td>\n",
       "    </tr>\n",
       "  </tbody>\n",
       "</table>\n",
       "</div>"
      ],
      "text/plain": [
       "            Step Group                                          Step name  \\\n",
       "0         Oversampling                   Oversampling with strategy SMOTE   \n",
       "1        Normalization  Normalization of numeric columns with strategy...   \n",
       "2        Normalization  Normalization of numeric columns with strategy...   \n",
       "3      Constant Values               X_train Drop constant values columns   \n",
       "4      Constant Values           Before drop columns with constant values   \n",
       "5       Missing Values                                Impute NaNs by mode   \n",
       "6       Missing Values                                Impute NaNs by mean   \n",
       "7       Missing Values                              Impute NaNs by median   \n",
       "8       Missing Values                      Drop Columns with 90% of NaNs   \n",
       "9       Missing Values                      Drop Columns with 80% of NaNs   \n",
       "10      Missing Values                      Drop Columns with 70% of NaNs   \n",
       "11      Missing Values                      Drop Columns with 60% of NaNs   \n",
       "12      Missing Values                      Drop Columns with 50% of NaNs   \n",
       "13      Missing Values                      Drop Columns with 40% of NaNs   \n",
       "14      Missing Values                      Drop Columns with 30% of NaNs   \n",
       "15  Train / Test Split                          X_train RAW (split:90/10)   \n",
       "16  Train / Test Split                          X_train RAW (split:80/20)   \n",
       "17  Train / Test Split                          X_train RAW (split:70/30)   \n",
       "18  Train / Test Split                          X_train RAW (split:60/40)   \n",
       "19        Initial data                                      Full RAW data   \n",
       "\n",
       "   LGBM CV3 ROC AUC                              Comment  \n",
       "0          0.998958                          Overfitting  \n",
       "1          0.657624                                  NaN  \n",
       "2          0.660213                        Best by score  \n",
       "3          0.667397                                  NaN  \n",
       "4          0.676709                                  NaN  \n",
       "5          0.676709                                  NaN  \n",
       "6          0.663242                                  NaN  \n",
       "7          0.683989                        Best by score  \n",
       "8           0.66233                                  NaN  \n",
       "9          0.670116                                  NaN  \n",
       "10         0.670116  Best cutoff by score/amount of data  \n",
       "11         0.663972                                  NaN  \n",
       "12         0.648425                                  NaN  \n",
       "13         0.660244                                  NaN  \n",
       "14         0.660244                                  NaN  \n",
       "15           0.7246                        Best by score  \n",
       "16         0.671413                      More confidence  \n",
       "17           0.6318                                  NaN  \n",
       "18         0.601843                                  NaN  \n",
       "19         0.550166                                  NaN  "
      ]
     },
     "execution_count": 395,
     "metadata": {},
     "output_type": "execute_result"
    }
   ],
   "source": [
    "evo.get_history()"
   ]
  },
  {
   "cell_type": "markdown",
   "metadata": {},
   "source": [
    "# Training"
   ]
  },
  {
   "cell_type": "code",
   "execution_count": 396,
   "metadata": {},
   "outputs": [],
   "source": [
    "lgbm = LGBMClassifier(random_state = 0)\n",
    "lgbm.fit(X_train,y_train);"
   ]
  },
  {
   "cell_type": "markdown",
   "metadata": {},
   "source": [
    "# Prediction"
   ]
  },
  {
   "cell_type": "code",
   "execution_count": 399,
   "metadata": {
    "scrolled": false
   },
   "outputs": [
    {
     "name": "stdout",
     "output_type": "stream",
     "text": [
      "Confusion matrix:\n",
      " [[290  24]\n",
      " [  0   0]]\n"
     ]
    }
   ],
   "source": [
    "y_pred = lgbm.predict(X_test)\n",
    "print('Confusion matrix:\\n',confusion_matrix(y_pred,y_test))"
   ]
  },
  {
   "cell_type": "code",
   "execution_count": 401,
   "metadata": {},
   "outputs": [],
   "source": [
    "#print('ROC AUC score on X_test:{}'.format(roc_auc_score(y_pred,y_test)))"
   ]
  }
 ],
 "metadata": {
  "kernelspec": {
   "display_name": "Python 3",
   "language": "python",
   "name": "python3"
  },
  "language_info": {
   "codemirror_mode": {
    "name": "ipython",
    "version": 3
   },
   "file_extension": ".py",
   "mimetype": "text/x-python",
   "name": "python",
   "nbconvert_exporter": "python",
   "pygments_lexer": "ipython3",
   "version": "3.6.3"
  },
  "toc": {
   "base_numbering": 1,
   "nav_menu": {},
   "number_sections": true,
   "sideBar": true,
   "skip_h1_title": false,
   "title_cell": "Table of Contents",
   "title_sidebar": "Contents",
   "toc_cell": false,
   "toc_position": {
    "height": "calc(100% - 180px)",
    "left": "10px",
    "top": "150px",
    "width": "273.2px"
   },
   "toc_section_display": true,
   "toc_window_display": true
  }
 },
 "nbformat": 4,
 "nbformat_minor": 2
}
