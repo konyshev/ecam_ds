{
 "cells": [
  {
   "cell_type": "markdown",
   "metadata": {},
   "source": [
    "# Imports & Setups"
   ]
  },
  {
   "cell_type": "code",
   "execution_count": 27,
   "metadata": {
    "scrolled": true
   },
   "outputs": [],
   "source": [
    "import pandas as pd\n",
    "import numpy as np\n",
    "import itertools\n",
    "\n",
    "from sklearn.model_selection import train_test_split\n",
    "from sklearn.metrics import confusion_matrix,roc_auc_score\n",
    "from lightgbm import LGBMClassifier\n",
    "from imblearn.over_sampling import SMOTE\n",
    "\n",
    "import warnings \n",
    "\n",
    "import lib.kotools as kt"
   ]
  },
  {
   "cell_type": "code",
   "execution_count": 28,
   "metadata": {},
   "outputs": [
    {
     "name": "stdout",
     "output_type": "stream",
     "text": [
      "The autoreload extension is already loaded. To reload it, use:\n",
      "  %reload_ext autoreload\n"
     ]
    }
   ],
   "source": [
    "%load_ext autoreload\n",
    "%autoreload 2\n",
    "sns.set()\n",
    "warnings.simplefilter('ignore')\n",
    "pd.set_option('display.max_columns', 7)"
   ]
  },
  {
   "cell_type": "markdown",
   "metadata": {},
   "source": [
    "# Load data"
   ]
  },
  {
   "cell_type": "markdown",
   "metadata": {},
   "source": [
    "Data source is https://archive.ics.uci.edu/ml/datasets/SECOM"
   ]
  },
  {
   "cell_type": "code",
   "execution_count": 29,
   "metadata": {},
   "outputs": [
    {
     "data": {
      "text/plain": [
       "(1567, 591)"
      ]
     },
     "execution_count": 29,
     "metadata": {},
     "output_type": "execute_result"
    }
   ],
   "source": [
    "df_raw = pd.read_csv('./input/secom.data',sep=' ',header=None)\n",
    "labels = pd.read_csv('./input/secom_labels.data',sep=' ',header=None,usecols=[0],squeeze = True)\n",
    "df_raw['TARGET'] = labels\n",
    "df_raw.shape"
   ]
  },
  {
   "cell_type": "code",
   "execution_count": 30,
   "metadata": {},
   "outputs": [],
   "source": [
    "evo = kt.DataFrameEvolution(df_raw)"
   ]
  },
  {
   "cell_type": "markdown",
   "metadata": {},
   "source": [
    "# Test on Raw data"
   ]
  },
  {
   "cell_type": "code",
   "execution_count": 31,
   "metadata": {},
   "outputs": [
    {
     "name": "stdout",
     "output_type": "stream",
     "text": [
      "CrossValidation(3) ROC AUC on full raw data: 0.550166155936\n"
     ]
    }
   ],
   "source": [
    "feats = [f for f in df_raw.columns if f not in ['TARGET']]\n",
    "score = evo.test(df_raw[feats],df_raw['TARGET'],comment = 'Full RAW data')\n",
    "print('CrossValidation(3) ROC AUC on full raw data:',score)"
   ]
  },
  {
   "cell_type": "markdown",
   "metadata": {},
   "source": [
    "# Train / test split"
   ]
  },
  {
   "cell_type": "code",
   "execution_count": 32,
   "metadata": {},
   "outputs": [
    {
     "name": "stdout",
     "output_type": "stream",
     "text": [
      "X_train shape:(1253, 590) \tX_test shape:(314, 590)\n",
      "CrossValidation(3) ROC AUC on X_train raw: 0.671412575931\n"
     ]
    }
   ],
   "source": [
    "df = df_raw\n",
    "X = df.copy()\n",
    "y = df['TARGET'].copy()\n",
    "X.drop(['TARGET'],axis=1,inplace=True) # Exclude target variable from X dataframe\n",
    "\n",
    "X_train, X_test, y_train, y_test = train_test_split(X,y, test_size=0.2, random_state=42)\n",
    "print('X_train shape:{} \\tX_test shape:{}'.format(X_train.shape,X_test.shape))\n",
    "\n",
    "score = evo.test(X_train,y_train,comment = 'X_train RAW')\n",
    "print('CrossValidation(3) ROC AUC on X_train raw:',score)"
   ]
  },
  {
   "cell_type": "markdown",
   "metadata": {},
   "source": [
    "# Exploratory data analysis"
   ]
  },
  {
   "cell_type": "markdown",
   "metadata": {},
   "source": [
    "## Missing Values"
   ]
  },
  {
   "cell_type": "markdown",
   "metadata": {},
   "source": [
    "### Missing Values Exploring"
   ]
  },
  {
   "cell_type": "markdown",
   "metadata": {},
   "source": [
    "For X_train:"
   ]
  },
  {
   "cell_type": "code",
   "execution_count": 33,
   "metadata": {
    "scrolled": false
   },
   "outputs": [
    {
     "data": {
      "text/html": [
       "<div>\n",
       "<style scoped>\n",
       "    .dataframe tbody tr th:only-of-type {\n",
       "        vertical-align: middle;\n",
       "    }\n",
       "\n",
       "    .dataframe tbody tr th {\n",
       "        vertical-align: top;\n",
       "    }\n",
       "\n",
       "    .dataframe thead th {\n",
       "        text-align: right;\n",
       "    }\n",
       "</style>\n",
       "<table border=\"1\" class=\"dataframe\">\n",
       "  <thead>\n",
       "    <tr style=\"text-align: right;\">\n",
       "      <th></th>\n",
       "      <th>count_missing</th>\n",
       "      <th>ratio_missing</th>\n",
       "    </tr>\n",
       "  </thead>\n",
       "  <tbody>\n",
       "    <tr>\n",
       "      <th>157</th>\n",
       "      <td>1138</td>\n",
       "      <td>0.908220</td>\n",
       "    </tr>\n",
       "    <tr>\n",
       "      <th>293</th>\n",
       "      <td>1138</td>\n",
       "      <td>0.908220</td>\n",
       "    </tr>\n",
       "    <tr>\n",
       "      <th>292</th>\n",
       "      <td>1138</td>\n",
       "      <td>0.908220</td>\n",
       "    </tr>\n",
       "    <tr>\n",
       "      <th>158</th>\n",
       "      <td>1138</td>\n",
       "      <td>0.908220</td>\n",
       "    </tr>\n",
       "    <tr>\n",
       "      <th>85</th>\n",
       "      <td>1070</td>\n",
       "      <td>0.853951</td>\n",
       "    </tr>\n",
       "    <tr>\n",
       "      <th>220</th>\n",
       "      <td>1070</td>\n",
       "      <td>0.853951</td>\n",
       "    </tr>\n",
       "    <tr>\n",
       "      <th>492</th>\n",
       "      <td>1070</td>\n",
       "      <td>0.853951</td>\n",
       "    </tr>\n",
       "    <tr>\n",
       "      <th>358</th>\n",
       "      <td>1070</td>\n",
       "      <td>0.853951</td>\n",
       "    </tr>\n",
       "    <tr>\n",
       "      <th>383</th>\n",
       "      <td>816</td>\n",
       "      <td>0.651237</td>\n",
       "    </tr>\n",
       "    <tr>\n",
       "      <th>110</th>\n",
       "      <td>816</td>\n",
       "      <td>0.651237</td>\n",
       "    </tr>\n",
       "  </tbody>\n",
       "</table>\n",
       "</div>"
      ],
      "text/plain": [
       "     count_missing  ratio_missing\n",
       "157           1138       0.908220\n",
       "293           1138       0.908220\n",
       "292           1138       0.908220\n",
       "158           1138       0.908220\n",
       "85            1070       0.853951\n",
       "220           1070       0.853951\n",
       "492           1070       0.853951\n",
       "358           1070       0.853951\n",
       "383            816       0.651237\n",
       "110            816       0.651237"
      ]
     },
     "execution_count": 33,
     "metadata": {},
     "output_type": "execute_result"
    }
   ],
   "source": [
    "kt.df_missing_report(X_train).sort_values(by='ratio_missing',ascending=False).head(10)"
   ]
  },
  {
   "cell_type": "markdown",
   "metadata": {},
   "source": [
    "For X_test:"
   ]
  },
  {
   "cell_type": "code",
   "execution_count": 34,
   "metadata": {},
   "outputs": [
    {
     "data": {
      "text/html": [
       "<div>\n",
       "<style scoped>\n",
       "    .dataframe tbody tr th:only-of-type {\n",
       "        vertical-align: middle;\n",
       "    }\n",
       "\n",
       "    .dataframe tbody tr th {\n",
       "        vertical-align: top;\n",
       "    }\n",
       "\n",
       "    .dataframe thead th {\n",
       "        text-align: right;\n",
       "    }\n",
       "</style>\n",
       "<table border=\"1\" class=\"dataframe\">\n",
       "  <thead>\n",
       "    <tr style=\"text-align: right;\">\n",
       "      <th></th>\n",
       "      <th>count_missing</th>\n",
       "      <th>ratio_missing</th>\n",
       "    </tr>\n",
       "  </thead>\n",
       "  <tbody>\n",
       "    <tr>\n",
       "      <th>158</th>\n",
       "      <td>291</td>\n",
       "      <td>0.926752</td>\n",
       "    </tr>\n",
       "    <tr>\n",
       "      <th>157</th>\n",
       "      <td>291</td>\n",
       "      <td>0.926752</td>\n",
       "    </tr>\n",
       "    <tr>\n",
       "      <th>293</th>\n",
       "      <td>291</td>\n",
       "      <td>0.926752</td>\n",
       "    </tr>\n",
       "    <tr>\n",
       "      <th>292</th>\n",
       "      <td>291</td>\n",
       "      <td>0.926752</td>\n",
       "    </tr>\n",
       "    <tr>\n",
       "      <th>492</th>\n",
       "      <td>271</td>\n",
       "      <td>0.863057</td>\n",
       "    </tr>\n",
       "    <tr>\n",
       "      <th>85</th>\n",
       "      <td>271</td>\n",
       "      <td>0.863057</td>\n",
       "    </tr>\n",
       "    <tr>\n",
       "      <th>358</th>\n",
       "      <td>271</td>\n",
       "      <td>0.863057</td>\n",
       "    </tr>\n",
       "    <tr>\n",
       "      <th>220</th>\n",
       "      <td>271</td>\n",
       "      <td>0.863057</td>\n",
       "    </tr>\n",
       "    <tr>\n",
       "      <th>516</th>\n",
       "      <td>202</td>\n",
       "      <td>0.643312</td>\n",
       "    </tr>\n",
       "    <tr>\n",
       "      <th>245</th>\n",
       "      <td>202</td>\n",
       "      <td>0.643312</td>\n",
       "    </tr>\n",
       "  </tbody>\n",
       "</table>\n",
       "</div>"
      ],
      "text/plain": [
       "     count_missing  ratio_missing\n",
       "158            291       0.926752\n",
       "157            291       0.926752\n",
       "293            291       0.926752\n",
       "292            291       0.926752\n",
       "492            271       0.863057\n",
       "85             271       0.863057\n",
       "358            271       0.863057\n",
       "220            271       0.863057\n",
       "516            202       0.643312\n",
       "245            202       0.643312"
      ]
     },
     "execution_count": 34,
     "metadata": {},
     "output_type": "execute_result"
    }
   ],
   "source": [
    "kt.df_missing_report(X_test).sort_values(by='ratio_missing',ascending=False).head(10)"
   ]
  },
  {
   "cell_type": "markdown",
   "metadata": {},
   "source": [
    "### Missing Values Columns Drop"
   ]
  },
  {
   "cell_type": "code",
   "execution_count": 35,
   "metadata": {
    "scrolled": false
   },
   "outputs": [
    {
     "name": "stdout",
     "output_type": "stream",
     "text": [
      "Count of columns to drop: 8\n",
      "Actual X_train shape:(1253, 582) \tActual X_test shape:(314, 582)\n",
      "CrossValidation(3) ROC AUC on X_train: 0.670115587422\n"
     ]
    }
   ],
   "source": [
    "cutoff = 0.80\n",
    "nan_cols_to_drop = X_train.columns[(((X_train.isnull().sum()/X_train.shape[0])>cutoff) | \\\n",
    "                                    ((X_test.isnull().sum()/X_test.shape[0])>cutoff))]\n",
    "\n",
    "print('Count of columns to drop:',len(nan_cols_to_drop)) \n",
    "\n",
    "X_train.drop(nan_cols_to_drop,axis=1,inplace=True)\n",
    "X_test.drop(nan_cols_to_drop,axis=1,inplace=True)\n",
    "\n",
    "print('Actual X_train shape:{} \\tActual X_test shape:{}'.format(X_train.shape,X_test.shape))\n",
    "\n",
    "score = evo.test(X_train,y_train,comment = 'X_train NaN columns drop')\n",
    "print('CrossValidation(3) ROC AUC on X_train:',score)"
   ]
  },
  {
   "cell_type": "markdown",
   "metadata": {},
   "source": [
    "### Missing Values Imputation"
   ]
  },
  {
   "cell_type": "code",
   "execution_count": 36,
   "metadata": {},
   "outputs": [
    {
     "name": "stdout",
     "output_type": "stream",
     "text": [
      "CrossValidation(3) ROC AUC on X_train: 0.667396526305\n"
     ]
    }
   ],
   "source": [
    "nan_cols = X_train.columns[X_train.isna().any()]\n",
    "if len(nan_cols)>0:\n",
    "    X_train[nan_cols] = kt.df_impute(X_train[nan_cols],strategy='median')\n",
    "\n",
    "nan_cols = list(X_test.columns[X_test.isna().any()])\n",
    "if len(nan_cols)>0:\n",
    "    X_test[nan_cols] = kt.df_impute(X_test[nan_cols],strategy='median')\n",
    "    \n",
    "score = evo.test(X_train,y_train,comment = 'X_train NaN imputation by median')\n",
    "print('CrossValidation(3) ROC AUC on X_train:',score)"
   ]
  },
  {
   "cell_type": "markdown",
   "metadata": {},
   "source": [
    "## Constant Values"
   ]
  },
  {
   "cell_type": "markdown",
   "metadata": {},
   "source": [
    "### Constant Values Exploring "
   ]
  },
  {
   "cell_type": "code",
   "execution_count": 37,
   "metadata": {},
   "outputs": [
    {
     "name": "stdout",
     "output_type": "stream",
     "text": [
      "Count of columns with constant value: 122\n"
     ]
    }
   ],
   "source": [
    "const_cols = X_train.columns[(((X_train == X_train.iloc[0]).all())|\\\n",
    "                              (X_test == X_test.iloc[0]).all())]\n",
    "print('Count of columns with constant value:',len(const_cols))"
   ]
  },
  {
   "cell_type": "markdown",
   "metadata": {},
   "source": [
    "### Constant Values Columns Drop"
   ]
  },
  {
   "cell_type": "code",
   "execution_count": 38,
   "metadata": {},
   "outputs": [
    {
     "name": "stdout",
     "output_type": "stream",
     "text": [
      "X_train shape:(1253, 460) \tX_test shape:(314, 460)\n",
      "CrossValidation(3) ROC AUC on X_train: 0.667396526305\n"
     ]
    }
   ],
   "source": [
    "X_train.drop(const_cols,axis=1,inplace=True)\n",
    "X_test.drop(const_cols,axis=1,inplace=True)\n",
    "\n",
    "print('X_train shape:{} \\tX_test shape:{}'.format(X_train.shape,X_test.shape))\n",
    "\n",
    "score = evo.test(X_train,y_train,comment = 'X_train Drop constant values columns')\n",
    "print('CrossValidation(3) ROC AUC on X_train:',score)"
   ]
  },
  {
   "cell_type": "markdown",
   "metadata": {},
   "source": [
    "## Correlation"
   ]
  },
  {
   "cell_type": "code",
   "execution_count": 39,
   "metadata": {
    "scrolled": true
   },
   "outputs": [
    {
     "name": "stdout",
     "output_type": "stream",
     "text": [
      "Most Positive Correlations:\n",
      " 103    0.166603\n",
      "59     0.164126\n",
      "510    0.147652\n",
      "431    0.140725\n",
      "434    0.128902\n",
      "dtype: float64\n",
      "\n",
      "Most Negative Correlations:\n",
      " 122   -0.089176\n",
      "26    -0.099154\n",
      "28    -0.100750\n",
      "316   -0.102978\n",
      "125   -0.103150\n",
      "dtype: float64\n"
     ]
    }
   ],
   "source": [
    "# Find correlations with the target and sort\n",
    "correlations = X_train.corrwith(y_train).sort_values(ascending = False)\n",
    "\n",
    "# Display correlations\n",
    "print('Most Positive Correlations:\\n', correlations.head(5))\n",
    "print('\\nMost Negative Correlations:\\n', correlations.tail(5))"
   ]
  },
  {
   "cell_type": "markdown",
   "metadata": {},
   "source": [
    "# Data Transformation"
   ]
  },
  {
   "cell_type": "markdown",
   "metadata": {},
   "source": [
    "## Normalization"
   ]
  },
  {
   "cell_type": "code",
   "execution_count": 40,
   "metadata": {
    "scrolled": true
   },
   "outputs": [
    {
     "name": "stdout",
     "output_type": "stream",
     "text": [
      "CrossValidation(3) ROC AUC on X_train: 0.660213298747\n"
     ]
    }
   ],
   "source": [
    "_, cat_cols,num_cols = kt.df_feats_summary(X_train,[],verbose=False)\n",
    "X_train[num_cols] = kt.df_scale(X_train[num_cols],strategy='minmax')\n",
    "X_test[num_cols] = kt.df_scale(X_test[num_cols],strategy='minmax')\n",
    "\n",
    "score = evo.test(X_train,y_train,comment = 'X_train Normalization')\n",
    "print('CrossValidation(3) ROC AUC on X_train:',score)"
   ]
  },
  {
   "cell_type": "markdown",
   "metadata": {},
   "source": [
    "# Over Sampling"
   ]
  },
  {
   "cell_type": "code",
   "execution_count": 41,
   "metadata": {},
   "outputs": [
    {
     "data": {
      "text/plain": [
       " 1    1173\n",
       "-1    1173\n",
       "dtype: int64"
      ]
     },
     "execution_count": 41,
     "metadata": {},
     "output_type": "execute_result"
    }
   ],
   "source": [
    "X_train,y_train = SMOTE(random_state = 0).fit_resample(X_train,y_train)\n",
    "X_train = pd.DataFrame(X_train)\n",
    "y_train = pd.Series(y_train)\n",
    "y_train.value_counts()"
   ]
  },
  {
   "cell_type": "code",
   "execution_count": 42,
   "metadata": {},
   "outputs": [
    {
     "name": "stdout",
     "output_type": "stream",
     "text": [
      "CrossValidation(3) ROC AUC on X_train: 0.998957795061\n"
     ]
    }
   ],
   "source": [
    "score = evo.test(X_train,y_train,comment = 'X_train Oversampling')\n",
    "print('CrossValidation(3) ROC AUC on X_train:',score)"
   ]
  },
  {
   "cell_type": "markdown",
   "metadata": {},
   "source": [
    "# Progress Overview"
   ]
  },
  {
   "cell_type": "code",
   "execution_count": 43,
   "metadata": {},
   "outputs": [
    {
     "data": {
      "text/html": [
       "<div>\n",
       "<style scoped>\n",
       "    .dataframe tbody tr th:only-of-type {\n",
       "        vertical-align: middle;\n",
       "    }\n",
       "\n",
       "    .dataframe tbody tr th {\n",
       "        vertical-align: top;\n",
       "    }\n",
       "\n",
       "    .dataframe thead th {\n",
       "        text-align: right;\n",
       "    }\n",
       "</style>\n",
       "<table border=\"1\" class=\"dataframe\">\n",
       "  <thead>\n",
       "    <tr style=\"text-align: right;\">\n",
       "      <th></th>\n",
       "      <th>Comment</th>\n",
       "      <th>LGBM CV3 ROC AUC</th>\n",
       "    </tr>\n",
       "  </thead>\n",
       "  <tbody>\n",
       "    <tr>\n",
       "      <th>0</th>\n",
       "      <td>X_train Oversampling</td>\n",
       "      <td>0.998958</td>\n",
       "    </tr>\n",
       "    <tr>\n",
       "      <th>1</th>\n",
       "      <td>X_train Normalization</td>\n",
       "      <td>0.660213</td>\n",
       "    </tr>\n",
       "    <tr>\n",
       "      <th>2</th>\n",
       "      <td>X_train Drop constant values columns</td>\n",
       "      <td>0.667397</td>\n",
       "    </tr>\n",
       "    <tr>\n",
       "      <th>3</th>\n",
       "      <td>X_train NaN imputation by median</td>\n",
       "      <td>0.667397</td>\n",
       "    </tr>\n",
       "    <tr>\n",
       "      <th>4</th>\n",
       "      <td>X_train NaN columns drop</td>\n",
       "      <td>0.670116</td>\n",
       "    </tr>\n",
       "    <tr>\n",
       "      <th>5</th>\n",
       "      <td>X_train RAW</td>\n",
       "      <td>0.671413</td>\n",
       "    </tr>\n",
       "    <tr>\n",
       "      <th>6</th>\n",
       "      <td>Full RAW data</td>\n",
       "      <td>0.550166</td>\n",
       "    </tr>\n",
       "  </tbody>\n",
       "</table>\n",
       "</div>"
      ],
      "text/plain": [
       "                                Comment  LGBM CV3 ROC AUC\n",
       "0                  X_train Oversampling          0.998958\n",
       "1                 X_train Normalization          0.660213\n",
       "2  X_train Drop constant values columns          0.667397\n",
       "3      X_train NaN imputation by median          0.667397\n",
       "4              X_train NaN columns drop          0.670116\n",
       "5                           X_train RAW          0.671413\n",
       "6                         Full RAW data          0.550166"
      ]
     },
     "execution_count": 43,
     "metadata": {},
     "output_type": "execute_result"
    }
   ],
   "source": [
    "evo.get_history()"
   ]
  },
  {
   "cell_type": "markdown",
   "metadata": {},
   "source": [
    "# Training"
   ]
  },
  {
   "cell_type": "code",
   "execution_count": 44,
   "metadata": {},
   "outputs": [],
   "source": [
    "lgbm = LGBMClassifier(random_state = 0)\n",
    "lgbm.fit(X_train,y_train);"
   ]
  },
  {
   "cell_type": "markdown",
   "metadata": {},
   "source": [
    "# Prediction"
   ]
  },
  {
   "cell_type": "code",
   "execution_count": 45,
   "metadata": {
    "scrolled": true
   },
   "outputs": [
    {
     "name": "stdout",
     "output_type": "stream",
     "text": [
      "ROC AUC score on X_test:0.46153846153846156\n",
      "Confusion matrix:\n",
      " [[288  24]\n",
      " [  2   0]]\n"
     ]
    }
   ],
   "source": [
    "y_pred = lgbm.predict(X_test)\n",
    "print('ROC AUC score on X_test:{}'.format(roc_auc_score(y_pred,y_test)))\n",
    "print('Confusion matrix:\\n',confusion_matrix(y_pred,y_test))"
   ]
  },
  {
   "cell_type": "markdown",
   "metadata": {},
   "source": [
    "# Conclusion"
   ]
  },
  {
   "cell_type": "markdown",
   "metadata": {},
   "source": [
    "After oversampling we achieved ROC AUC 0.99 on CV(3 folds) on X_train but on X_test our result is 0.46. Obviously classifier was **overfitted**."
   ]
  }
 ],
 "metadata": {
  "kernelspec": {
   "display_name": "Python 3",
   "language": "python",
   "name": "python3"
  },
  "language_info": {
   "codemirror_mode": {
    "name": "ipython",
    "version": 3
   },
   "file_extension": ".py",
   "mimetype": "text/x-python",
   "name": "python",
   "nbconvert_exporter": "python",
   "pygments_lexer": "ipython3",
   "version": "3.6.3"
  },
  "toc": {
   "base_numbering": 1,
   "nav_menu": {},
   "number_sections": true,
   "sideBar": true,
   "skip_h1_title": false,
   "title_cell": "Table of Contents",
   "title_sidebar": "Contents",
   "toc_cell": false,
   "toc_position": {
    "height": "calc(100% - 180px)",
    "left": "10px",
    "top": "150px",
    "width": "273.2px"
   },
   "toc_section_display": true,
   "toc_window_display": true
  }
 },
 "nbformat": 4,
 "nbformat_minor": 2
}
