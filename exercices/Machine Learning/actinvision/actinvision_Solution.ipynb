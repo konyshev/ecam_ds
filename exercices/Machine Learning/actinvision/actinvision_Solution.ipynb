{
 "cells": [
  {
   "cell_type": "markdown",
   "metadata": {},
   "source": [
    "# Import"
   ]
  },
  {
   "cell_type": "code",
   "execution_count": 555,
   "metadata": {},
   "outputs": [],
   "source": [
    "import pandas as pd\n",
    "import math\n",
    "import numpy as np\n",
    "\n",
    "import matplotlib.pyplot as plt\n",
    "import seaborn as sns\n",
    "\n",
    "from sklearn.model_selection import StratifiedKFold,StratifiedShuffleSplit, cross_val_score\n",
    "from sklearn.metrics import roc_auc_score\n",
    "\n",
    "from sklearn.linear_model import LogisticRegression\n",
    "from sklearn.ensemble import RandomForestClassifier\n",
    "from sklearn.neighbors import KNeighborsClassifier\n",
    "from lightgbm import LGBMClassifier\n",
    "\n",
    "import sklearn.preprocessing as preproc\n",
    "from imblearn.over_sampling import SMOTE\n",
    "\n",
    "import warnings \n",
    "warnings.filterwarnings('ignore')\n",
    "\n",
    "sns.set()"
   ]
  },
  {
   "cell_type": "markdown",
   "metadata": {},
   "source": [
    "# Helpers"
   ]
  },
  {
   "cell_type": "code",
   "execution_count": 556,
   "metadata": {
    "code_folding": [
     0,
     26,
     41,
     50,
     57,
     62,
     97,
     113,
     121,
     149
    ]
   },
   "outputs": [],
   "source": [
    "def convert_col_to_proper_int(df_col):\n",
    "    col_type = df_col.dtype\n",
    "    if ((str(col_type)[:3] == 'int') | (str(col_type)[:4] == 'uint')): \n",
    "        c_min = df_col.min()\n",
    "        c_max = df_col.max()\n",
    "        if c_min < 0:\n",
    "            if c_min >= np.iinfo(np.int8).min and c_max <= np.iinfo(np.int8).max:\n",
    "                df_col = df_col.astype(np.int8)\n",
    "            elif c_min >= np.iinfo(np.int16).min and c_max <= np.iinfo(np.int16).max:\n",
    "                df_col = df_col.astype(np.int16)\n",
    "            elif c_min >= np.iinfo(np.int32).min and c_max <= np.iinfo(np.int32).max:\n",
    "                df_col = df_col.astype(np.int32)\n",
    "            elif c_min >= np.iinfo(np.int64).min and c_max <= np.iinfo(np.int64).max:\n",
    "                df_col = df_col.astype(np.int64)\n",
    "        else:\n",
    "            if c_max <= np.iinfo(np.uint8).max:\n",
    "                df_col = df_col.astype(np.uint8)\n",
    "            elif c_max <= np.iinfo(np.uint16).max:\n",
    "                df_col = df_col.astype(np.uint16)\n",
    "            elif c_max <= np.iinfo(np.uint32).max:\n",
    "                df_col = df_col.astype(np.uint32)\n",
    "            elif c_max <= np.iinfo(np.uint64).max:\n",
    "                df_col = df_col.astype(np.uint64)\n",
    "            \n",
    "    return df_col\n",
    "\n",
    "def convert_col_to_proper_float(df_col):\n",
    "    col_type = df_col.dtype\n",
    "    if str(col_type)[:5] == 'float':\n",
    "        unique_count = len(np.unique(df_col))\n",
    "        df_col_temp = df_col.astype(np.float32)\n",
    "        if len(np.unique(df_col_temp)) == unique_count:\n",
    "            df_col = df_col_temp\n",
    "            c_min = df_col.min()\n",
    "            c_max = df_col.max()\n",
    "            if c_min > np.finfo(np.float16).min and c_max < np.finfo(np.float16).max:\n",
    "                df_col_temp = df_col.astype(np.float16)\n",
    "                if len(np.unique(df_col_temp)) == unique_count:\n",
    "                    df_col = df_col_temp\n",
    "    return df_col\n",
    "\n",
    "def float_to_int(df_):\n",
    "    for col in df_.columns:\n",
    "        col_type = df_[col].dtype\n",
    "        if str(col_type)[:5] == 'float':\n",
    "            if (df_[col] % 1 == 0).all():\n",
    "                df_[col] = convert_col_to_proper_int(df_[col].astype(np.int64))\n",
    "    \n",
    "    return df_\n",
    "\n",
    "def float_reduced(df_):\n",
    "    for col in df_.columns:\n",
    "        col_type = df_[col].dtype\n",
    "        if str(col_type)[:5] == 'float':\n",
    "            df_[col] = convert_col_to_proper_float(df_[col])\n",
    "    return df_\n",
    "\n",
    "def int_reduced(df_):\n",
    "    for col in df_.columns:\n",
    "        df_[col] = convert_col_to_proper_int(df_[col])        \n",
    "    return df_\n",
    "\n",
    "def df_reduce_mem_usage(df_, verbose = True):\n",
    "    start_mem = df_.memory_usage().sum() / 1024**2\n",
    "    if verbose:\n",
    "        print('Memory usage of dataframe: {:.2f} MB'.format(start_mem))\n",
    "\n",
    "    for col in df_.columns:\n",
    "        col_type = df_[col].dtype\n",
    "\n",
    "        if ((col_type != object) & (col_type != '<M8[ns]') & (col_type.name != 'category')):#\n",
    "            c_min = df_[col].min()\n",
    "            c_max = df_[col].max()\n",
    "            if str(col_type)[:3] == 'int':\n",
    "                df_[col] = convert_col_to_proper_int(df_[col])\n",
    "            else:\n",
    "                if (df_[col] % 1 == 0).all():\n",
    "                    df_[col] = convert_col_to_proper_int(df_[col].astype(np.int64))\n",
    "                else:\n",
    "                    df_[col] = convert_col_to_proper_float(df_[col])\n",
    "        else: \n",
    "            try:\n",
    "                df_[col] = df_[col].astype(np.float64)\n",
    "                if (df_[col] % 1 == 0).all():\n",
    "                    df_[col] = convert_col_to_proper_int(df_[col].astype(np.int64))\n",
    "                else:\n",
    "                    df_[col] = convert_col_to_proper_float(df_[col])\n",
    "            except:\n",
    "                df_[col] = df_[col].astype('category')\n",
    "\n",
    "    end_mem = df_.memory_usage().sum() / 1024**2\n",
    "    if verbose:\n",
    "        print('Memory usage after optimization: {:.2f} MB'.format(end_mem))\n",
    "        print('Decreased by {:.1f}%'.format(100 * (start_mem - end_mem) / start_mem))\n",
    "\n",
    "    return df_\n",
    "\n",
    "def df_feats_summary(df_, cols_to_exclude, verbose = True ):\n",
    "    feats_to_exclude = [f for f in df_.columns if f in cols_to_exclude]\n",
    "\n",
    "    cat_cols  = [col for col in df_.columns if df_[col].dtype == 'object']\n",
    "    cat_cols += [col for col in df_.columns if not pd.api.types.is_numeric_dtype(df_[col].dtype)]\n",
    "    cat_cols  = list(set(cat_cols).difference(feats_to_exclude))\n",
    "\n",
    "    num_cols = [col for col in df_.columns if pd.api.types.is_numeric_dtype(df_[col].dtype)]\n",
    "    num_cols  = list(set(num_cols).difference(feats_to_exclude))\n",
    "    if verbose:\n",
    "        print('''Columns summary (total {}) : \n",
    "        1. Categorical: {}\n",
    "        2. Numerical: {}\n",
    "        3. Excluded: {}'''.format(len(df_.columns),len(cat_cols),len(num_cols),len(feats_to_exclude)))\n",
    "    return feats_to_exclude,cat_cols,num_cols\n",
    "\n",
    "def df_missing_report(df_):\n",
    "    count_missing = df_.isnull().sum().values\n",
    "    ratio_missing = count_missing / df_.shape[0]\n",
    "    \n",
    "    return pd.DataFrame(data = {'count_missing': count_missing, \n",
    "                                'ratio_missing': ratio_missing},\n",
    "                        index = df_.columns.values)\n",
    "\n",
    "def df_impute(df_, strategy = 'median',value = None):\n",
    "  \n",
    "    for col in df_.columns:\n",
    "        if (col in df_._get_numeric_data().columns):\n",
    "            df_[col] = df_[col].replace([np.inf, -np.inf], np.nan)        \n",
    "        if strategy == 'median':\n",
    "            val = df_[col].median()\n",
    "        if strategy == 'mean':\n",
    "            val = df_[col].mean()\n",
    "        if strategy == 'mode':\n",
    "            val = df_[col].mode()\n",
    "        if strategy == 'value':\n",
    "            val = value\n",
    "            \n",
    "        if df_[col].dtype.name == 'category':\n",
    "            df_[col] = df_[col].cat.add_categories(val).fillna(val)\n",
    "        else:\n",
    "            df_[col] = df_[col].fillna(val)\n",
    "    return df_\n",
    "\n",
    "def draw_plots(df,keys_to_draw:list,graph_type:str,n_cols:int = 3,xlabel:str = None,ylabel:str = None,target_split=False):\n",
    "    n_rows = math.ceil(len(keys_to_draw)/n_cols)\n",
    "    for i in range(n_rows):\n",
    "        fig, ax = plt.subplots(nrows=1, \n",
    "                             ncols=n_cols, \n",
    "                             figsize=(16, 4))\n",
    " \n",
    "        for j,col in enumerate(ax):  \n",
    "            if (n_cols*i+j)<(len(keys_to_draw)):\n",
    "                if graph_type == 'hist':\n",
    "                    if target_split:\n",
    "                        sns.distplot(df[df['TARGET']==0][keys_to_draw[n_cols*i+j]], ax=col,color = 'red',label = \"Target is 0\")\n",
    "                        sns.distplot(df[df['TARGET']==1][keys_to_draw[n_cols*i+j]], ax=col,color = 'green',label = \"Target is 1\")\n",
    "                    else:\n",
    "                        sns.distplot(df[keys_to_draw[n_cols*i+j]], ax=col)\n",
    "                    col.legend()\n",
    "                    col.set_xlabel(xlabel)\n",
    "                    col.set_ylabel(ylabel)\n",
    "                elif graph_type == 'boxplot':\n",
    "                    if target_split:\n",
    "                        sns.boxplot(x=\"TARGET\", y=keys_to_draw[n_cols*i+j], data=df,ax=col)\n",
    "                    else:\n",
    "                        sns.boxplot(x=df[keys_to_draw[n_cols*i+j]], ax=col)\n",
    "                elif graph_type == 'countplot':\n",
    "                    if target_split:\n",
    "                        sns.countplot(y=keys_to_draw[n_cols*i+j],hue='TARGET', data=df,ax=col)\n",
    "                    else:\n",
    "                        sns.countplot(x=keys_to_draw[n_cols*i+j], data=df,ax=col)\n",
    "                col.set_title(keys_to_draw[n_cols*i+j])\n",
    "        fig.tight_layout()\n",
    "        plt.show()"
   ]
  },
  {
   "cell_type": "markdown",
   "metadata": {},
   "source": [
    "# Load data"
   ]
  },
  {
   "cell_type": "code",
   "execution_count": 557,
   "metadata": {},
   "outputs": [],
   "source": [
    "train_df = pd.read_csv('train.csv')\n",
    "test_df = pd.read_csv('test.csv')\n",
    "\n",
    "# rename columns and transform TARGET column from yes/no to 1/0\n",
    "train_df.rename(index=str, columns={\"subscription\": \"TARGET\",\"id\":\"ID\"},inplace=True)\n",
    "train_df['TARGET'].replace({'yes': 1, 'no': 0},inplace=True);\n",
    "\n",
    "test_df.rename(index=str, columns={\"id\":\"ID\"},inplace=True)"
   ]
  },
  {
   "cell_type": "markdown",
   "metadata": {},
   "source": [
    "## First look into the data"
   ]
  },
  {
   "cell_type": "markdown",
   "metadata": {},
   "source": [
    "### Train"
   ]
  },
  {
   "cell_type": "code",
   "execution_count": 558,
   "metadata": {
    "scrolled": false
   },
   "outputs": [
    {
     "data": {
      "text/html": [
       "<div>\n",
       "<style scoped>\n",
       "    .dataframe tbody tr th:only-of-type {\n",
       "        vertical-align: middle;\n",
       "    }\n",
       "\n",
       "    .dataframe tbody tr th {\n",
       "        vertical-align: top;\n",
       "    }\n",
       "\n",
       "    .dataframe thead th {\n",
       "        text-align: right;\n",
       "    }\n",
       "</style>\n",
       "<table border=\"1\" class=\"dataframe\">\n",
       "  <thead>\n",
       "    <tr style=\"text-align: right;\">\n",
       "      <th></th>\n",
       "      <th>ID</th>\n",
       "      <th>age</th>\n",
       "      <th>job</th>\n",
       "      <th>marital</th>\n",
       "      <th>education</th>\n",
       "      <th>default</th>\n",
       "      <th>housing</th>\n",
       "      <th>loan</th>\n",
       "      <th>campaign</th>\n",
       "      <th>pdays</th>\n",
       "      <th>previous</th>\n",
       "      <th>poutcome</th>\n",
       "      <th>emp_var_rate</th>\n",
       "      <th>cons_price_idx</th>\n",
       "      <th>cons_conf_idx</th>\n",
       "      <th>euribor3m</th>\n",
       "      <th>nr_employed</th>\n",
       "      <th>TARGET</th>\n",
       "    </tr>\n",
       "  </thead>\n",
       "  <tbody>\n",
       "    <tr>\n",
       "      <th>0</th>\n",
       "      <td>1</td>\n",
       "      <td>37</td>\n",
       "      <td>services</td>\n",
       "      <td>married</td>\n",
       "      <td>high.school</td>\n",
       "      <td>no</td>\n",
       "      <td>yes</td>\n",
       "      <td>no</td>\n",
       "      <td>1</td>\n",
       "      <td>NaN</td>\n",
       "      <td>0</td>\n",
       "      <td>NaN</td>\n",
       "      <td>1.1</td>\n",
       "      <td>93.994</td>\n",
       "      <td>-36.4</td>\n",
       "      <td>4.857</td>\n",
       "      <td>5191.0</td>\n",
       "      <td>0</td>\n",
       "    </tr>\n",
       "    <tr>\n",
       "      <th>1</th>\n",
       "      <td>2</td>\n",
       "      <td>45</td>\n",
       "      <td>services</td>\n",
       "      <td>married</td>\n",
       "      <td>basic.9y</td>\n",
       "      <td>NaN</td>\n",
       "      <td>no</td>\n",
       "      <td>no</td>\n",
       "      <td>1</td>\n",
       "      <td>NaN</td>\n",
       "      <td>0</td>\n",
       "      <td>NaN</td>\n",
       "      <td>1.1</td>\n",
       "      <td>93.994</td>\n",
       "      <td>-36.4</td>\n",
       "      <td>4.857</td>\n",
       "      <td>5191.0</td>\n",
       "      <td>0</td>\n",
       "    </tr>\n",
       "    <tr>\n",
       "      <th>2</th>\n",
       "      <td>3</td>\n",
       "      <td>59</td>\n",
       "      <td>admin.</td>\n",
       "      <td>married</td>\n",
       "      <td>professional.course</td>\n",
       "      <td>no</td>\n",
       "      <td>no</td>\n",
       "      <td>no</td>\n",
       "      <td>1</td>\n",
       "      <td>NaN</td>\n",
       "      <td>0</td>\n",
       "      <td>NaN</td>\n",
       "      <td>1.1</td>\n",
       "      <td>93.994</td>\n",
       "      <td>-36.4</td>\n",
       "      <td>4.857</td>\n",
       "      <td>5191.0</td>\n",
       "      <td>0</td>\n",
       "    </tr>\n",
       "    <tr>\n",
       "      <th>3</th>\n",
       "      <td>4</td>\n",
       "      <td>41</td>\n",
       "      <td>blue-collar</td>\n",
       "      <td>married</td>\n",
       "      <td>NaN</td>\n",
       "      <td>NaN</td>\n",
       "      <td>no</td>\n",
       "      <td>no</td>\n",
       "      <td>1</td>\n",
       "      <td>NaN</td>\n",
       "      <td>0</td>\n",
       "      <td>NaN</td>\n",
       "      <td>1.1</td>\n",
       "      <td>93.994</td>\n",
       "      <td>-36.4</td>\n",
       "      <td>4.857</td>\n",
       "      <td>5191.0</td>\n",
       "      <td>0</td>\n",
       "    </tr>\n",
       "    <tr>\n",
       "      <th>4</th>\n",
       "      <td>5</td>\n",
       "      <td>24</td>\n",
       "      <td>technician</td>\n",
       "      <td>single</td>\n",
       "      <td>professional.course</td>\n",
       "      <td>no</td>\n",
       "      <td>yes</td>\n",
       "      <td>no</td>\n",
       "      <td>1</td>\n",
       "      <td>NaN</td>\n",
       "      <td>0</td>\n",
       "      <td>NaN</td>\n",
       "      <td>1.1</td>\n",
       "      <td>93.994</td>\n",
       "      <td>-36.4</td>\n",
       "      <td>4.857</td>\n",
       "      <td>5191.0</td>\n",
       "      <td>0</td>\n",
       "    </tr>\n",
       "  </tbody>\n",
       "</table>\n",
       "</div>"
      ],
      "text/plain": [
       "   ID  age          job  marital            education default housing loan  \\\n",
       "0   1   37     services  married          high.school      no     yes   no   \n",
       "1   2   45     services  married             basic.9y     NaN      no   no   \n",
       "2   3   59       admin.  married  professional.course      no      no   no   \n",
       "3   4   41  blue-collar  married                  NaN     NaN      no   no   \n",
       "4   5   24   technician   single  professional.course      no     yes   no   \n",
       "\n",
       "   campaign  pdays  previous poutcome  emp_var_rate  cons_price_idx  \\\n",
       "0         1    NaN         0      NaN           1.1          93.994   \n",
       "1         1    NaN         0      NaN           1.1          93.994   \n",
       "2         1    NaN         0      NaN           1.1          93.994   \n",
       "3         1    NaN         0      NaN           1.1          93.994   \n",
       "4         1    NaN         0      NaN           1.1          93.994   \n",
       "\n",
       "   cons_conf_idx  euribor3m  nr_employed  TARGET  \n",
       "0          -36.4      4.857       5191.0       0  \n",
       "1          -36.4      4.857       5191.0       0  \n",
       "2          -36.4      4.857       5191.0       0  \n",
       "3          -36.4      4.857       5191.0       0  \n",
       "4          -36.4      4.857       5191.0       0  "
      ]
     },
     "execution_count": 558,
     "metadata": {},
     "output_type": "execute_result"
    }
   ],
   "source": [
    "train_df.head()"
   ]
  },
  {
   "cell_type": "code",
   "execution_count": 559,
   "metadata": {
    "scrolled": false
   },
   "outputs": [
    {
     "name": "stdout",
     "output_type": "stream",
     "text": [
      "<class 'pandas.core.frame.DataFrame'>\n",
      "Index: 18647 entries, 0 to 18646\n",
      "Data columns (total 18 columns):\n",
      "ID                18647 non-null int64\n",
      "age               18647 non-null int64\n",
      "job               18483 non-null object\n",
      "marital           18608 non-null object\n",
      "education         17913 non-null object\n",
      "default           14500 non-null object\n",
      "housing           18182 non-null object\n",
      "loan              18182 non-null object\n",
      "campaign          18647 non-null int64\n",
      "pdays             378 non-null float64\n",
      "previous          18647 non-null int64\n",
      "poutcome          2195 non-null object\n",
      "emp_var_rate      18647 non-null float64\n",
      "cons_price_idx    18647 non-null float64\n",
      "cons_conf_idx     18647 non-null float64\n",
      "euribor3m         18647 non-null float64\n",
      "nr_employed       18647 non-null float64\n",
      "TARGET            18647 non-null int64\n",
      "dtypes: float64(6), int64(5), object(7)\n",
      "memory usage: 2.7+ MB\n"
     ]
    }
   ],
   "source": [
    "train_df.info()"
   ]
  },
  {
   "cell_type": "code",
   "execution_count": 560,
   "metadata": {
    "scrolled": true
   },
   "outputs": [
    {
     "data": {
      "text/html": [
       "<div>\n",
       "<style scoped>\n",
       "    .dataframe tbody tr th:only-of-type {\n",
       "        vertical-align: middle;\n",
       "    }\n",
       "\n",
       "    .dataframe tbody tr th {\n",
       "        vertical-align: top;\n",
       "    }\n",
       "\n",
       "    .dataframe thead th {\n",
       "        text-align: right;\n",
       "    }\n",
       "</style>\n",
       "<table border=\"1\" class=\"dataframe\">\n",
       "  <thead>\n",
       "    <tr style=\"text-align: right;\">\n",
       "      <th></th>\n",
       "      <th>ID</th>\n",
       "      <th>age</th>\n",
       "      <th>campaign</th>\n",
       "      <th>pdays</th>\n",
       "      <th>previous</th>\n",
       "      <th>emp_var_rate</th>\n",
       "      <th>cons_price_idx</th>\n",
       "      <th>cons_conf_idx</th>\n",
       "      <th>euribor3m</th>\n",
       "      <th>nr_employed</th>\n",
       "      <th>TARGET</th>\n",
       "    </tr>\n",
       "  </thead>\n",
       "  <tbody>\n",
       "    <tr>\n",
       "      <th>count</th>\n",
       "      <td>18647.00000</td>\n",
       "      <td>18647.000000</td>\n",
       "      <td>18647.000000</td>\n",
       "      <td>378.000000</td>\n",
       "      <td>18647.000000</td>\n",
       "      <td>18647.000000</td>\n",
       "      <td>18647.000000</td>\n",
       "      <td>18647.000000</td>\n",
       "      <td>18647.000000</td>\n",
       "      <td>18647.000000</td>\n",
       "      <td>18647.000000</td>\n",
       "    </tr>\n",
       "    <tr>\n",
       "      <th>mean</th>\n",
       "      <td>9324.00000</td>\n",
       "      <td>39.873063</td>\n",
       "      <td>2.629753</td>\n",
       "      <td>5.878307</td>\n",
       "      <td>0.142918</td>\n",
       "      <td>0.218947</td>\n",
       "      <td>93.601283</td>\n",
       "      <td>-40.554899</td>\n",
       "      <td>3.777103</td>\n",
       "      <td>5174.318228</td>\n",
       "      <td>0.020003</td>\n",
       "    </tr>\n",
       "    <tr>\n",
       "      <th>std</th>\n",
       "      <td>5383.06957</td>\n",
       "      <td>10.052241</td>\n",
       "      <td>2.875028</td>\n",
       "      <td>3.735414</td>\n",
       "      <td>0.443052</td>\n",
       "      <td>1.503251</td>\n",
       "      <td>0.564708</td>\n",
       "      <td>4.453433</td>\n",
       "      <td>1.659243</td>\n",
       "      <td>66.350866</td>\n",
       "      <td>0.140015</td>\n",
       "    </tr>\n",
       "    <tr>\n",
       "      <th>min</th>\n",
       "      <td>1.00000</td>\n",
       "      <td>17.000000</td>\n",
       "      <td>1.000000</td>\n",
       "      <td>0.000000</td>\n",
       "      <td>0.000000</td>\n",
       "      <td>-3.400000</td>\n",
       "      <td>92.201000</td>\n",
       "      <td>-50.800000</td>\n",
       "      <td>0.634000</td>\n",
       "      <td>4963.600000</td>\n",
       "      <td>0.000000</td>\n",
       "    </tr>\n",
       "    <tr>\n",
       "      <th>25%</th>\n",
       "      <td>4662.50000</td>\n",
       "      <td>32.000000</td>\n",
       "      <td>1.000000</td>\n",
       "      <td>3.000000</td>\n",
       "      <td>0.000000</td>\n",
       "      <td>-1.800000</td>\n",
       "      <td>93.075000</td>\n",
       "      <td>-42.700000</td>\n",
       "      <td>1.405000</td>\n",
       "      <td>5099.100000</td>\n",
       "      <td>0.000000</td>\n",
       "    </tr>\n",
       "    <tr>\n",
       "      <th>50%</th>\n",
       "      <td>9324.00000</td>\n",
       "      <td>38.000000</td>\n",
       "      <td>2.000000</td>\n",
       "      <td>6.000000</td>\n",
       "      <td>0.000000</td>\n",
       "      <td>1.100000</td>\n",
       "      <td>93.918000</td>\n",
       "      <td>-41.800000</td>\n",
       "      <td>4.857000</td>\n",
       "      <td>5195.800000</td>\n",
       "      <td>0.000000</td>\n",
       "    </tr>\n",
       "    <tr>\n",
       "      <th>75%</th>\n",
       "      <td>13985.50000</td>\n",
       "      <td>47.000000</td>\n",
       "      <td>3.000000</td>\n",
       "      <td>7.000000</td>\n",
       "      <td>0.000000</td>\n",
       "      <td>1.400000</td>\n",
       "      <td>93.994000</td>\n",
       "      <td>-36.400000</td>\n",
       "      <td>4.962000</td>\n",
       "      <td>5228.100000</td>\n",
       "      <td>0.000000</td>\n",
       "    </tr>\n",
       "    <tr>\n",
       "      <th>max</th>\n",
       "      <td>18647.00000</td>\n",
       "      <td>92.000000</td>\n",
       "      <td>43.000000</td>\n",
       "      <td>22.000000</td>\n",
       "      <td>7.000000</td>\n",
       "      <td>1.400000</td>\n",
       "      <td>94.767000</td>\n",
       "      <td>-26.900000</td>\n",
       "      <td>5.045000</td>\n",
       "      <td>5228.100000</td>\n",
       "      <td>1.000000</td>\n",
       "    </tr>\n",
       "  </tbody>\n",
       "</table>\n",
       "</div>"
      ],
      "text/plain": [
       "                ID           age      campaign       pdays      previous  \\\n",
       "count  18647.00000  18647.000000  18647.000000  378.000000  18647.000000   \n",
       "mean    9324.00000     39.873063      2.629753    5.878307      0.142918   \n",
       "std     5383.06957     10.052241      2.875028    3.735414      0.443052   \n",
       "min        1.00000     17.000000      1.000000    0.000000      0.000000   \n",
       "25%     4662.50000     32.000000      1.000000    3.000000      0.000000   \n",
       "50%     9324.00000     38.000000      2.000000    6.000000      0.000000   \n",
       "75%    13985.50000     47.000000      3.000000    7.000000      0.000000   \n",
       "max    18647.00000     92.000000     43.000000   22.000000      7.000000   \n",
       "\n",
       "       emp_var_rate  cons_price_idx  cons_conf_idx     euribor3m  \\\n",
       "count  18647.000000    18647.000000   18647.000000  18647.000000   \n",
       "mean       0.218947       93.601283     -40.554899      3.777103   \n",
       "std        1.503251        0.564708       4.453433      1.659243   \n",
       "min       -3.400000       92.201000     -50.800000      0.634000   \n",
       "25%       -1.800000       93.075000     -42.700000      1.405000   \n",
       "50%        1.100000       93.918000     -41.800000      4.857000   \n",
       "75%        1.400000       93.994000     -36.400000      4.962000   \n",
       "max        1.400000       94.767000     -26.900000      5.045000   \n",
       "\n",
       "        nr_employed        TARGET  \n",
       "count  18647.000000  18647.000000  \n",
       "mean    5174.318228      0.020003  \n",
       "std       66.350866      0.140015  \n",
       "min     4963.600000      0.000000  \n",
       "25%     5099.100000      0.000000  \n",
       "50%     5195.800000      0.000000  \n",
       "75%     5228.100000      0.000000  \n",
       "max     5228.100000      1.000000  "
      ]
     },
     "execution_count": 560,
     "metadata": {},
     "output_type": "execute_result"
    }
   ],
   "source": [
    "train_df.describe()"
   ]
  },
  {
   "cell_type": "markdown",
   "metadata": {},
   "source": [
    "### Test"
   ]
  },
  {
   "cell_type": "code",
   "execution_count": 561,
   "metadata": {
    "scrolled": true
   },
   "outputs": [
    {
     "data": {
      "text/html": [
       "<div>\n",
       "<style scoped>\n",
       "    .dataframe tbody tr th:only-of-type {\n",
       "        vertical-align: middle;\n",
       "    }\n",
       "\n",
       "    .dataframe tbody tr th {\n",
       "        vertical-align: top;\n",
       "    }\n",
       "\n",
       "    .dataframe thead th {\n",
       "        text-align: right;\n",
       "    }\n",
       "</style>\n",
       "<table border=\"1\" class=\"dataframe\">\n",
       "  <thead>\n",
       "    <tr style=\"text-align: right;\">\n",
       "      <th></th>\n",
       "      <th>ID</th>\n",
       "      <th>age</th>\n",
       "      <th>job</th>\n",
       "      <th>marital</th>\n",
       "      <th>education</th>\n",
       "      <th>default</th>\n",
       "      <th>housing</th>\n",
       "      <th>loan</th>\n",
       "      <th>campaign</th>\n",
       "      <th>pdays</th>\n",
       "      <th>previous</th>\n",
       "      <th>poutcome</th>\n",
       "      <th>emp_var_rate</th>\n",
       "      <th>cons_price_idx</th>\n",
       "      <th>cons_conf_idx</th>\n",
       "      <th>euribor3m</th>\n",
       "      <th>nr_employed</th>\n",
       "    </tr>\n",
       "  </thead>\n",
       "  <tbody>\n",
       "    <tr>\n",
       "      <th>0</th>\n",
       "      <td>18648</td>\n",
       "      <td>56</td>\n",
       "      <td>housemaid</td>\n",
       "      <td>married</td>\n",
       "      <td>basic.4y</td>\n",
       "      <td>no</td>\n",
       "      <td>no</td>\n",
       "      <td>no</td>\n",
       "      <td>1</td>\n",
       "      <td>NaN</td>\n",
       "      <td>0</td>\n",
       "      <td>NaN</td>\n",
       "      <td>1.1</td>\n",
       "      <td>93.994</td>\n",
       "      <td>-36.4</td>\n",
       "      <td>4.857</td>\n",
       "      <td>5191.0</td>\n",
       "    </tr>\n",
       "    <tr>\n",
       "      <th>1</th>\n",
       "      <td>18649</td>\n",
       "      <td>57</td>\n",
       "      <td>services</td>\n",
       "      <td>married</td>\n",
       "      <td>high.school</td>\n",
       "      <td>NaN</td>\n",
       "      <td>no</td>\n",
       "      <td>no</td>\n",
       "      <td>1</td>\n",
       "      <td>NaN</td>\n",
       "      <td>0</td>\n",
       "      <td>NaN</td>\n",
       "      <td>1.1</td>\n",
       "      <td>93.994</td>\n",
       "      <td>-36.4</td>\n",
       "      <td>4.857</td>\n",
       "      <td>5191.0</td>\n",
       "    </tr>\n",
       "    <tr>\n",
       "      <th>2</th>\n",
       "      <td>18650</td>\n",
       "      <td>40</td>\n",
       "      <td>admin.</td>\n",
       "      <td>married</td>\n",
       "      <td>basic.6y</td>\n",
       "      <td>no</td>\n",
       "      <td>no</td>\n",
       "      <td>no</td>\n",
       "      <td>1</td>\n",
       "      <td>NaN</td>\n",
       "      <td>0</td>\n",
       "      <td>NaN</td>\n",
       "      <td>1.1</td>\n",
       "      <td>93.994</td>\n",
       "      <td>-36.4</td>\n",
       "      <td>4.857</td>\n",
       "      <td>5191.0</td>\n",
       "    </tr>\n",
       "    <tr>\n",
       "      <th>3</th>\n",
       "      <td>18651</td>\n",
       "      <td>56</td>\n",
       "      <td>services</td>\n",
       "      <td>married</td>\n",
       "      <td>high.school</td>\n",
       "      <td>no</td>\n",
       "      <td>no</td>\n",
       "      <td>yes</td>\n",
       "      <td>1</td>\n",
       "      <td>NaN</td>\n",
       "      <td>0</td>\n",
       "      <td>NaN</td>\n",
       "      <td>1.1</td>\n",
       "      <td>93.994</td>\n",
       "      <td>-36.4</td>\n",
       "      <td>4.857</td>\n",
       "      <td>5191.0</td>\n",
       "    </tr>\n",
       "    <tr>\n",
       "      <th>4</th>\n",
       "      <td>18652</td>\n",
       "      <td>25</td>\n",
       "      <td>services</td>\n",
       "      <td>single</td>\n",
       "      <td>high.school</td>\n",
       "      <td>no</td>\n",
       "      <td>yes</td>\n",
       "      <td>no</td>\n",
       "      <td>1</td>\n",
       "      <td>NaN</td>\n",
       "      <td>0</td>\n",
       "      <td>NaN</td>\n",
       "      <td>1.1</td>\n",
       "      <td>93.994</td>\n",
       "      <td>-36.4</td>\n",
       "      <td>4.857</td>\n",
       "      <td>5191.0</td>\n",
       "    </tr>\n",
       "  </tbody>\n",
       "</table>\n",
       "</div>"
      ],
      "text/plain": [
       "      ID  age        job  marital    education default housing loan  campaign  \\\n",
       "0  18648   56  housemaid  married     basic.4y      no      no   no         1   \n",
       "1  18649   57   services  married  high.school     NaN      no   no         1   \n",
       "2  18650   40     admin.  married     basic.6y      no      no   no         1   \n",
       "3  18651   56   services  married  high.school      no      no  yes         1   \n",
       "4  18652   25   services   single  high.school      no     yes   no         1   \n",
       "\n",
       "   pdays  previous poutcome  emp_var_rate  cons_price_idx  cons_conf_idx  \\\n",
       "0    NaN         0      NaN           1.1          93.994          -36.4   \n",
       "1    NaN         0      NaN           1.1          93.994          -36.4   \n",
       "2    NaN         0      NaN           1.1          93.994          -36.4   \n",
       "3    NaN         0      NaN           1.1          93.994          -36.4   \n",
       "4    NaN         0      NaN           1.1          93.994          -36.4   \n",
       "\n",
       "   euribor3m  nr_employed  \n",
       "0      4.857       5191.0  \n",
       "1      4.857       5191.0  \n",
       "2      4.857       5191.0  \n",
       "3      4.857       5191.0  \n",
       "4      4.857       5191.0  "
      ]
     },
     "execution_count": 561,
     "metadata": {},
     "output_type": "execute_result"
    }
   ],
   "source": [
    "test_df.head()"
   ]
  },
  {
   "cell_type": "code",
   "execution_count": 562,
   "metadata": {},
   "outputs": [
    {
     "name": "stdout",
     "output_type": "stream",
     "text": [
      "<class 'pandas.core.frame.DataFrame'>\n",
      "Index: 19035 entries, 0 to 19034\n",
      "Data columns (total 17 columns):\n",
      "ID                19035 non-null int64\n",
      "age               19035 non-null int64\n",
      "job               18890 non-null object\n",
      "marital           19001 non-null object\n",
      "education         18221 non-null object\n",
      "default           14921 non-null object\n",
      "housing           18593 non-null object\n",
      "loan              18593 non-null object\n",
      "campaign          19035 non-null int64\n",
      "pdays             399 non-null float64\n",
      "previous          19035 non-null int64\n",
      "poutcome          2286 non-null object\n",
      "emp_var_rate      19035 non-null float64\n",
      "cons_price_idx    19035 non-null float64\n",
      "cons_conf_idx     19035 non-null float64\n",
      "euribor3m         19035 non-null float64\n",
      "nr_employed       19035 non-null float64\n",
      "dtypes: float64(6), int64(4), object(7)\n",
      "memory usage: 2.6+ MB\n"
     ]
    }
   ],
   "source": [
    "test_df.info()"
   ]
  },
  {
   "cell_type": "code",
   "execution_count": 563,
   "metadata": {
    "scrolled": true
   },
   "outputs": [
    {
     "data": {
      "text/html": [
       "<div>\n",
       "<style scoped>\n",
       "    .dataframe tbody tr th:only-of-type {\n",
       "        vertical-align: middle;\n",
       "    }\n",
       "\n",
       "    .dataframe tbody tr th {\n",
       "        vertical-align: top;\n",
       "    }\n",
       "\n",
       "    .dataframe thead th {\n",
       "        text-align: right;\n",
       "    }\n",
       "</style>\n",
       "<table border=\"1\" class=\"dataframe\">\n",
       "  <thead>\n",
       "    <tr style=\"text-align: right;\">\n",
       "      <th></th>\n",
       "      <th>ID</th>\n",
       "      <th>age</th>\n",
       "      <th>campaign</th>\n",
       "      <th>pdays</th>\n",
       "      <th>previous</th>\n",
       "      <th>emp_var_rate</th>\n",
       "      <th>cons_price_idx</th>\n",
       "      <th>cons_conf_idx</th>\n",
       "      <th>euribor3m</th>\n",
       "      <th>nr_employed</th>\n",
       "    </tr>\n",
       "  </thead>\n",
       "  <tbody>\n",
       "    <tr>\n",
       "      <th>count</th>\n",
       "      <td>19035.000000</td>\n",
       "      <td>19035.000000</td>\n",
       "      <td>19035.000000</td>\n",
       "      <td>399.000000</td>\n",
       "      <td>19035.000000</td>\n",
       "      <td>19035.000000</td>\n",
       "      <td>19035.000000</td>\n",
       "      <td>19035.000000</td>\n",
       "      <td>19035.000000</td>\n",
       "      <td>19035.000000</td>\n",
       "    </tr>\n",
       "    <tr>\n",
       "      <th>mean</th>\n",
       "      <td>28165.000000</td>\n",
       "      <td>40.017126</td>\n",
       "      <td>2.601156</td>\n",
       "      <td>6.248120</td>\n",
       "      <td>0.144523</td>\n",
       "      <td>0.191773</td>\n",
       "      <td>93.592612</td>\n",
       "      <td>-40.594158</td>\n",
       "      <td>3.744797</td>\n",
       "      <td>5173.113480</td>\n",
       "    </tr>\n",
       "    <tr>\n",
       "      <th>std</th>\n",
       "      <td>5495.075523</td>\n",
       "      <td>10.054904</td>\n",
       "      <td>2.816253</td>\n",
       "      <td>3.999509</td>\n",
       "      <td>0.433773</td>\n",
       "      <td>1.511754</td>\n",
       "      <td>0.563983</td>\n",
       "      <td>4.453245</td>\n",
       "      <td>1.673436</td>\n",
       "      <td>67.414445</td>\n",
       "    </tr>\n",
       "    <tr>\n",
       "      <th>min</th>\n",
       "      <td>18648.000000</td>\n",
       "      <td>17.000000</td>\n",
       "      <td>1.000000</td>\n",
       "      <td>0.000000</td>\n",
       "      <td>0.000000</td>\n",
       "      <td>-3.400000</td>\n",
       "      <td>92.201000</td>\n",
       "      <td>-50.800000</td>\n",
       "      <td>0.634000</td>\n",
       "      <td>4963.600000</td>\n",
       "    </tr>\n",
       "    <tr>\n",
       "      <th>25%</th>\n",
       "      <td>23406.500000</td>\n",
       "      <td>32.000000</td>\n",
       "      <td>1.000000</td>\n",
       "      <td>3.000000</td>\n",
       "      <td>0.000000</td>\n",
       "      <td>-1.800000</td>\n",
       "      <td>93.075000</td>\n",
       "      <td>-42.700000</td>\n",
       "      <td>1.405000</td>\n",
       "      <td>5099.100000</td>\n",
       "    </tr>\n",
       "    <tr>\n",
       "      <th>50%</th>\n",
       "      <td>28165.000000</td>\n",
       "      <td>38.000000</td>\n",
       "      <td>2.000000</td>\n",
       "      <td>6.000000</td>\n",
       "      <td>0.000000</td>\n",
       "      <td>1.100000</td>\n",
       "      <td>93.918000</td>\n",
       "      <td>-41.800000</td>\n",
       "      <td>4.857000</td>\n",
       "      <td>5195.800000</td>\n",
       "    </tr>\n",
       "    <tr>\n",
       "      <th>75%</th>\n",
       "      <td>32923.500000</td>\n",
       "      <td>47.000000</td>\n",
       "      <td>3.000000</td>\n",
       "      <td>9.000000</td>\n",
       "      <td>0.000000</td>\n",
       "      <td>1.400000</td>\n",
       "      <td>93.994000</td>\n",
       "      <td>-36.400000</td>\n",
       "      <td>4.961000</td>\n",
       "      <td>5228.100000</td>\n",
       "    </tr>\n",
       "    <tr>\n",
       "      <th>max</th>\n",
       "      <td>37682.000000</td>\n",
       "      <td>98.000000</td>\n",
       "      <td>56.000000</td>\n",
       "      <td>21.000000</td>\n",
       "      <td>5.000000</td>\n",
       "      <td>1.400000</td>\n",
       "      <td>94.767000</td>\n",
       "      <td>-26.900000</td>\n",
       "      <td>5.045000</td>\n",
       "      <td>5228.100000</td>\n",
       "    </tr>\n",
       "  </tbody>\n",
       "</table>\n",
       "</div>"
      ],
      "text/plain": [
       "                 ID           age      campaign       pdays      previous  \\\n",
       "count  19035.000000  19035.000000  19035.000000  399.000000  19035.000000   \n",
       "mean   28165.000000     40.017126      2.601156    6.248120      0.144523   \n",
       "std     5495.075523     10.054904      2.816253    3.999509      0.433773   \n",
       "min    18648.000000     17.000000      1.000000    0.000000      0.000000   \n",
       "25%    23406.500000     32.000000      1.000000    3.000000      0.000000   \n",
       "50%    28165.000000     38.000000      2.000000    6.000000      0.000000   \n",
       "75%    32923.500000     47.000000      3.000000    9.000000      0.000000   \n",
       "max    37682.000000     98.000000     56.000000   21.000000      5.000000   \n",
       "\n",
       "       emp_var_rate  cons_price_idx  cons_conf_idx     euribor3m   nr_employed  \n",
       "count  19035.000000    19035.000000   19035.000000  19035.000000  19035.000000  \n",
       "mean       0.191773       93.592612     -40.594158      3.744797   5173.113480  \n",
       "std        1.511754        0.563983       4.453245      1.673436     67.414445  \n",
       "min       -3.400000       92.201000     -50.800000      0.634000   4963.600000  \n",
       "25%       -1.800000       93.075000     -42.700000      1.405000   5099.100000  \n",
       "50%        1.100000       93.918000     -41.800000      4.857000   5195.800000  \n",
       "75%        1.400000       93.994000     -36.400000      4.961000   5228.100000  \n",
       "max        1.400000       94.767000     -26.900000      5.045000   5228.100000  "
      ]
     },
     "execution_count": 563,
     "metadata": {},
     "output_type": "execute_result"
    }
   ],
   "source": [
    "test_df.describe()"
   ]
  },
  {
   "cell_type": "markdown",
   "metadata": {},
   "source": [
    "## Conversion columns to proper format"
   ]
  },
  {
   "cell_type": "code",
   "execution_count": 564,
   "metadata": {
    "scrolled": true
   },
   "outputs": [
    {
     "name": "stdout",
     "output_type": "stream",
     "text": [
      "Memory usage of dataframe: 2.70 MB\n",
      "Memory usage after optimization: 0.66 MB\n",
      "Decreased by 75.6%\n",
      "Memory usage of dataframe: 2.61 MB\n",
      "Memory usage after optimization: 0.65 MB\n",
      "Decreased by 75.0%\n"
     ]
    }
   ],
   "source": [
    "train_df = df_reduce_mem_usage(train_df);\n",
    "test_df = df_reduce_mem_usage(test_df);"
   ]
  },
  {
   "cell_type": "markdown",
   "metadata": {},
   "source": [
    "# EDA"
   ]
  },
  {
   "cell_type": "markdown",
   "metadata": {},
   "source": [
    "## Features summary"
   ]
  },
  {
   "cell_type": "code",
   "execution_count": 565,
   "metadata": {
    "scrolled": true
   },
   "outputs": [
    {
     "name": "stdout",
     "output_type": "stream",
     "text": [
      "Columns summary (total 18) : \n",
      "        1. Categorical: 7\n",
      "        2. Numerical: 9\n",
      "        3. Excluded: 2\n"
     ]
    }
   ],
   "source": [
    "_,cat_cols,num_cols = df_feats_summary(train_df,cols_to_exclude=['TARGET','ID'])"
   ]
  },
  {
   "cell_type": "code",
   "execution_count": 566,
   "metadata": {
    "scrolled": true
   },
   "outputs": [
    {
     "data": {
      "text/plain": [
       "0    18274\n",
       "1      373\n",
       "Name: TARGET, dtype: int64"
      ]
     },
     "execution_count": 566,
     "metadata": {},
     "output_type": "execute_result"
    }
   ],
   "source": [
    "train_df['TARGET'].value_counts()"
   ]
  },
  {
   "cell_type": "markdown",
   "metadata": {},
   "source": [
    "Data is very unbalanced. Balancing techniques should be applied further"
   ]
  },
  {
   "cell_type": "markdown",
   "metadata": {},
   "source": [
    "## Missing values exploring"
   ]
  },
  {
   "cell_type": "markdown",
   "metadata": {},
   "source": [
    "Plot of count of NaN values in columns"
   ]
  },
  {
   "cell_type": "code",
   "execution_count": 567,
   "metadata": {},
   "outputs": [
    {
     "data": {
      "image/png": "[encoded data removed]",
      "text/plain": [
       "<Figure size 1152x288 with 2 Axes>"
      ]
     },
     "metadata": {},
     "output_type": "display_data"
    }
   ],
   "source": [
    "train_df_na_stat = df_missing_report(train_df).sort_values(by='ratio_missing',ascending=False).head(10)\n",
    "test_df_na_stat = df_missing_report(test_df).sort_values(by='ratio_missing',ascending=False).head(10)\n",
    "\n",
    "_, ax = plt.subplots(nrows=1, ncols=2, figsize=(16, 4))\n",
    "sns.barplot(x=train_df_na_stat.index, y=\"ratio_missing\", data=train_df_na_stat.head(10), ax=ax[0]);\n",
    "ax[0].set_xticklabels(labels=train_df_na_stat.index,rotation=90);\n",
    "ax[0].set_title(\"Top features with missing values(Train)\");\n",
    "\n",
    "sns.barplot(x=test_df_na_stat.index, y=\"ratio_missing\", data=test_df_na_stat.head(10),ax=ax[1]);\n",
    "ax[1].set_xticklabels(labels=test_df_na_stat.index,rotation=90);\n",
    "ax[1].set_title(\"Top features with missing values(Test)\");"
   ]
  },
  {
   "cell_type": "markdown",
   "metadata": {},
   "source": [
    "Features 'pdays' and 'poutcome' both have rate of missing values more than 80%. They can be removed from the datasets"
   ]
  },
  {
   "cell_type": "code",
   "execution_count": 568,
   "metadata": {},
   "outputs": [],
   "source": [
    "columns_to_drop = ['pdays','poutcome']\n",
    "\n",
    "train_df.drop(columns_to_drop,axis=1,inplace=True)\n",
    "test_df.drop(columns_to_drop,axis=1,inplace=True)\n",
    "\n",
    "num_cols = [ col for col in num_cols if col not in columns_to_drop ]\n",
    "cat_cols = [ col for col in cat_cols if col not in columns_to_drop ]"
   ]
  },
  {
   "cell_type": "markdown",
   "metadata": {},
   "source": [
    "### Missing Values Imputation"
   ]
  },
  {
   "cell_type": "markdown",
   "metadata": {},
   "source": [
    "Imputing NA values in numeric columns"
   ]
  },
  {
   "cell_type": "code",
   "execution_count": 569,
   "metadata": {},
   "outputs": [
    {
     "name": "stdout",
     "output_type": "stream",
     "text": [
      "DataFrame Train has no missing values in numeric columns\n",
      "DataFrame Test has no missing values in numeric columns\n"
     ]
    }
   ],
   "source": [
    "nan_cols_train = train_df.columns[train_df.isna().any()]\n",
    "nan_cols_train = [col for col in nan_cols_train if col in num_cols] \n",
    "\n",
    "if len(nan_cols_train)>0:\n",
    "    train_df[nan_cols_train] = df_impute(train_df[nan_cols_train],strategy='median') \n",
    "else:\n",
    "    print('DataFrame Train has no missing values in numeric columns')\n",
    "    \n",
    "nan_cols_test = test_df.columns[test_df.isna().any()]\n",
    "nan_cols_test = [col for col in nan_cols_test if col in num_cols] \n",
    "\n",
    "if len(nan_cols_test)>0:\n",
    "    test_df[nan_cols_test] = df_impute(test_df[nan_cols_test],strategy='median') \n",
    "else:\n",
    "    print('DataFrame Test has no missing values in numeric columns')"
   ]
  },
  {
   "cell_type": "markdown",
   "metadata": {},
   "source": [
    "Imputing NA values in categorical columns"
   ]
  },
  {
   "cell_type": "code",
   "execution_count": 570,
   "metadata": {},
   "outputs": [],
   "source": [
    "nan_cols_train = train_df.columns[train_df.isna().any()]\n",
    "nan_cols_train = [col for col in nan_cols_train if col in cat_cols] \n",
    "\n",
    "if len(nan_cols_train)>0:\n",
    "    train_df[nan_cols_train] = df_impute(train_df[nan_cols_train],strategy='value',value='nan') \n",
    "else:\n",
    "    print('DataFrame Train has no missing values in categorical columns')\n",
    "    \n",
    "nan_cols_test = test_df.columns[test_df.isna().any()]\n",
    "nan_cols_test = [col for col in nan_cols_test if col in cat_cols] \n",
    "\n",
    "if len(nan_cols_test)>0:\n",
    "    test_df[nan_cols_test] = df_impute(test_df[nan_cols_test],strategy='value',value='nan') \n",
    "else:\n",
    "    print('DataFrame Test has no missing values in categorical columns')"
   ]
  },
  {
   "cell_type": "markdown",
   "metadata": {},
   "source": [
    "## Constant Values Exploring\n",
    "\n"
   ]
  },
  {
   "cell_type": "markdown",
   "metadata": {},
   "source": [
    "Check if there are columns with constant values, if so they can be dropped"
   ]
  },
  {
   "cell_type": "code",
   "execution_count": 571,
   "metadata": {},
   "outputs": [
    {
     "name": "stdout",
     "output_type": "stream",
     "text": [
      "Count of columns with constant value: 0\n"
     ]
    }
   ],
   "source": [
    "const_cols = train_df.columns[ train_df.nunique()==1 ]\n",
    "print('Count of columns with constant value:',len(const_cols))\n",
    "\n",
    "if len(const_cols)>0:\n",
    "    train_df.drop(const_cols,axis=1,inplace=True)\n",
    "    test_df.drop(const_cols,axis=1,inplace=True)\n",
    "\n",
    "    num_cols = [ col for col in num_cols if col not in const_cols ]\n",
    "    cat_cols = [ col for col in cat_cols if col not in const_cols ]"
   ]
  },
  {
   "cell_type": "markdown",
   "metadata": {},
   "source": [
    "## Some charts"
   ]
  },
  {
   "cell_type": "markdown",
   "metadata": {},
   "source": [
    "Charts for first look on data destribution and other stats"
   ]
  },
  {
   "cell_type": "markdown",
   "metadata": {},
   "source": [
    "### Numeric data"
   ]
  },
  {
   "cell_type": "markdown",
   "metadata": {},
   "source": [
    "**Histograms**"
   ]
  },
  {
   "cell_type": "code",
   "execution_count": 572,
   "metadata": {
    "scrolled": true
   },
   "outputs": [
    {
     "data": {
      "image/png": "[encoded data removed]",
      "text/plain": [
       "<Figure size 1152x288 with 3 Axes>"
      ]
     },
     "metadata": {},
     "output_type": "display_data"
    },
    {
     "data": {
      "image/png": "[encoded data removed]",
      "text/plain": [
       "<Figure size 1152x288 with 3 Axes>"
      ]
     },
     "metadata": {},
     "output_type": "display_data"
    },
    {
     "data": {
      "image/png": "[encoded data removed]",
      "text/plain": [
       "<Figure size 1152x288 with 3 Axes>"
      ]
     },
     "metadata": {},
     "output_type": "display_data"
    }
   ],
   "source": [
    "draw_plots(train_df,list(num_cols),xlabel = 'values',ylabel = 'count',\\\n",
    "           n_cols = 3,graph_type = 'hist',target_split=True)"
   ]
  },
  {
   "cell_type": "markdown",
   "metadata": {},
   "source": [
    "Columns 'age' and 'campaign' have long tails and should be threated later"
   ]
  },
  {
   "cell_type": "markdown",
   "metadata": {},
   "source": [
    "**Boxplots**"
   ]
  },
  {
   "cell_type": "code",
   "execution_count": 573,
   "metadata": {
    "scrolled": true
   },
   "outputs": [
    {
     "data": {
      "image/png": "[encoded data removed]",
      "text/plain": [
       "<Figure size 1152x288 with 3 Axes>"
      ]
     },
     "metadata": {},
     "output_type": "display_data"
    },
    {
     "data": {
      "image/png": "[encoded data removed]",
      "text/plain": [
       "<Figure size 1152x288 with 3 Axes>"
      ]
     },
     "metadata": {},
     "output_type": "display_data"
    },
    {
     "data": {
      "image/png": "[encoded data removed]",
      "text/plain": [
       "<Figure size 1152x288 with 3 Axes>"
      ]
     },
     "metadata": {},
     "output_type": "display_data"
    }
   ],
   "source": [
    "draw_plots(train_df,list(num_cols),xlabel = 'values',ylabel = 'count',\\\n",
    "           n_cols = 3,graph_type = 'boxplot',target_split=True)"
   ]
  },
  {
   "cell_type": "markdown",
   "metadata": {},
   "source": [
    "**Unique values**  "
   ]
  },
  {
   "cell_type": "code",
   "execution_count": 574,
   "metadata": {
    "scrolled": true
   },
   "outputs": [
    {
     "data": {
      "image/png": "[encoded data removed]",
      "text/plain": [
       "<Figure size 432x288 with 1 Axes>"
      ]
     },
     "metadata": {},
     "output_type": "display_data"
    }
   ],
   "source": [
    "train_df[num_cols].nunique().sort_values().plot.barh();"
   ]
  },
  {
   "cell_type": "markdown",
   "metadata": {},
   "source": [
    "For features 'euribor3m' and 'age' _Binning_ will be applied"
   ]
  },
  {
   "cell_type": "markdown",
   "metadata": {},
   "source": [
    "### Categorical data"
   ]
  },
  {
   "cell_type": "code",
   "execution_count": 575,
   "metadata": {
    "scrolled": true
   },
   "outputs": [
    {
     "data": {
      "image/png": "[encoded data removed]",
      "text/plain": [
       "<Figure size 1152x288 with 2 Axes>"
      ]
     },
     "metadata": {},
     "output_type": "display_data"
    },
    {
     "data": {
      "image/png": "[encoded data removed]",
      "text/plain": [
       "<Figure size 1152x288 with 2 Axes>"
      ]
     },
     "metadata": {},
     "output_type": "display_data"
    },
    {
     "data": {
      "image/png": "[encoded data removed]",
      "text/plain": [
       "<Figure size 1152x288 with 2 Axes>"
      ]
     },
     "metadata": {},
     "output_type": "display_data"
    }
   ],
   "source": [
    "draw_plots(train_df,list(cat_cols),n_cols = 2,graph_type = 'countplot',target_split=True)"
   ]
  },
  {
   "cell_type": "markdown",
   "metadata": {},
   "source": [
    "## Correlations"
   ]
  },
  {
   "cell_type": "code",
   "execution_count": 576,
   "metadata": {
    "scrolled": true
   },
   "outputs": [
    {
     "name": "stdout",
     "output_type": "stream",
     "text": [
      "Most Positive Correlations:\n",
      " previous          0.144976\n",
      "cons_conf_idx     0.031720\n",
      "age               0.017579\n",
      "campaign         -0.031162\n",
      "cons_price_idx   -0.058280\n",
      "dtype: float64\n",
      "\n",
      "Most Negative Correlations:\n",
      " campaign         -0.031162\n",
      "cons_price_idx   -0.058280\n",
      "emp_var_rate     -0.145410\n",
      "euribor3m        -0.152262\n",
      "nr_employed      -0.189892\n",
      "dtype: float64\n"
     ]
    }
   ],
   "source": [
    "# Find correlations with the target and sort\n",
    "corr = train_df[num_cols+cat_cols].corrwith(train_df['TARGET']).sort_values(ascending = False)\n",
    "\n",
    "# Display correlations\n",
    "print('Most Positive Correlations:\\n', corr.head(5))\n",
    "print('\\nMost Negative Correlations:\\n', corr.tail(5))"
   ]
  },
  {
   "cell_type": "code",
   "execution_count": 577,
   "metadata": {},
   "outputs": [
    {
     "data": {
      "image/png": "[encoded data removed]",
      "text/plain": [
       "<Figure size 792x648 with 2 Axes>"
      ]
     },
     "metadata": {},
     "output_type": "display_data"
    }
   ],
   "source": [
    "# Generate a mask for the upper triangle\n",
    "corr = train_df.corr()\n",
    "mask = np.zeros_like(corr, dtype=np.bool)\n",
    "mask[np.triu_indices_from(mask)] = True\n",
    "\n",
    "# Set up the matplotlib figure\n",
    "f, ax = plt.subplots(figsize=(11, 9))\n",
    "\n",
    "# Generate a custom diverging colormap\n",
    "cmap = sns.diverging_palette(220, 10, as_cmap=True)\n",
    "\n",
    "# Draw the heatmap with the mask and correct aspect ratio\n",
    "sns.heatmap(corr, mask=mask, cmap=cmap, vmax=.3, center=0,\n",
    "            square=True, linewidths=.5, cbar_kws={\"shrink\": .5});"
   ]
  },
  {
   "cell_type": "markdown",
   "metadata": {},
   "source": [
    "# Data transformation"
   ]
  },
  {
   "cell_type": "markdown",
   "metadata": {},
   "source": [
    "## Union of train and test dataframes"
   ]
  },
  {
   "cell_type": "markdown",
   "metadata": {},
   "source": [
    "Dataframes need to be concatenated for transformation purpose"
   ]
  },
  {
   "cell_type": "code",
   "execution_count": 578,
   "metadata": {},
   "outputs": [
    {
     "name": "stdout",
     "output_type": "stream",
     "text": [
      "Сombined shape: (37682, 16)\n"
     ]
    }
   ],
   "source": [
    "train_idx = train_df.shape[0]\n",
    "df_all = pd.concat([train_df, test_df], axis = 0, ignore_index = True)\n",
    "print('Сombined shape: {}'.format(df_all.shape))"
   ]
  },
  {
   "cell_type": "markdown",
   "metadata": {},
   "source": [
    "## Features one by one"
   ]
  },
  {
   "cell_type": "markdown",
   "metadata": {},
   "source": [
    "### age"
   ]
  },
  {
   "cell_type": "code",
   "execution_count": 579,
   "metadata": {
    "scrolled": true
   },
   "outputs": [
    {
     "data": {
      "image/png": "[encoded data removed]",
      "text/plain": [
       "<Figure size 432x288 with 1 Axes>"
      ]
     },
     "metadata": {},
     "output_type": "display_data"
    }
   ],
   "source": [
    "sns.distplot(df_all.iloc[:train_idx]['age']); # transformation will be made based on train distribution"
   ]
  },
  {
   "cell_type": "markdown",
   "metadata": {},
   "source": [
    "**Outliers**  \n",
    "Based on distribution above we will set :\n",
    " - 19 for all values of age less than 20\n",
    " - 61 for all values of age more than 60 "
   ]
  },
  {
   "cell_type": "code",
   "execution_count": 580,
   "metadata": {},
   "outputs": [],
   "source": [
    "df_all['age'] = df_all['age'].mask(df_all['age'] < 20, 19)\n",
    "df_all['age'] = df_all['age'].mask(df_all['age'] > 60, 61)"
   ]
  },
  {
   "cell_type": "code",
   "execution_count": 581,
   "metadata": {
    "scrolled": false
   },
   "outputs": [
    {
     "data": {
      "image/png": "[encoded data removed]",
      "text/plain": [
       "<Figure size 432x288 with 1 Axes>"
      ]
     },
     "metadata": {},
     "output_type": "display_data"
    }
   ],
   "source": [
    "sns.distplot(df_all.iloc[:train_idx]['age']);"
   ]
  },
  {
   "cell_type": "markdown",
   "metadata": {},
   "source": [
    "**Binning**"
   ]
  },
  {
   "cell_type": "code",
   "execution_count": 582,
   "metadata": {
    "scrolled": true
   },
   "outputs": [
    {
     "data": {
      "text/plain": [
       "(18.999, 29.0]    4984\n",
       "(29.0, 32.0]      5057\n",
       "(32.0, 38.0]      9210\n",
       "(38.0, 47.0]      9549\n",
       "(47.0, 54.0]      5247\n",
       "(54.0, 61.0]      3635\n",
       "Name: age_cats, dtype: int64"
      ]
     },
     "execution_count": 582,
     "metadata": {},
     "output_type": "execute_result"
    }
   ],
   "source": [
    "quantilies = [0, 0.1, 0.25, 0.5, 0.75, 0.9, 1.]\n",
    "\n",
    "df_all['age_cats'] = pd.qcut(df_all['age'],quantilies).astype('str')\n",
    "\n",
    "df_all['age_cats'].value_counts().sort_index()"
   ]
  },
  {
   "cell_type": "markdown",
   "metadata": {},
   "source": [
    "### euribor3m"
   ]
  },
  {
   "cell_type": "code",
   "execution_count": 583,
   "metadata": {
    "scrolled": false
   },
   "outputs": [
    {
     "data": {
      "image/png": "[encoded data removed]",
      "text/plain": [
       "<Figure size 432x288 with 1 Axes>"
      ]
     },
     "metadata": {},
     "output_type": "display_data"
    }
   ],
   "source": [
    "sns.distplot(df_all.iloc[:train_idx]['euribor3m']);"
   ]
  },
  {
   "cell_type": "markdown",
   "metadata": {},
   "source": [
    "Distribution has not outliers so we will apply only **binning**"
   ]
  },
  {
   "cell_type": "code",
   "execution_count": 584,
   "metadata": {
    "scrolled": true
   },
   "outputs": [
    {
     "data": {
      "text/plain": [
       "(0.633, 1.252]    3780\n",
       "(1.252, 1.405]    6218\n",
       "(1.405, 4.857]    9317\n",
       "(4.857, 4.961]    8982\n",
       "(4.961, 4.964]    6025\n",
       "(4.964, 5.045]    3360\n",
       "Name: euribor3m_cats, dtype: int64"
      ]
     },
     "execution_count": 584,
     "metadata": {},
     "output_type": "execute_result"
    }
   ],
   "source": [
    "quantilies = [0, 0.1, 0.25, 0.5, 0.75, 0.9, 1.]\n",
    "\n",
    "df_all['euribor3m_cats'] = pd.qcut(df_all['euribor3m'],quantilies).astype('str')\n",
    "\n",
    "df_all['euribor3m_cats'].value_counts().sort_index()"
   ]
  },
  {
   "cell_type": "markdown",
   "metadata": {},
   "source": [
    "### campaign"
   ]
  },
  {
   "cell_type": "code",
   "execution_count": 585,
   "metadata": {
    "scrolled": true
   },
   "outputs": [
    {
     "data": {
      "image/png": "[encoded data removed]",
      "text/plain": [
       "<Figure size 432x288 with 1 Axes>"
      ]
     },
     "metadata": {},
     "output_type": "display_data"
    }
   ],
   "source": [
    "sns.distplot(df_all.iloc[:train_idx]['campaign']);"
   ]
  },
  {
   "cell_type": "markdown",
   "metadata": {},
   "source": [
    "We see lognormal distibution with long tail. We will set to 11 all values which are more than 10"
   ]
  },
  {
   "cell_type": "code",
   "execution_count": 586,
   "metadata": {},
   "outputs": [
    {
     "data": {
      "image/png": "[encoded data removed]",
      "text/plain": [
       "<Figure size 432x288 with 1 Axes>"
      ]
     },
     "metadata": {},
     "output_type": "display_data"
    }
   ],
   "source": [
    "df_all['campaign'] = df_all['campaign'].mask(df_all['campaign'] > 10, 11)\n",
    "\n",
    "sns.distplot(df_all.iloc[:train_idx]['campaign']);"
   ]
  },
  {
   "cell_type": "markdown",
   "metadata": {},
   "source": [
    "## Categories Encoding"
   ]
  },
  {
   "cell_type": "code",
   "execution_count": 587,
   "metadata": {
    "scrolled": true
   },
   "outputs": [
    {
     "name": "stdout",
     "output_type": "stream",
     "text": [
      "Columns summary (total 18) : \n",
      "        1. Categorical: 8\n",
      "        2. Numerical: 8\n",
      "        3. Excluded: 2\n"
     ]
    },
    {
     "data": {
      "text/plain": [
       "job               12\n",
       "education          8\n",
       "euribor3m_cats     6\n",
       "age_cats           6\n",
       "marital            4\n",
       "loan               3\n",
       "default            3\n",
       "housing            3\n",
       "dtype: int64"
      ]
     },
     "execution_count": 587,
     "metadata": {},
     "output_type": "execute_result"
    }
   ],
   "source": [
    "_,cat_cols,num_cols = df_feats_summary(df_all,cols_to_exclude=['TARGET','ID'])\n",
    "df_all[cat_cols].nunique().sort_values(ascending=False)"
   ]
  },
  {
   "cell_type": "code",
   "execution_count": 588,
   "metadata": {},
   "outputs": [],
   "source": [
    "df_all = pd.get_dummies(data = df_all,columns = cat_cols, drop_first= True)"
   ]
  },
  {
   "cell_type": "code",
   "execution_count": 589,
   "metadata": {
    "scrolled": true
   },
   "outputs": [
    {
     "name": "stdout",
     "output_type": "stream",
     "text": [
      "<class 'pandas.core.frame.DataFrame'>\n",
      "RangeIndex: 37682 entries, 0 to 37681\n",
      "Data columns (total 47 columns):\n",
      "ID                               37682 non-null uint16\n",
      "TARGET                           18647 non-null float64\n",
      "age                              37682 non-null uint8\n",
      "campaign                         37682 non-null uint8\n",
      "cons_conf_idx                    37682 non-null float16\n",
      "cons_price_idx                   37682 non-null float32\n",
      "emp_var_rate                     37682 non-null float16\n",
      "euribor3m                        37682 non-null float32\n",
      "nr_employed                      37682 non-null float16\n",
      "previous                         37682 non-null uint8\n",
      "age_cats_(29.0, 32.0]            37682 non-null uint8\n",
      "age_cats_(32.0, 38.0]            37682 non-null uint8\n",
      "age_cats_(38.0, 47.0]            37682 non-null uint8\n",
      "age_cats_(47.0, 54.0]            37682 non-null uint8\n",
      "age_cats_(54.0, 61.0]            37682 non-null uint8\n",
      "marital_married                  37682 non-null uint8\n",
      "marital_single                   37682 non-null uint8\n",
      "marital_nan                      37682 non-null uint8\n",
      "housing_yes                      37682 non-null uint8\n",
      "housing_nan                      37682 non-null uint8\n",
      "euribor3m_cats_(1.252, 1.405]    37682 non-null uint8\n",
      "euribor3m_cats_(1.405, 4.857]    37682 non-null uint8\n",
      "euribor3m_cats_(4.857, 4.961]    37682 non-null uint8\n",
      "euribor3m_cats_(4.961, 4.964]    37682 non-null uint8\n",
      "euribor3m_cats_(4.964, 5.045]    37682 non-null uint8\n",
      "job_blue-collar                  37682 non-null uint8\n",
      "job_entrepreneur                 37682 non-null uint8\n",
      "job_housemaid                    37682 non-null uint8\n",
      "job_management                   37682 non-null uint8\n",
      "job_retired                      37682 non-null uint8\n",
      "job_self-employed                37682 non-null uint8\n",
      "job_services                     37682 non-null uint8\n",
      "job_student                      37682 non-null uint8\n",
      "job_technician                   37682 non-null uint8\n",
      "job_unemployed                   37682 non-null uint8\n",
      "job_nan                          37682 non-null uint8\n",
      "education_basic.6y               37682 non-null uint8\n",
      "education_basic.9y               37682 non-null uint8\n",
      "education_high.school            37682 non-null uint8\n",
      "education_illiterate             37682 non-null uint8\n",
      "education_professional.course    37682 non-null uint8\n",
      "education_university.degree      37682 non-null uint8\n",
      "education_nan                    37682 non-null uint8\n",
      "default_yes                      37682 non-null uint8\n",
      "default_nan                      37682 non-null uint8\n",
      "loan_yes                         37682 non-null uint8\n",
      "loan_nan                         37682 non-null uint8\n",
      "dtypes: float16(3), float32(2), float64(1), uint16(1), uint8(40)\n",
      "memory usage: 2.3 MB\n"
     ]
    }
   ],
   "source": [
    "df_all.info()"
   ]
  },
  {
   "cell_type": "markdown",
   "metadata": {},
   "source": [
    "## Scaling"
   ]
  },
  {
   "cell_type": "code",
   "execution_count": 590,
   "metadata": {},
   "outputs": [],
   "source": [
    "df_all[num_cols] = preproc.StandardScaler().fit_transform(df_all[num_cols])"
   ]
  },
  {
   "cell_type": "markdown",
   "metadata": {},
   "source": [
    "## Split dataframe back to train and test"
   ]
  },
  {
   "cell_type": "code",
   "execution_count": 591,
   "metadata": {},
   "outputs": [
    {
     "name": "stdout",
     "output_type": "stream",
     "text": [
      "Train shape:(18647, 47) Test shape(19035, 47):\n"
     ]
    }
   ],
   "source": [
    "train_df = df_all[:train_idx].reset_index(drop=True)\n",
    "test_df = df_all[train_idx:].reset_index(drop=True)\n",
    "print('Train shape:{} Test shape{}:'.format(train_df.shape,test_df.shape))"
   ]
  },
  {
   "cell_type": "code",
   "execution_count": 592,
   "metadata": {
    "scrolled": true
   },
   "outputs": [
    {
     "data": {
      "text/html": [
       "<div>\n",
       "<style scoped>\n",
       "    .dataframe tbody tr th:only-of-type {\n",
       "        vertical-align: middle;\n",
       "    }\n",
       "\n",
       "    .dataframe tbody tr th {\n",
       "        vertical-align: top;\n",
       "    }\n",
       "\n",
       "    .dataframe thead th {\n",
       "        text-align: right;\n",
       "    }\n",
       "</style>\n",
       "<table border=\"1\" class=\"dataframe\">\n",
       "  <thead>\n",
       "    <tr style=\"text-align: right;\">\n",
       "      <th></th>\n",
       "      <th>ID</th>\n",
       "      <th>TARGET</th>\n",
       "      <th>age</th>\n",
       "      <th>campaign</th>\n",
       "      <th>cons_conf_idx</th>\n",
       "      <th>cons_price_idx</th>\n",
       "      <th>emp_var_rate</th>\n",
       "      <th>euribor3m</th>\n",
       "      <th>nr_employed</th>\n",
       "      <th>previous</th>\n",
       "      <th>...</th>\n",
       "      <th>education_basic.9y</th>\n",
       "      <th>education_high.school</th>\n",
       "      <th>education_illiterate</th>\n",
       "      <th>education_professional.course</th>\n",
       "      <th>education_university.degree</th>\n",
       "      <th>education_nan</th>\n",
       "      <th>default_yes</th>\n",
       "      <th>default_nan</th>\n",
       "      <th>loan_yes</th>\n",
       "      <th>loan_nan</th>\n",
       "    </tr>\n",
       "  </thead>\n",
       "  <tbody>\n",
       "    <tr>\n",
       "      <th>0</th>\n",
       "      <td>1</td>\n",
       "      <td>0.0</td>\n",
       "      <td>-0.291037</td>\n",
       "      <td>-0.695912</td>\n",
       "      <td>0.93644</td>\n",
       "      <td>0.703651</td>\n",
       "      <td>0.593165</td>\n",
       "      <td>0.657811</td>\n",
       "      <td>0.268947</td>\n",
       "      <td>-0.327865</td>\n",
       "      <td>...</td>\n",
       "      <td>0</td>\n",
       "      <td>1</td>\n",
       "      <td>0</td>\n",
       "      <td>0</td>\n",
       "      <td>0</td>\n",
       "      <td>0</td>\n",
       "      <td>0</td>\n",
       "      <td>0</td>\n",
       "      <td>0</td>\n",
       "      <td>0</td>\n",
       "    </tr>\n",
       "    <tr>\n",
       "      <th>1</th>\n",
       "      <td>2</td>\n",
       "      <td>0.0</td>\n",
       "      <td>0.542366</td>\n",
       "      <td>-0.695912</td>\n",
       "      <td>0.93644</td>\n",
       "      <td>0.703651</td>\n",
       "      <td>0.593165</td>\n",
       "      <td>0.657811</td>\n",
       "      <td>0.268947</td>\n",
       "      <td>-0.327865</td>\n",
       "      <td>...</td>\n",
       "      <td>1</td>\n",
       "      <td>0</td>\n",
       "      <td>0</td>\n",
       "      <td>0</td>\n",
       "      <td>0</td>\n",
       "      <td>0</td>\n",
       "      <td>0</td>\n",
       "      <td>1</td>\n",
       "      <td>0</td>\n",
       "      <td>0</td>\n",
       "    </tr>\n",
       "    <tr>\n",
       "      <th>2</th>\n",
       "      <td>3</td>\n",
       "      <td>0.0</td>\n",
       "      <td>2.000820</td>\n",
       "      <td>-0.695912</td>\n",
       "      <td>0.93644</td>\n",
       "      <td>0.703651</td>\n",
       "      <td>0.593165</td>\n",
       "      <td>0.657811</td>\n",
       "      <td>0.268947</td>\n",
       "      <td>-0.327865</td>\n",
       "      <td>...</td>\n",
       "      <td>0</td>\n",
       "      <td>0</td>\n",
       "      <td>0</td>\n",
       "      <td>1</td>\n",
       "      <td>0</td>\n",
       "      <td>0</td>\n",
       "      <td>0</td>\n",
       "      <td>0</td>\n",
       "      <td>0</td>\n",
       "      <td>0</td>\n",
       "    </tr>\n",
       "    <tr>\n",
       "      <th>3</th>\n",
       "      <td>4</td>\n",
       "      <td>0.0</td>\n",
       "      <td>0.125664</td>\n",
       "      <td>-0.695912</td>\n",
       "      <td>0.93644</td>\n",
       "      <td>0.703651</td>\n",
       "      <td>0.593165</td>\n",
       "      <td>0.657811</td>\n",
       "      <td>0.268947</td>\n",
       "      <td>-0.327865</td>\n",
       "      <td>...</td>\n",
       "      <td>0</td>\n",
       "      <td>0</td>\n",
       "      <td>0</td>\n",
       "      <td>0</td>\n",
       "      <td>0</td>\n",
       "      <td>1</td>\n",
       "      <td>0</td>\n",
       "      <td>1</td>\n",
       "      <td>0</td>\n",
       "      <td>0</td>\n",
       "    </tr>\n",
       "    <tr>\n",
       "      <th>4</th>\n",
       "      <td>5</td>\n",
       "      <td>0.0</td>\n",
       "      <td>-1.645316</td>\n",
       "      <td>-0.695912</td>\n",
       "      <td>0.93644</td>\n",
       "      <td>0.703651</td>\n",
       "      <td>0.593165</td>\n",
       "      <td>0.657811</td>\n",
       "      <td>0.268947</td>\n",
       "      <td>-0.327865</td>\n",
       "      <td>...</td>\n",
       "      <td>0</td>\n",
       "      <td>0</td>\n",
       "      <td>0</td>\n",
       "      <td>1</td>\n",
       "      <td>0</td>\n",
       "      <td>0</td>\n",
       "      <td>0</td>\n",
       "      <td>0</td>\n",
       "      <td>0</td>\n",
       "      <td>0</td>\n",
       "    </tr>\n",
       "  </tbody>\n",
       "</table>\n",
       "<p>5 rows × 47 columns</p>\n",
       "</div>"
      ],
      "text/plain": [
       "   ID  TARGET       age  campaign  cons_conf_idx  cons_price_idx  \\\n",
       "0   1     0.0 -0.291037 -0.695912        0.93644        0.703651   \n",
       "1   2     0.0  0.542366 -0.695912        0.93644        0.703651   \n",
       "2   3     0.0  2.000820 -0.695912        0.93644        0.703651   \n",
       "3   4     0.0  0.125664 -0.695912        0.93644        0.703651   \n",
       "4   5     0.0 -1.645316 -0.695912        0.93644        0.703651   \n",
       "\n",
       "   emp_var_rate  euribor3m  nr_employed  previous    ...     \\\n",
       "0      0.593165   0.657811     0.268947 -0.327865    ...      \n",
       "1      0.593165   0.657811     0.268947 -0.327865    ...      \n",
       "2      0.593165   0.657811     0.268947 -0.327865    ...      \n",
       "3      0.593165   0.657811     0.268947 -0.327865    ...      \n",
       "4      0.593165   0.657811     0.268947 -0.327865    ...      \n",
       "\n",
       "   education_basic.9y  education_high.school  education_illiterate  \\\n",
       "0                   0                      1                     0   \n",
       "1                   1                      0                     0   \n",
       "2                   0                      0                     0   \n",
       "3                   0                      0                     0   \n",
       "4                   0                      0                     0   \n",
       "\n",
       "   education_professional.course  education_university.degree  education_nan  \\\n",
       "0                              0                            0              0   \n",
       "1                              0                            0              0   \n",
       "2                              1                            0              0   \n",
       "3                              0                            0              1   \n",
       "4                              1                            0              0   \n",
       "\n",
       "   default_yes  default_nan  loan_yes  loan_nan  \n",
       "0            0            0         0         0  \n",
       "1            0            1         0         0  \n",
       "2            0            0         0         0  \n",
       "3            0            1         0         0  \n",
       "4            0            0         0         0  \n",
       "\n",
       "[5 rows x 47 columns]"
      ]
     },
     "execution_count": 592,
     "metadata": {},
     "output_type": "execute_result"
    }
   ],
   "source": [
    "train_df.head()"
   ]
  },
  {
   "cell_type": "code",
   "execution_count": 593,
   "metadata": {
    "scrolled": true
   },
   "outputs": [
    {
     "data": {
      "text/html": [
       "<div>\n",
       "<style scoped>\n",
       "    .dataframe tbody tr th:only-of-type {\n",
       "        vertical-align: middle;\n",
       "    }\n",
       "\n",
       "    .dataframe tbody tr th {\n",
       "        vertical-align: top;\n",
       "    }\n",
       "\n",
       "    .dataframe thead th {\n",
       "        text-align: right;\n",
       "    }\n",
       "</style>\n",
       "<table border=\"1\" class=\"dataframe\">\n",
       "  <thead>\n",
       "    <tr style=\"text-align: right;\">\n",
       "      <th></th>\n",
       "      <th>ID</th>\n",
       "      <th>TARGET</th>\n",
       "      <th>age</th>\n",
       "      <th>campaign</th>\n",
       "      <th>cons_conf_idx</th>\n",
       "      <th>cons_price_idx</th>\n",
       "      <th>emp_var_rate</th>\n",
       "      <th>euribor3m</th>\n",
       "      <th>nr_employed</th>\n",
       "      <th>previous</th>\n",
       "      <th>...</th>\n",
       "      <th>education_basic.9y</th>\n",
       "      <th>education_high.school</th>\n",
       "      <th>education_illiterate</th>\n",
       "      <th>education_professional.course</th>\n",
       "      <th>education_university.degree</th>\n",
       "      <th>education_nan</th>\n",
       "      <th>default_yes</th>\n",
       "      <th>default_nan</th>\n",
       "      <th>loan_yes</th>\n",
       "      <th>loan_nan</th>\n",
       "    </tr>\n",
       "  </thead>\n",
       "  <tbody>\n",
       "    <tr>\n",
       "      <th>0</th>\n",
       "      <td>18648</td>\n",
       "      <td>NaN</td>\n",
       "      <td>1.688294</td>\n",
       "      <td>-0.695912</td>\n",
       "      <td>0.93644</td>\n",
       "      <td>0.703651</td>\n",
       "      <td>0.593165</td>\n",
       "      <td>0.657811</td>\n",
       "      <td>0.268947</td>\n",
       "      <td>-0.327865</td>\n",
       "      <td>...</td>\n",
       "      <td>0</td>\n",
       "      <td>0</td>\n",
       "      <td>0</td>\n",
       "      <td>0</td>\n",
       "      <td>0</td>\n",
       "      <td>0</td>\n",
       "      <td>0</td>\n",
       "      <td>0</td>\n",
       "      <td>0</td>\n",
       "      <td>0</td>\n",
       "    </tr>\n",
       "    <tr>\n",
       "      <th>1</th>\n",
       "      <td>18649</td>\n",
       "      <td>NaN</td>\n",
       "      <td>1.792469</td>\n",
       "      <td>-0.695912</td>\n",
       "      <td>0.93644</td>\n",
       "      <td>0.703651</td>\n",
       "      <td>0.593165</td>\n",
       "      <td>0.657811</td>\n",
       "      <td>0.268947</td>\n",
       "      <td>-0.327865</td>\n",
       "      <td>...</td>\n",
       "      <td>0</td>\n",
       "      <td>1</td>\n",
       "      <td>0</td>\n",
       "      <td>0</td>\n",
       "      <td>0</td>\n",
       "      <td>0</td>\n",
       "      <td>0</td>\n",
       "      <td>1</td>\n",
       "      <td>0</td>\n",
       "      <td>0</td>\n",
       "    </tr>\n",
       "    <tr>\n",
       "      <th>2</th>\n",
       "      <td>18650</td>\n",
       "      <td>NaN</td>\n",
       "      <td>0.021489</td>\n",
       "      <td>-0.695912</td>\n",
       "      <td>0.93644</td>\n",
       "      <td>0.703651</td>\n",
       "      <td>0.593165</td>\n",
       "      <td>0.657811</td>\n",
       "      <td>0.268947</td>\n",
       "      <td>-0.327865</td>\n",
       "      <td>...</td>\n",
       "      <td>0</td>\n",
       "      <td>0</td>\n",
       "      <td>0</td>\n",
       "      <td>0</td>\n",
       "      <td>0</td>\n",
       "      <td>0</td>\n",
       "      <td>0</td>\n",
       "      <td>0</td>\n",
       "      <td>0</td>\n",
       "      <td>0</td>\n",
       "    </tr>\n",
       "    <tr>\n",
       "      <th>3</th>\n",
       "      <td>18651</td>\n",
       "      <td>NaN</td>\n",
       "      <td>1.688294</td>\n",
       "      <td>-0.695912</td>\n",
       "      <td>0.93644</td>\n",
       "      <td>0.703651</td>\n",
       "      <td>0.593165</td>\n",
       "      <td>0.657811</td>\n",
       "      <td>0.268947</td>\n",
       "      <td>-0.327865</td>\n",
       "      <td>...</td>\n",
       "      <td>0</td>\n",
       "      <td>1</td>\n",
       "      <td>0</td>\n",
       "      <td>0</td>\n",
       "      <td>0</td>\n",
       "      <td>0</td>\n",
       "      <td>0</td>\n",
       "      <td>0</td>\n",
       "      <td>1</td>\n",
       "      <td>0</td>\n",
       "    </tr>\n",
       "    <tr>\n",
       "      <th>4</th>\n",
       "      <td>18652</td>\n",
       "      <td>NaN</td>\n",
       "      <td>-1.541140</td>\n",
       "      <td>-0.695912</td>\n",
       "      <td>0.93644</td>\n",
       "      <td>0.703651</td>\n",
       "      <td>0.593165</td>\n",
       "      <td>0.657811</td>\n",
       "      <td>0.268947</td>\n",
       "      <td>-0.327865</td>\n",
       "      <td>...</td>\n",
       "      <td>0</td>\n",
       "      <td>1</td>\n",
       "      <td>0</td>\n",
       "      <td>0</td>\n",
       "      <td>0</td>\n",
       "      <td>0</td>\n",
       "      <td>0</td>\n",
       "      <td>0</td>\n",
       "      <td>0</td>\n",
       "      <td>0</td>\n",
       "    </tr>\n",
       "  </tbody>\n",
       "</table>\n",
       "<p>5 rows × 47 columns</p>\n",
       "</div>"
      ],
      "text/plain": [
       "      ID  TARGET       age  campaign  cons_conf_idx  cons_price_idx  \\\n",
       "0  18648     NaN  1.688294 -0.695912        0.93644        0.703651   \n",
       "1  18649     NaN  1.792469 -0.695912        0.93644        0.703651   \n",
       "2  18650     NaN  0.021489 -0.695912        0.93644        0.703651   \n",
       "3  18651     NaN  1.688294 -0.695912        0.93644        0.703651   \n",
       "4  18652     NaN -1.541140 -0.695912        0.93644        0.703651   \n",
       "\n",
       "   emp_var_rate  euribor3m  nr_employed  previous    ...     \\\n",
       "0      0.593165   0.657811     0.268947 -0.327865    ...      \n",
       "1      0.593165   0.657811     0.268947 -0.327865    ...      \n",
       "2      0.593165   0.657811     0.268947 -0.327865    ...      \n",
       "3      0.593165   0.657811     0.268947 -0.327865    ...      \n",
       "4      0.593165   0.657811     0.268947 -0.327865    ...      \n",
       "\n",
       "   education_basic.9y  education_high.school  education_illiterate  \\\n",
       "0                   0                      0                     0   \n",
       "1                   0                      1                     0   \n",
       "2                   0                      0                     0   \n",
       "3                   0                      1                     0   \n",
       "4                   0                      1                     0   \n",
       "\n",
       "   education_professional.course  education_university.degree  education_nan  \\\n",
       "0                              0                            0              0   \n",
       "1                              0                            0              0   \n",
       "2                              0                            0              0   \n",
       "3                              0                            0              0   \n",
       "4                              0                            0              0   \n",
       "\n",
       "   default_yes  default_nan  loan_yes  loan_nan  \n",
       "0            0            0         0         0  \n",
       "1            0            1         0         0  \n",
       "2            0            0         0         0  \n",
       "3            0            0         1         0  \n",
       "4            0            0         0         0  \n",
       "\n",
       "[5 rows x 47 columns]"
      ]
     },
     "execution_count": 593,
     "metadata": {},
     "output_type": "execute_result"
    }
   ],
   "source": [
    "test_df.head()"
   ]
  },
  {
   "cell_type": "code",
   "execution_count": 594,
   "metadata": {
    "scrolled": true
   },
   "outputs": [
    {
     "name": "stdout",
     "output_type": "stream",
     "text": [
      "Columns summary (total 47) : \n",
      "        1. Categorical: 0\n",
      "        2. Numerical: 45\n",
      "        3. Excluded: 2\n"
     ]
    }
   ],
   "source": [
    "# features lists update\n",
    "_,cat_cols,num_cols = df_feats_summary(train_df,cols_to_exclude=['TARGET','ID'])"
   ]
  },
  {
   "cell_type": "code",
   "execution_count": 595,
   "metadata": {},
   "outputs": [],
   "source": [
    "# Drop ID columns in train and test\n",
    "train_df.drop(columns=['ID'],axis=1,inplace=True)\n",
    "test_df.drop(columns=['TARGET'],axis=1,inplace=True)"
   ]
  },
  {
   "cell_type": "markdown",
   "metadata": {},
   "source": [
    "# Fixing imbalance dataset"
   ]
  },
  {
   "cell_type": "markdown",
   "metadata": {},
   "source": [
    "To fix imbalaced data we will apply SMOTE oversampling  \n",
    "https://imbalanced-learn.readthedocs.io/en/stable/over_sampling.html?highlight=smote"
   ]
  },
  {
   "cell_type": "code",
   "execution_count": 596,
   "metadata": {
    "scrolled": true
   },
   "outputs": [],
   "source": [
    "X_oversampled, y_oversampled = SMOTE(random_state=0).fit_resample(train_df[num_cols], train_df['TARGET'])\n",
    "train_df_oversampled = pd.DataFrame(X_oversampled,columns=num_cols)\n",
    "train_df_oversampled['TARGET'] = y_oversampled"
   ]
  },
  {
   "cell_type": "markdown",
   "metadata": {},
   "source": [
    "# Train / holdout split"
   ]
  },
  {
   "cell_type": "markdown",
   "metadata": {},
   "source": [
    "Stratified 80/20 train/holdout split"
   ]
  },
  {
   "cell_type": "code",
   "execution_count": 597,
   "metadata": {},
   "outputs": [
    {
     "name": "stdout",
     "output_type": "stream",
     "text": [
      "Train shape:(29238, 45) HoldOut shape:(7310, 45)\n"
     ]
    }
   ],
   "source": [
    "sss = StratifiedShuffleSplit(n_splits = 2, test_size=0.2, random_state = 0)\n",
    "X = train_df_oversampled[num_cols]\n",
    "y = train_df_oversampled['TARGET']\n",
    "for train_index, ho_index in sss.split(X, y):\n",
    "    X_train, X_ho = X.iloc[train_index], X.iloc[ho_index]\n",
    "    y_train, y_ho = y[train_index], y[ho_index]\n",
    "print('Train shape:{} HoldOut shape:{}'.format(X_train.shape,X_ho.shape))"
   ]
  },
  {
   "cell_type": "markdown",
   "metadata": {},
   "source": [
    "# Modeling"
   ]
  },
  {
   "cell_type": "code",
   "execution_count": 598,
   "metadata": {},
   "outputs": [],
   "source": [
    "classifiers = {('Logistic Regression', LogisticRegression(random_state = 0, n_jobs=-1)), \n",
    "               ('Random Forest', RandomForestClassifier(random_state = 0, n_jobs=-1)),\n",
    "               ('KNN', KNeighborsClassifier(n_neighbors = 5, n_jobs=-1)),\n",
    "               ('LGBM', LGBMClassifier(random_state = 0, n_jobs=-1))}"
   ]
  },
  {
   "cell_type": "code",
   "execution_count": 599,
   "metadata": {},
   "outputs": [
    {
     "name": "stdout",
     "output_type": "stream",
     "text": [
      "CPU times: user 48 s, sys: 5.33 s, total: 53.3 s\n",
      "Wall time: 15.3 s\n"
     ]
    }
   ],
   "source": [
    "%%time\n",
    "df_models = pd.DataFrame(columns = ['Model',\\\n",
    "                                    'Fold 1 Score',\\\n",
    "                                    'Fold 2 Score',\\\n",
    "                                    'Fold 3 Score',\\\n",
    "                                    'Fold 4 Score',\\\n",
    "                                    'Fold 5 Score',\\\n",
    "                                    'CV 5 Mean Score',\n",
    "                                    'CV 5 std',\n",
    "                                    'HoldOut Score',\n",
    "                                    'abs(HoldOut Score - CV5 Mean Score)'])\n",
    "for clf_name,clf in classifiers:\n",
    "    # Crossvalidation\n",
    "    scores_cv = cross_val_score(clf, X_train, y_train, cv=5, scoring = 'roc_auc')\n",
    "    scores_df = pd.DataFrame([scores_cv],columns = ['Fold 1 Score',\\\n",
    "                                                    'Fold 2 Score',\\\n",
    "                                                    'Fold 3 Score',\\\n",
    "                                                    'Fold 4 Score',\\\n",
    "                                                    'Fold 5 Score'])\n",
    "    scores_df.insert(loc=0, column='Model', value=clf_name)\n",
    "    scores_df['CV 5 Mean Score'] = scores_cv.mean()\n",
    "    scores_df['CV 5 std'] = scores_cv.std()\n",
    "\n",
    "    # Fit on full train\n",
    "    clf.fit(X_train,y_train) \n",
    "\n",
    "    # Predict on holdout\n",
    "    score_ho = roc_auc_score(clf.predict(X_ho),y_ho)\n",
    "    scores_df['HoldOut Score'] = score_ho\n",
    "    scores_df['abs(HoldOut Score - CV5 Mean Score)'] = abs(score_ho - scores_cv.mean())\n",
    "    \n",
    "    df_models.loc[-1] = scores_df.iloc[0]\n",
    "    df_models.index = df_models.index + 1\n",
    "    df_models = df_models.sort_index() "
   ]
  },
  {
   "cell_type": "code",
   "execution_count": 600,
   "metadata": {},
   "outputs": [
    {
     "data": {
      "text/html": [
       "<div>\n",
       "<style scoped>\n",
       "    .dataframe tbody tr th:only-of-type {\n",
       "        vertical-align: middle;\n",
       "    }\n",
       "\n",
       "    .dataframe tbody tr th {\n",
       "        vertical-align: top;\n",
       "    }\n",
       "\n",
       "    .dataframe thead th {\n",
       "        text-align: right;\n",
       "    }\n",
       "</style>\n",
       "<table border=\"1\" class=\"dataframe\">\n",
       "  <thead>\n",
       "    <tr style=\"text-align: right;\">\n",
       "      <th></th>\n",
       "      <th>Model</th>\n",
       "      <th>Fold 1 Score</th>\n",
       "      <th>Fold 2 Score</th>\n",
       "      <th>Fold 3 Score</th>\n",
       "      <th>Fold 4 Score</th>\n",
       "      <th>Fold 5 Score</th>\n",
       "      <th>CV 5 Mean Score</th>\n",
       "      <th>CV 5 std</th>\n",
       "      <th>HoldOut Score</th>\n",
       "      <th>abs(HoldOut Score - CV5 Mean Score)</th>\n",
       "    </tr>\n",
       "  </thead>\n",
       "  <tbody>\n",
       "    <tr>\n",
       "      <th>2</th>\n",
       "      <td>LGBM</td>\n",
       "      <td>0.996455</td>\n",
       "      <td>0.997108</td>\n",
       "      <td>0.996186</td>\n",
       "      <td>0.997638</td>\n",
       "      <td>0.997667</td>\n",
       "      <td>0.997011</td>\n",
       "      <td>0.000604</td>\n",
       "      <td>0.989074</td>\n",
       "      <td>0.007937</td>\n",
       "    </tr>\n",
       "    <tr>\n",
       "      <th>3</th>\n",
       "      <td>Random Forest</td>\n",
       "      <td>0.996659</td>\n",
       "      <td>0.996818</td>\n",
       "      <td>0.996736</td>\n",
       "      <td>0.998087</td>\n",
       "      <td>0.997445</td>\n",
       "      <td>0.997149</td>\n",
       "      <td>0.000545</td>\n",
       "      <td>0.986451</td>\n",
       "      <td>0.010698</td>\n",
       "    </tr>\n",
       "    <tr>\n",
       "      <th>0</th>\n",
       "      <td>KNN</td>\n",
       "      <td>0.977685</td>\n",
       "      <td>0.976588</td>\n",
       "      <td>0.975661</td>\n",
       "      <td>0.978823</td>\n",
       "      <td>0.976014</td>\n",
       "      <td>0.976954</td>\n",
       "      <td>0.001159</td>\n",
       "      <td>0.946763</td>\n",
       "      <td>0.030191</td>\n",
       "    </tr>\n",
       "    <tr>\n",
       "      <th>1</th>\n",
       "      <td>Logistic Regression</td>\n",
       "      <td>0.833171</td>\n",
       "      <td>0.829250</td>\n",
       "      <td>0.836883</td>\n",
       "      <td>0.826122</td>\n",
       "      <td>0.834044</td>\n",
       "      <td>0.831894</td>\n",
       "      <td>0.003780</td>\n",
       "      <td>0.748638</td>\n",
       "      <td>0.083256</td>\n",
       "    </tr>\n",
       "  </tbody>\n",
       "</table>\n",
       "</div>"
      ],
      "text/plain": [
       "                 Model  Fold 1 Score  Fold 2 Score  Fold 3 Score  \\\n",
       "2                 LGBM      0.996455      0.997108      0.996186   \n",
       "3        Random Forest      0.996659      0.996818      0.996736   \n",
       "0                  KNN      0.977685      0.976588      0.975661   \n",
       "1  Logistic Regression      0.833171      0.829250      0.836883   \n",
       "\n",
       "   Fold 4 Score  Fold 5 Score  CV 5 Mean Score  CV 5 std  HoldOut Score  \\\n",
       "2      0.997638      0.997667         0.997011  0.000604       0.989074   \n",
       "3      0.998087      0.997445         0.997149  0.000545       0.986451   \n",
       "0      0.978823      0.976014         0.976954  0.001159       0.946763   \n",
       "1      0.826122      0.834044         0.831894  0.003780       0.748638   \n",
       "\n",
       "   abs(HoldOut Score - CV5 Mean Score)  \n",
       "2                             0.007937  \n",
       "3                             0.010698  \n",
       "0                             0.030191  \n",
       "1                             0.083256  "
      ]
     },
     "execution_count": 600,
     "metadata": {},
     "output_type": "execute_result"
    }
   ],
   "source": [
    "df_models.sort_values('abs(HoldOut Score - CV5 Mean Score)')"
   ]
  },
  {
   "cell_type": "markdown",
   "metadata": {},
   "source": [
    "# Prediction"
   ]
  },
  {
   "cell_type": "code",
   "execution_count": 601,
   "metadata": {},
   "outputs": [],
   "source": [
    "clf = LGBMClassifier(random_state=0)\n",
    "clf.fit(X,y);"
   ]
  },
  {
   "cell_type": "code",
   "execution_count": 602,
   "metadata": {
    "scrolled": true
   },
   "outputs": [],
   "source": [
    "prediction_test = test_df[['ID']]\n",
    "test_df.drop(columns = ['ID'], axis = 1, inplace = True)\n",
    "prediction_test['prob'] = clf.predict_proba(test_df)[:, 1]\n",
    "prediction_test['pred'] = clf.predict(test_df)"
   ]
  },
  {
   "cell_type": "code",
   "execution_count": 605,
   "metadata": {},
   "outputs": [],
   "source": [
    "prediction_test.to_csv('predictions.csv',index = False);"
   ]
  }
 ],
 "metadata": {
  "kernelspec": {
   "display_name": "Python 3",
   "language": "python",
   "name": "python3"
  },
  "language_info": {
   "codemirror_mode": {
    "name": "ipython",
    "version": 3
   },
   "file_extension": ".py",
   "mimetype": "text/x-python",
   "name": "python",
   "nbconvert_exporter": "python",
   "pygments_lexer": "ipython3",
   "version": "3.5.2"
  },
  "toc": {
   "base_numbering": 1,
   "nav_menu": {},
   "number_sections": true,
   "sideBar": true,
   "skip_h1_title": false,
   "title_cell": "Table of Contents",
   "title_sidebar": "Contents",
   "toc_cell": false,
   "toc_position": {},
   "toc_section_display": true,
   "toc_window_display": true
  }
 },
 "nbformat": 4,
 "nbformat_minor": 2
}
