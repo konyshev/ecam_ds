{
 "cells": [
  {
   "cell_type": "markdown",
   "metadata": {},
   "source": [
    "# Imports"
   ]
  },
  {
   "cell_type": "code",
   "execution_count": 74,
   "metadata": {},
   "outputs": [],
   "source": [
    "import pandas as pd\n",
    "import matplotlib.pyplot as plt\n",
    "import seaborn as sns\n",
    "from sklearn.model_selection import train_test_split\n",
    "import math\n",
    "from sklearn.linear_model import LinearRegression\n",
    "import numpy as np\n",
    "from sklearn.preprocessing import StandardScaler\n",
    "\n",
    "import warnings \n",
    "warnings.filterwarnings('ignore')\n",
    "\n",
    "sns.set()"
   ]
  },
  {
   "cell_type": "markdown",
   "metadata": {},
   "source": [
    "# Read data"
   ]
  },
  {
   "cell_type": "code",
   "execution_count": 75,
   "metadata": {},
   "outputs": [
    {
     "data": {
      "text/plain": [
       "(506, 14)"
      ]
     },
     "execution_count": 75,
     "metadata": {},
     "output_type": "execute_result"
    }
   ],
   "source": [
    "df = pd.read_csv('boston.csv')\n",
    "df.shape"
   ]
  },
  {
   "cell_type": "markdown",
   "metadata": {},
   "source": [
    "# Reduce memory usage"
   ]
  },
  {
   "cell_type": "code",
   "execution_count": 76,
   "metadata": {
    "code_folding": [
     0,
     29,
     45,
     59,
     72,
     82
    ]
   },
   "outputs": [],
   "source": [
    "def convert_col_to_proper_int(df_col):\n",
    "    col_type = df_col.dtype\n",
    "#     print('convert_col_to_proper_int column: ', df_col.name, 'type: ', col_type, 'c_min: ', c_min)\n",
    "    if ((str(col_type)[:3] == 'int') | (str(col_type)[:4] == 'uint')): # | (str(col_type)[:5] == 'float')\n",
    "        c_min = df_col.min()\n",
    "        c_max = df_col.max()\n",
    "        if c_min < 0:\n",
    "#             print('c_min: ', c_min, 'less 0')\n",
    "            if c_min >= np.iinfo(np.int8).min and c_max <= np.iinfo(np.int8).max:\n",
    "                df_col = df_col.astype(np.int8)\n",
    "            elif c_min >= np.iinfo(np.int16).min and c_max <= np.iinfo(np.int16).max:\n",
    "                df_col = df_col.astype(np.int16)\n",
    "            elif c_min >= np.iinfo(np.int32).min and c_max <= np.iinfo(np.int32).max:\n",
    "                df_col = df_col.astype(np.int32)\n",
    "            elif c_min >= np.iinfo(np.int64).min and c_max <= np.iinfo(np.int64).max:\n",
    "                df_col = df_col.astype(np.int64)\n",
    "        else:\n",
    "#             print('c_min: ', c_min, 'not less 0')\n",
    "            if c_max <= np.iinfo(np.uint8).max:\n",
    "                df_col = df_col.astype(np.uint8)\n",
    "            elif c_max <= np.iinfo(np.uint16).max:\n",
    "                df_col = df_col.astype(np.uint16)\n",
    "            elif c_max <= np.iinfo(np.uint32).max:\n",
    "                df_col = df_col.astype(np.uint32)\n",
    "            elif c_max <= np.iinfo(np.uint64).max:\n",
    "                df_col = df_col.astype(np.uint64)\n",
    "            \n",
    "    return df_col\n",
    "\n",
    "def convert_col_to_proper_float(df_col):\n",
    "    col_type = df_col.dtype\n",
    "    if str(col_type)[:5] == 'float':\n",
    "        unique_count = len(np.unique(df_col))\n",
    "        df_col_temp = df_col.astype(np.float32)\n",
    "        if len(np.unique(df_col_temp)) == unique_count:\n",
    "            df_col = df_col_temp\n",
    "            c_min = df_col.min()\n",
    "            c_max = df_col.max()\n",
    "            if c_min > np.finfo(np.float16).min and c_max < np.finfo(np.float16).max:\n",
    "                df_col_temp = df_col.astype(np.float16)\n",
    "                if len(np.unique(df_col_temp)) == unique_count:\n",
    "                    df_col = df_col_temp\n",
    "            \n",
    "    return df_col\n",
    "\n",
    "def float_to_int(df):\n",
    "    \"\"\" iterate through all float columns of a dataframe and modify the data type\n",
    "        to reduce memory usage.\n",
    "    \"\"\"\n",
    "#     print('Begin float_to_int')\n",
    "    for col in df.columns:\n",
    "        col_type = df[col].dtype\n",
    "#         print('column: ', col, 'type: ', col_type)\n",
    "        if str(col_type)[:5] == 'float':\n",
    "            if (df[col] % 1 == 0).all():\n",
    "                df[col] = convert_col_to_proper_int(df[col].astype(np.int64))\n",
    "    \n",
    "    return df\n",
    "\n",
    "def float_reduced(df):\n",
    "    \"\"\" iterate through all float columns of a dataframe and modify the data type\n",
    "        to reduce memory usage.\n",
    "    \"\"\"\n",
    "#     print('Begin float_reduced')\n",
    "    for col in df.columns:\n",
    "        col_type = df[col].dtype\n",
    "#         print('column: ', col, 'type: ', col_type)\n",
    "        if str(col_type)[:5] == 'float':\n",
    "            df[col] = convert_col_to_proper_float(df[col])\n",
    "    \n",
    "    return df\n",
    "\n",
    "def int_reduced(df):\n",
    "    \"\"\" iterate through all int columns of a dataframe and modify the data type\n",
    "        to reduce memory usage.\n",
    "    \"\"\"\n",
    "#     print('Begin float_reduced')\n",
    "    for col in df.columns:\n",
    "        df[col] = convert_col_to_proper_int(df[col])\n",
    "    \n",
    "    return df\n",
    "\n",
    "def gentle_reduce_mem_usage(data, verbose = True):\n",
    "    \"\"\" iterate through all the columns of a dataframe and modify the data type\n",
    "        to reduce memory usage.\n",
    "    \"\"\"\n",
    "    start_mem = data.memory_usage().sum() / 1024**2\n",
    "    if verbose:\n",
    "        print('Memory usage of dataframe: {:.2f} MB'.format(start_mem))\n",
    "\n",
    "    for col in data.columns:\n",
    "#         print(col, type(data[col]), data[col].shape)\n",
    "        col_type = data[col].dtype\n",
    "\n",
    "        if ((col_type != object) & (col_type != '<M8[ns]') & (col_type.name != 'category')):#\n",
    "            c_min = data[col].min()\n",
    "            c_max = data[col].max()\n",
    "            if str(col_type)[:3] == 'int':\n",
    "                data[col] = convert_col_to_proper_int(data[col])\n",
    "            else:\n",
    "                if (data[col] % 1 == 0).all():\n",
    "                    data[col] = convert_col_to_proper_int(data[col].astype(np.int64))\n",
    "                else:\n",
    "                    data[col] = convert_col_to_proper_float(data[col])\n",
    "        else: \n",
    "            try:\n",
    "                data[col] = data[col].astype(np.float64)\n",
    "                if (data[col] % 1 == 0).all():\n",
    "                    data[col] = convert_col_to_proper_int(data[col].astype(np.int64))\n",
    "                else:\n",
    "                    data[col] = convert_col_to_proper_float(data[col])\n",
    "            except:\n",
    "                data[col] = data[col].astype('category')\n",
    "\n",
    "    end_mem = data.memory_usage().sum() / 1024**2\n",
    "    if verbose:\n",
    "        print('Memory usage after optimization: {:.2f} MB'.format(end_mem))\n",
    "        print('Decreased by {:.1f}%'.format(100 * (start_mem - end_mem) / start_mem))\n",
    "\n",
    "    return data"
   ]
  },
  {
   "cell_type": "markdown",
   "metadata": {},
   "source": [
    "# Columns info"
   ]
  },
  {
   "cell_type": "code",
   "execution_count": 77,
   "metadata": {},
   "outputs": [
    {
     "data": {
      "text/plain": [
       "Index(['CRIM', 'ZN', 'INDUS', 'CHAS', 'NOX', 'RM', 'AGE', 'DIS', 'RAD', 'TAX',\n",
       "       'PTRATIO', 'B', 'LSTAT', 'MEDV'],\n",
       "      dtype='object')"
      ]
     },
     "execution_count": 77,
     "metadata": {},
     "output_type": "execute_result"
    }
   ],
   "source": [
    "df.columns"
   ]
  },
  {
   "cell_type": "markdown",
   "metadata": {},
   "source": [
    "There are 14 attributes in each case of the dataset. They are:\n",
    "\n",
    "    CRIM - per capita crime rate by town\n",
    "    ZN - proportion of residential land zoned for lots over 25,000 sq.ft.\n",
    "    INDUS - proportion of non-retail business acres per town.\n",
    "    CHAS - Charles River dummy variable (1 if tract bounds river; 0 otherwise)\n",
    "    NOX - nitric oxides concentration (parts per 10 million)\n",
    "    RM - average number of rooms per dwelling\n",
    "    AGE - proportion of owner-occupied units built prior to 1940\n",
    "    DIS - weighted distances to five Boston employment centres\n",
    "    RAD - index of accessibility to radial highways\n",
    "    TAX - full-value property-tax rate per 10,000 \n",
    "    PTRATIO - pupil-teacher ratio by town\n",
    "    B - 1000(Bk - 0.63)^2 where Bk is the proportion of blacks by town\n",
    "    LSTAT - % lower status of the population\n",
    "    MEDV - Median value of owner-occupied homes in 1000's"
   ]
  },
  {
   "cell_type": "code",
   "execution_count": 78,
   "metadata": {
    "scrolled": true
   },
   "outputs": [
    {
     "name": "stdout",
     "output_type": "stream",
     "text": [
      "<class 'pandas.core.frame.DataFrame'>\n",
      "RangeIndex: 506 entries, 0 to 505\n",
      "Data columns (total 14 columns):\n",
      "CRIM       506 non-null float64\n",
      "ZN         506 non-null float64\n",
      "INDUS      506 non-null float64\n",
      "CHAS       506 non-null int64\n",
      "NOX        506 non-null float64\n",
      "RM         506 non-null float64\n",
      "AGE        506 non-null float64\n",
      "DIS        506 non-null float64\n",
      "RAD        506 non-null int64\n",
      "TAX        506 non-null float64\n",
      "PTRATIO    506 non-null float64\n",
      "B          506 non-null float64\n",
      "LSTAT      506 non-null float64\n",
      "MEDV       506 non-null float64\n",
      "dtypes: float64(12), int64(2)\n",
      "memory usage: 55.4 KB\n"
     ]
    }
   ],
   "source": [
    "df.info();"
   ]
  },
  {
   "cell_type": "code",
   "execution_count": 79,
   "metadata": {
    "scrolled": false
   },
   "outputs": [
    {
     "name": "stdout",
     "output_type": "stream",
     "text": [
      "Memory usage of dataframe: 0.05 MB\n",
      "Memory usage after optimization: 0.02 MB\n",
      "Decreased by 67.2%\n"
     ]
    }
   ],
   "source": [
    "feats = [f for f in df.columns if f not in ['MEDV']]\n",
    "df[feats] = gentle_reduce_mem_usage(df[feats])"
   ]
  },
  {
   "cell_type": "code",
   "execution_count": 80,
   "metadata": {
    "scrolled": true
   },
   "outputs": [
    {
     "name": "stdout",
     "output_type": "stream",
     "text": [
      "<class 'pandas.core.frame.DataFrame'>\n",
      "RangeIndex: 506 entries, 0 to 505\n",
      "Data columns (total 14 columns):\n",
      "CRIM       506 non-null float32\n",
      "ZN         506 non-null float16\n",
      "INDUS      506 non-null float16\n",
      "CHAS       506 non-null uint8\n",
      "NOX        506 non-null float16\n",
      "RM         506 non-null float32\n",
      "AGE        506 non-null float16\n",
      "DIS        506 non-null float32\n",
      "RAD        506 non-null uint8\n",
      "TAX        506 non-null uint16\n",
      "PTRATIO    506 non-null float16\n",
      "B          506 non-null float32\n",
      "LSTAT      506 non-null float32\n",
      "MEDV       506 non-null float64\n",
      "dtypes: float16(5), float32(5), float64(1), uint16(1), uint8(2)\n",
      "memory usage: 20.8 KB\n"
     ]
    }
   ],
   "source": [
    "df.info()"
   ]
  },
  {
   "cell_type": "markdown",
   "metadata": {},
   "source": [
    "We have two features **uint8** we will check may be feature is categorical: "
   ]
  },
  {
   "cell_type": "code",
   "execution_count": 81,
   "metadata": {
    "scrolled": true
   },
   "outputs": [
    {
     "data": {
      "text/plain": [
       "24    132\n",
       "5     115\n",
       "4     110\n",
       "3      38\n",
       "6      26\n",
       "8      24\n",
       "2      24\n",
       "1      20\n",
       "7      17\n",
       "Name: RAD, dtype: int64"
      ]
     },
     "execution_count": 81,
     "metadata": {},
     "output_type": "execute_result"
    }
   ],
   "source": [
    "df['RAD'].value_counts()"
   ]
  },
  {
   "cell_type": "code",
   "execution_count": 82,
   "metadata": {
    "scrolled": true
   },
   "outputs": [
    {
     "data": {
      "text/plain": [
       "0    471\n",
       "1     35\n",
       "Name: CHAS, dtype: int64"
      ]
     },
     "execution_count": 82,
     "metadata": {},
     "output_type": "execute_result"
    }
   ],
   "source": [
    "df['CHAS'].value_counts()"
   ]
  },
  {
   "cell_type": "markdown",
   "metadata": {},
   "source": [
    "Change data type to 'category':"
   ]
  },
  {
   "cell_type": "code",
   "execution_count": 83,
   "metadata": {},
   "outputs": [],
   "source": [
    "df['RAD'] = df['RAD'].astype('category')\n",
    "df['CHAS'] = df['CHAS'].astype('category')"
   ]
  },
  {
   "cell_type": "code",
   "execution_count": 84,
   "metadata": {},
   "outputs": [],
   "source": [
    "# Info about columns\n",
    "def feats_summary(df_):\n",
    "    feats_to_exclude = [f for f in df_.columns if f in ['MEDV']]\n",
    "\n",
    "    cat_cols  = [col for col in df_.columns if df_[col].dtype == 'object']\n",
    "    cat_cols += [col for col in df_.columns if not pd.api.types.is_numeric_dtype(df_[col].dtype)]\n",
    "    cat_cols  = list(set(cat_cols).difference(feats_to_exclude))\n",
    "\n",
    "    num_cols = [col for col in df_.columns if pd.api.types.is_numeric_dtype(df_[col].dtype)]\n",
    "    num_cols  = list(set(num_cols).difference(feats_to_exclude))\n",
    "    print('''Columns summary (overall {}) : \n",
    "    1. Categorical: {}\n",
    "    2. Numerical: {}\n",
    "    3. Excluded: {}'''.format(len(df_.columns),len(cat_cols),len(num_cols),len(feats_to_exclude)))\n",
    "    return feats_to_exclude,cat_cols,num_cols"
   ]
  },
  {
   "cell_type": "code",
   "execution_count": 85,
   "metadata": {},
   "outputs": [
    {
     "name": "stdout",
     "output_type": "stream",
     "text": [
      "Columns summary (overall 14) : \n",
      "    1. Categorical: 2\n",
      "    2. Numerical: 11\n",
      "    3. Excluded: 1\n"
     ]
    }
   ],
   "source": [
    "_,cat_cols,num_cols = feats_summary(df)"
   ]
  },
  {
   "cell_type": "markdown",
   "metadata": {},
   "source": [
    "# Look into the data"
   ]
  },
  {
   "cell_type": "code",
   "execution_count": 86,
   "metadata": {
    "scrolled": false
   },
   "outputs": [
    {
     "data": {
      "text/html": [
       "<div>\n",
       "<style scoped>\n",
       "    .dataframe tbody tr th:only-of-type {\n",
       "        vertical-align: middle;\n",
       "    }\n",
       "\n",
       "    .dataframe tbody tr th {\n",
       "        vertical-align: top;\n",
       "    }\n",
       "\n",
       "    .dataframe thead th {\n",
       "        text-align: right;\n",
       "    }\n",
       "</style>\n",
       "<table border=\"1\" class=\"dataframe\">\n",
       "  <thead>\n",
       "    <tr style=\"text-align: right;\">\n",
       "      <th></th>\n",
       "      <th>CRIM</th>\n",
       "      <th>ZN</th>\n",
       "      <th>INDUS</th>\n",
       "      <th>CHAS</th>\n",
       "      <th>NOX</th>\n",
       "      <th>RM</th>\n",
       "      <th>AGE</th>\n",
       "      <th>DIS</th>\n",
       "      <th>RAD</th>\n",
       "      <th>TAX</th>\n",
       "      <th>PTRATIO</th>\n",
       "      <th>B</th>\n",
       "      <th>LSTAT</th>\n",
       "      <th>MEDV</th>\n",
       "    </tr>\n",
       "  </thead>\n",
       "  <tbody>\n",
       "    <tr>\n",
       "      <th>0</th>\n",
       "      <td>0.00632</td>\n",
       "      <td>18.0</td>\n",
       "      <td>2.310547</td>\n",
       "      <td>0</td>\n",
       "      <td>0.538086</td>\n",
       "      <td>6.575</td>\n",
       "      <td>65.18750</td>\n",
       "      <td>4.0900</td>\n",
       "      <td>1</td>\n",
       "      <td>296</td>\n",
       "      <td>15.296875</td>\n",
       "      <td>396.899994</td>\n",
       "      <td>4.98</td>\n",
       "      <td>24.0</td>\n",
       "    </tr>\n",
       "    <tr>\n",
       "      <th>1</th>\n",
       "      <td>0.02731</td>\n",
       "      <td>0.0</td>\n",
       "      <td>7.070312</td>\n",
       "      <td>0</td>\n",
       "      <td>0.468994</td>\n",
       "      <td>6.421</td>\n",
       "      <td>78.87500</td>\n",
       "      <td>4.9671</td>\n",
       "      <td>2</td>\n",
       "      <td>242</td>\n",
       "      <td>17.796875</td>\n",
       "      <td>396.899994</td>\n",
       "      <td>9.14</td>\n",
       "      <td>21.6</td>\n",
       "    </tr>\n",
       "    <tr>\n",
       "      <th>2</th>\n",
       "      <td>0.02729</td>\n",
       "      <td>0.0</td>\n",
       "      <td>7.070312</td>\n",
       "      <td>0</td>\n",
       "      <td>0.468994</td>\n",
       "      <td>7.185</td>\n",
       "      <td>61.09375</td>\n",
       "      <td>4.9671</td>\n",
       "      <td>2</td>\n",
       "      <td>242</td>\n",
       "      <td>17.796875</td>\n",
       "      <td>392.829987</td>\n",
       "      <td>4.03</td>\n",
       "      <td>34.7</td>\n",
       "    </tr>\n",
       "    <tr>\n",
       "      <th>3</th>\n",
       "      <td>0.03237</td>\n",
       "      <td>0.0</td>\n",
       "      <td>2.179688</td>\n",
       "      <td>0</td>\n",
       "      <td>0.458008</td>\n",
       "      <td>6.998</td>\n",
       "      <td>45.81250</td>\n",
       "      <td>6.0622</td>\n",
       "      <td>3</td>\n",
       "      <td>222</td>\n",
       "      <td>18.703125</td>\n",
       "      <td>394.630005</td>\n",
       "      <td>2.94</td>\n",
       "      <td>33.4</td>\n",
       "    </tr>\n",
       "    <tr>\n",
       "      <th>4</th>\n",
       "      <td>0.06905</td>\n",
       "      <td>0.0</td>\n",
       "      <td>2.179688</td>\n",
       "      <td>0</td>\n",
       "      <td>0.458008</td>\n",
       "      <td>7.147</td>\n",
       "      <td>54.18750</td>\n",
       "      <td>6.0622</td>\n",
       "      <td>3</td>\n",
       "      <td>222</td>\n",
       "      <td>18.703125</td>\n",
       "      <td>396.899994</td>\n",
       "      <td>5.33</td>\n",
       "      <td>36.2</td>\n",
       "    </tr>\n",
       "  </tbody>\n",
       "</table>\n",
       "</div>"
      ],
      "text/plain": [
       "      CRIM    ZN     INDUS CHAS       NOX     RM       AGE     DIS RAD  TAX  \\\n",
       "0  0.00632  18.0  2.310547    0  0.538086  6.575  65.18750  4.0900   1  296   \n",
       "1  0.02731   0.0  7.070312    0  0.468994  6.421  78.87500  4.9671   2  242   \n",
       "2  0.02729   0.0  7.070312    0  0.468994  7.185  61.09375  4.9671   2  242   \n",
       "3  0.03237   0.0  2.179688    0  0.458008  6.998  45.81250  6.0622   3  222   \n",
       "4  0.06905   0.0  2.179688    0  0.458008  7.147  54.18750  6.0622   3  222   \n",
       "\n",
       "     PTRATIO           B  LSTAT  MEDV  \n",
       "0  15.296875  396.899994   4.98  24.0  \n",
       "1  17.796875  396.899994   9.14  21.6  \n",
       "2  17.796875  392.829987   4.03  34.7  \n",
       "3  18.703125  394.630005   2.94  33.4  \n",
       "4  18.703125  396.899994   5.33  36.2  "
      ]
     },
     "execution_count": 86,
     "metadata": {},
     "output_type": "execute_result"
    }
   ],
   "source": [
    "df.head(5)"
   ]
  },
  {
   "cell_type": "code",
   "execution_count": 87,
   "metadata": {},
   "outputs": [
    {
     "data": {
      "text/html": [
       "<div>\n",
       "<style scoped>\n",
       "    .dataframe tbody tr th:only-of-type {\n",
       "        vertical-align: middle;\n",
       "    }\n",
       "\n",
       "    .dataframe tbody tr th {\n",
       "        vertical-align: top;\n",
       "    }\n",
       "\n",
       "    .dataframe thead th {\n",
       "        text-align: right;\n",
       "    }\n",
       "</style>\n",
       "<table border=\"1\" class=\"dataframe\">\n",
       "  <thead>\n",
       "    <tr style=\"text-align: right;\">\n",
       "      <th></th>\n",
       "      <th>CRIM</th>\n",
       "      <th>ZN</th>\n",
       "      <th>INDUS</th>\n",
       "      <th>CHAS</th>\n",
       "      <th>NOX</th>\n",
       "      <th>RM</th>\n",
       "      <th>AGE</th>\n",
       "      <th>DIS</th>\n",
       "      <th>RAD</th>\n",
       "      <th>TAX</th>\n",
       "      <th>PTRATIO</th>\n",
       "      <th>B</th>\n",
       "      <th>LSTAT</th>\n",
       "      <th>MEDV</th>\n",
       "    </tr>\n",
       "  </thead>\n",
       "  <tbody>\n",
       "    <tr>\n",
       "      <th>501</th>\n",
       "      <td>0.06263</td>\n",
       "      <td>0.0</td>\n",
       "      <td>11.929688</td>\n",
       "      <td>0</td>\n",
       "      <td>0.573242</td>\n",
       "      <td>6.593</td>\n",
       "      <td>69.1250</td>\n",
       "      <td>2.4786</td>\n",
       "      <td>1</td>\n",
       "      <td>273</td>\n",
       "      <td>21.0</td>\n",
       "      <td>391.989990</td>\n",
       "      <td>9.67</td>\n",
       "      <td>22.4</td>\n",
       "    </tr>\n",
       "    <tr>\n",
       "      <th>502</th>\n",
       "      <td>0.04527</td>\n",
       "      <td>0.0</td>\n",
       "      <td>11.929688</td>\n",
       "      <td>0</td>\n",
       "      <td>0.573242</td>\n",
       "      <td>6.120</td>\n",
       "      <td>76.6875</td>\n",
       "      <td>2.2875</td>\n",
       "      <td>1</td>\n",
       "      <td>273</td>\n",
       "      <td>21.0</td>\n",
       "      <td>396.899994</td>\n",
       "      <td>9.08</td>\n",
       "      <td>20.6</td>\n",
       "    </tr>\n",
       "    <tr>\n",
       "      <th>503</th>\n",
       "      <td>0.06076</td>\n",
       "      <td>0.0</td>\n",
       "      <td>11.929688</td>\n",
       "      <td>0</td>\n",
       "      <td>0.573242</td>\n",
       "      <td>6.976</td>\n",
       "      <td>91.0000</td>\n",
       "      <td>2.1675</td>\n",
       "      <td>1</td>\n",
       "      <td>273</td>\n",
       "      <td>21.0</td>\n",
       "      <td>396.899994</td>\n",
       "      <td>5.64</td>\n",
       "      <td>23.9</td>\n",
       "    </tr>\n",
       "    <tr>\n",
       "      <th>504</th>\n",
       "      <td>0.10959</td>\n",
       "      <td>0.0</td>\n",
       "      <td>11.929688</td>\n",
       "      <td>0</td>\n",
       "      <td>0.573242</td>\n",
       "      <td>6.794</td>\n",
       "      <td>89.3125</td>\n",
       "      <td>2.3889</td>\n",
       "      <td>1</td>\n",
       "      <td>273</td>\n",
       "      <td>21.0</td>\n",
       "      <td>393.450012</td>\n",
       "      <td>6.48</td>\n",
       "      <td>22.0</td>\n",
       "    </tr>\n",
       "    <tr>\n",
       "      <th>505</th>\n",
       "      <td>0.04741</td>\n",
       "      <td>0.0</td>\n",
       "      <td>11.929688</td>\n",
       "      <td>0</td>\n",
       "      <td>0.573242</td>\n",
       "      <td>6.030</td>\n",
       "      <td>80.8125</td>\n",
       "      <td>2.5050</td>\n",
       "      <td>1</td>\n",
       "      <td>273</td>\n",
       "      <td>21.0</td>\n",
       "      <td>396.899994</td>\n",
       "      <td>7.88</td>\n",
       "      <td>11.9</td>\n",
       "    </tr>\n",
       "  </tbody>\n",
       "</table>\n",
       "</div>"
      ],
      "text/plain": [
       "        CRIM   ZN      INDUS CHAS       NOX     RM      AGE     DIS RAD  TAX  \\\n",
       "501  0.06263  0.0  11.929688    0  0.573242  6.593  69.1250  2.4786   1  273   \n",
       "502  0.04527  0.0  11.929688    0  0.573242  6.120  76.6875  2.2875   1  273   \n",
       "503  0.06076  0.0  11.929688    0  0.573242  6.976  91.0000  2.1675   1  273   \n",
       "504  0.10959  0.0  11.929688    0  0.573242  6.794  89.3125  2.3889   1  273   \n",
       "505  0.04741  0.0  11.929688    0  0.573242  6.030  80.8125  2.5050   1  273   \n",
       "\n",
       "     PTRATIO           B  LSTAT  MEDV  \n",
       "501     21.0  391.989990   9.67  22.4  \n",
       "502     21.0  396.899994   9.08  20.6  \n",
       "503     21.0  396.899994   5.64  23.9  \n",
       "504     21.0  393.450012   6.48  22.0  \n",
       "505     21.0  396.899994   7.88  11.9  "
      ]
     },
     "execution_count": 87,
     "metadata": {},
     "output_type": "execute_result"
    }
   ],
   "source": [
    "df.tail(5)"
   ]
  },
  {
   "cell_type": "markdown",
   "metadata": {},
   "source": [
    "# Some statistic"
   ]
  },
  {
   "cell_type": "code",
   "execution_count": 88,
   "metadata": {
    "scrolled": true
   },
   "outputs": [
    {
     "data": {
      "text/html": [
       "<div>\n",
       "<style scoped>\n",
       "    .dataframe tbody tr th:only-of-type {\n",
       "        vertical-align: middle;\n",
       "    }\n",
       "\n",
       "    .dataframe tbody tr th {\n",
       "        vertical-align: top;\n",
       "    }\n",
       "\n",
       "    .dataframe thead th {\n",
       "        text-align: right;\n",
       "    }\n",
       "</style>\n",
       "<table border=\"1\" class=\"dataframe\">\n",
       "  <thead>\n",
       "    <tr style=\"text-align: right;\">\n",
       "      <th></th>\n",
       "      <th>RM</th>\n",
       "      <th>CRIM</th>\n",
       "      <th>INDUS</th>\n",
       "      <th>ZN</th>\n",
       "      <th>LSTAT</th>\n",
       "      <th>B</th>\n",
       "      <th>PTRATIO</th>\n",
       "      <th>TAX</th>\n",
       "      <th>NOX</th>\n",
       "      <th>DIS</th>\n",
       "      <th>AGE</th>\n",
       "    </tr>\n",
       "  </thead>\n",
       "  <tbody>\n",
       "    <tr>\n",
       "      <th>count</th>\n",
       "      <td>506.000000</td>\n",
       "      <td>506.000000</td>\n",
       "      <td>506.000000</td>\n",
       "      <td>506.000000</td>\n",
       "      <td>506.000000</td>\n",
       "      <td>506.000000</td>\n",
       "      <td>506.000000</td>\n",
       "      <td>506.000000</td>\n",
       "      <td>506.000000</td>\n",
       "      <td>506.000000</td>\n",
       "      <td>506.000000</td>\n",
       "    </tr>\n",
       "    <tr>\n",
       "      <th>mean</th>\n",
       "      <td>6.284634</td>\n",
       "      <td>3.613524</td>\n",
       "      <td>11.140625</td>\n",
       "      <td>11.367188</td>\n",
       "      <td>12.653064</td>\n",
       "      <td>356.674042</td>\n",
       "      <td>18.453125</td>\n",
       "      <td>408.237154</td>\n",
       "      <td>0.554688</td>\n",
       "      <td>3.795043</td>\n",
       "      <td>68.562500</td>\n",
       "    </tr>\n",
       "    <tr>\n",
       "      <th>std</th>\n",
       "      <td>0.702617</td>\n",
       "      <td>8.601545</td>\n",
       "      <td>6.859375</td>\n",
       "      <td>23.328125</td>\n",
       "      <td>7.141061</td>\n",
       "      <td>91.294861</td>\n",
       "      <td>2.166016</td>\n",
       "      <td>168.537116</td>\n",
       "      <td>0.115906</td>\n",
       "      <td>2.105710</td>\n",
       "      <td>28.156250</td>\n",
       "    </tr>\n",
       "    <tr>\n",
       "      <th>min</th>\n",
       "      <td>3.561000</td>\n",
       "      <td>0.006320</td>\n",
       "      <td>0.459961</td>\n",
       "      <td>0.000000</td>\n",
       "      <td>1.730000</td>\n",
       "      <td>0.320000</td>\n",
       "      <td>12.601562</td>\n",
       "      <td>187.000000</td>\n",
       "      <td>0.385010</td>\n",
       "      <td>1.129600</td>\n",
       "      <td>2.900391</td>\n",
       "    </tr>\n",
       "    <tr>\n",
       "      <th>25%</th>\n",
       "      <td>5.885500</td>\n",
       "      <td>0.082045</td>\n",
       "      <td>5.191406</td>\n",
       "      <td>0.000000</td>\n",
       "      <td>6.950000</td>\n",
       "      <td>375.377487</td>\n",
       "      <td>17.406250</td>\n",
       "      <td>279.000000</td>\n",
       "      <td>0.448975</td>\n",
       "      <td>2.100175</td>\n",
       "      <td>45.023438</td>\n",
       "    </tr>\n",
       "    <tr>\n",
       "      <th>50%</th>\n",
       "      <td>6.208500</td>\n",
       "      <td>0.256510</td>\n",
       "      <td>9.687500</td>\n",
       "      <td>0.000000</td>\n",
       "      <td>11.360000</td>\n",
       "      <td>391.440002</td>\n",
       "      <td>19.046875</td>\n",
       "      <td>330.000000</td>\n",
       "      <td>0.538086</td>\n",
       "      <td>3.207450</td>\n",
       "      <td>77.500000</td>\n",
       "    </tr>\n",
       "    <tr>\n",
       "      <th>75%</th>\n",
       "      <td>6.623500</td>\n",
       "      <td>3.677083</td>\n",
       "      <td>18.093750</td>\n",
       "      <td>12.500000</td>\n",
       "      <td>16.954999</td>\n",
       "      <td>396.225006</td>\n",
       "      <td>20.203125</td>\n",
       "      <td>666.000000</td>\n",
       "      <td>0.624023</td>\n",
       "      <td>5.188425</td>\n",
       "      <td>94.093750</td>\n",
       "    </tr>\n",
       "    <tr>\n",
       "      <th>max</th>\n",
       "      <td>8.780000</td>\n",
       "      <td>88.976196</td>\n",
       "      <td>27.734375</td>\n",
       "      <td>100.000000</td>\n",
       "      <td>37.970001</td>\n",
       "      <td>396.899994</td>\n",
       "      <td>22.000000</td>\n",
       "      <td>711.000000</td>\n",
       "      <td>0.871094</td>\n",
       "      <td>12.126500</td>\n",
       "      <td>100.000000</td>\n",
       "    </tr>\n",
       "  </tbody>\n",
       "</table>\n",
       "</div>"
      ],
      "text/plain": [
       "               RM        CRIM       INDUS          ZN       LSTAT           B  \\\n",
       "count  506.000000  506.000000  506.000000  506.000000  506.000000  506.000000   \n",
       "mean     6.284634    3.613524   11.140625   11.367188   12.653064  356.674042   \n",
       "std      0.702617    8.601545    6.859375   23.328125    7.141061   91.294861   \n",
       "min      3.561000    0.006320    0.459961    0.000000    1.730000    0.320000   \n",
       "25%      5.885500    0.082045    5.191406    0.000000    6.950000  375.377487   \n",
       "50%      6.208500    0.256510    9.687500    0.000000   11.360000  391.440002   \n",
       "75%      6.623500    3.677083   18.093750   12.500000   16.954999  396.225006   \n",
       "max      8.780000   88.976196   27.734375  100.000000   37.970001  396.899994   \n",
       "\n",
       "          PTRATIO         TAX         NOX         DIS         AGE  \n",
       "count  506.000000  506.000000  506.000000  506.000000  506.000000  \n",
       "mean    18.453125  408.237154    0.554688    3.795043   68.562500  \n",
       "std      2.166016  168.537116    0.115906    2.105710   28.156250  \n",
       "min     12.601562  187.000000    0.385010    1.129600    2.900391  \n",
       "25%     17.406250  279.000000    0.448975    2.100175   45.023438  \n",
       "50%     19.046875  330.000000    0.538086    3.207450   77.500000  \n",
       "75%     20.203125  666.000000    0.624023    5.188425   94.093750  \n",
       "max     22.000000  711.000000    0.871094   12.126500  100.000000  "
      ]
     },
     "execution_count": 88,
     "metadata": {},
     "output_type": "execute_result"
    }
   ],
   "source": [
    "df[num_cols].describe()"
   ]
  },
  {
   "cell_type": "code",
   "execution_count": 89,
   "metadata": {
    "scrolled": true
   },
   "outputs": [
    {
     "data": {
      "text/plain": [
       "Index([], dtype='object')"
      ]
     },
     "execution_count": 89,
     "metadata": {},
     "output_type": "execute_result"
    }
   ],
   "source": [
    "df.columns[df.isnull().any()] # No columns with NaN"
   ]
  },
  {
   "cell_type": "markdown",
   "metadata": {},
   "source": [
    "# Data visualisation"
   ]
  },
  {
   "cell_type": "code",
   "execution_count": 90,
   "metadata": {
    "code_folding": [
     0
    ]
   },
   "outputs": [],
   "source": [
    "# helper function\n",
    "def draw_plots(df,keys_to_draw:list,xlabel:str,ylabel:str,n_cols:int,graph_type:str):\n",
    "    n_rows = math.ceil(len(keys_to_draw)/n_cols)\n",
    "    for i in range(n_rows):\n",
    "        _, ax = plt.subplots(nrows=1, \n",
    "                             ncols=n_cols, \n",
    "                             figsize=(16, 4))\n",
    "        for j,col in enumerate(ax):  \n",
    "            if (n_cols*i+j)<(len(keys_to_draw)):\n",
    "                if graph_type == 'hist':\n",
    "                    sns.distplot(df[keys_to_draw[n_cols*i+j]], ax=col)\n",
    "                elif graph_type == 'boxplot':\n",
    "                    sns.boxplot(x=df[keys_to_draw[n_cols*i+j]], ax=col)\n",
    "                elif graph_type == 'countplot':\n",
    "                    sns.countplot(x=keys_to_draw[n_cols*i+j], data=df,ax=col)\n",
    "                col.set_title(keys_to_draw[n_cols*i+j])\n",
    "                col.set_xlabel(xlabel)\n",
    "                col.set_ylabel(ylabel)\n",
    "        plt.show()"
   ]
  },
  {
   "cell_type": "markdown",
   "metadata": {},
   "source": [
    "## Histograms"
   ]
  },
  {
   "cell_type": "code",
   "execution_count": 91,
   "metadata": {
    "code_folding": [],
    "scrolled": true
   },
   "outputs": [
    {
     "data": {
      "image/png": "[encoded data removed]",
      "text/plain": [
       "<Figure size 1152x288 with 3 Axes>"
      ]
     },
     "metadata": {},
     "output_type": "display_data"
    },
    {
     "data": {
      "image/png": "[encoded data removed]",
      "text/plain": [
       "<Figure size 1152x288 with 3 Axes>"
      ]
     },
     "metadata": {},
     "output_type": "display_data"
    },
    {
     "data": {
      "image/png": "[encoded data removed]",
      "text/plain": [
       "<Figure size 1152x288 with 3 Axes>"
      ]
     },
     "metadata": {},
     "output_type": "display_data"
    },
    {
     "data": {
      "image/png": "[encoded data removed]",
      "text/plain": [
       "<Figure size 1152x288 with 3 Axes>"
      ]
     },
     "metadata": {},
     "output_type": "display_data"
    }
   ],
   "source": [
    "draw_plots(df,list(num_cols),'values','count',3,'hist')"
   ]
  },
  {
   "cell_type": "markdown",
   "metadata": {},
   "source": [
    "## Boxplots"
   ]
  },
  {
   "cell_type": "code",
   "execution_count": 92,
   "metadata": {
    "scrolled": true
   },
   "outputs": [
    {
     "data": {
      "image/png": "[encoded data removed]",
      "text/plain": [
       "<Figure size 1152x288 with 3 Axes>"
      ]
     },
     "metadata": {},
     "output_type": "display_data"
    },
    {
     "data": {
      "image/png": "[encoded data removed]",
      "text/plain": [
       "<Figure size 1152x288 with 3 Axes>"
      ]
     },
     "metadata": {},
     "output_type": "display_data"
    },
    {
     "data": {
      "image/png": "[encoded data removed]",
      "text/plain": [
       "<Figure size 1152x288 with 3 Axes>"
      ]
     },
     "metadata": {},
     "output_type": "display_data"
    },
    {
     "data": {
      "image/png": "[encoded data removed]",
      "text/plain": [
       "<Figure size 1152x288 with 3 Axes>"
      ]
     },
     "metadata": {},
     "output_type": "display_data"
    }
   ],
   "source": [
    "draw_plots(df,num_cols,'value','',3,'boxplot')"
   ]
  },
  {
   "cell_type": "markdown",
   "metadata": {},
   "source": [
    "We see some outliers which should be threated "
   ]
  },
  {
   "cell_type": "markdown",
   "metadata": {},
   "source": [
    "## Countplots for categorical features"
   ]
  },
  {
   "cell_type": "code",
   "execution_count": 93,
   "metadata": {
    "scrolled": true
   },
   "outputs": [
    {
     "data": {
      "image/png": "[encoded data removed]",
      "text/plain": [
       "<Figure size 1152x288 with 3 Axes>"
      ]
     },
     "metadata": {},
     "output_type": "display_data"
    }
   ],
   "source": [
    "draw_plots(df,cat_cols,'value','count',3,'countplot')"
   ]
  },
  {
   "cell_type": "markdown",
   "metadata": {},
   "source": [
    "CHAS - Charles River dummy variable (1 if tract bounds river; 0 otherwise).\n",
    "Majority of apartments does not tract rivers "
   ]
  },
  {
   "cell_type": "markdown",
   "metadata": {},
   "source": [
    "# Train / test split"
   ]
  },
  {
   "cell_type": "code",
   "execution_count": 94,
   "metadata": {},
   "outputs": [
    {
     "data": {
      "text/plain": [
       "((404, 13), (102, 13))"
      ]
     },
     "execution_count": 94,
     "metadata": {},
     "output_type": "execute_result"
    }
   ],
   "source": [
    "X = df.copy()\n",
    "y = df['MEDV'].copy()\n",
    "X.drop(['MEDV'],axis=1,inplace=True) # Exclude target variable from X dataframe\n",
    "\n",
    "X_train, X_test, y_train, y_test = train_test_split(X,y, test_size=0.2, random_state=42)\n",
    "X_train.shape,X_test.shape"
   ]
  },
  {
   "cell_type": "markdown",
   "metadata": {},
   "source": [
    "# Baseline on raw data"
   ]
  },
  {
   "cell_type": "code",
   "execution_count": 95,
   "metadata": {},
   "outputs": [],
   "source": [
    "reg = LinearRegression().fit(X_train, y_train)"
   ]
  },
  {
   "cell_type": "code",
   "execution_count": 96,
   "metadata": {},
   "outputs": [
    {
     "data": {
      "text/plain": [
       "0.75087587918861454"
      ]
     },
     "execution_count": 96,
     "metadata": {},
     "output_type": "execute_result"
    }
   ],
   "source": [
    "reg.score(X_train,y_train) # Score on training data"
   ]
  },
  {
   "cell_type": "code",
   "execution_count": 97,
   "metadata": {
    "scrolled": false
   },
   "outputs": [
    {
     "data": {
      "text/plain": [
       "0.66876131104139913"
      ]
     },
     "execution_count": 97,
     "metadata": {},
     "output_type": "execute_result"
    }
   ],
   "source": [
    "reg.score(X_test,y_test) # Score on test data"
   ]
  },
  {
   "cell_type": "markdown",
   "metadata": {},
   "source": [
    "# Data cleaning"
   ]
  },
  {
   "cell_type": "markdown",
   "metadata": {},
   "source": [
    "## Outliers"
   ]
  },
  {
   "cell_type": "code",
   "execution_count": 98,
   "metadata": {},
   "outputs": [],
   "source": [
    "df['PTRATIO'] = df[df['PTRATIO'] > df['PTRATIO'].quantile(.025)]['PTRATIO']\n",
    "df['B'] = df[df['B'] > df['B'].quantile(.025)]['B']\n",
    "\n",
    "df['LSTAT'] = df[df['LSTAT'] < df['LSTAT'].quantile(.975)]['LSTAT']\n",
    "df['DIS'] = df[df['DIS'] < df['DIS'].quantile(.975)]['DIS']\n",
    "df['CRIM'] = df[df['CRIM'] < df['CRIM'].quantile(.975)]['CRIM']\n",
    "df['ZN'] = df[df['ZN'] < df['ZN'].quantile(.975)]['ZN']\n",
    "\n",
    "df['RM'] = df[(df['RM'] > df['RM'].quantile(.01))&(df['RM'] < df['RM'].quantile(.99))]['RM']"
   ]
  },
  {
   "cell_type": "code",
   "execution_count": 99,
   "metadata": {},
   "outputs": [
    {
     "data": {
      "text/plain": [
       "(424, 14)"
      ]
     },
     "execution_count": 99,
     "metadata": {},
     "output_type": "execute_result"
    }
   ],
   "source": [
    "df.dropna(inplace=True)\n",
    "df.shape"
   ]
  },
  {
   "cell_type": "markdown",
   "metadata": {},
   "source": [
    "# Modeling with cleaned data"
   ]
  },
  {
   "cell_type": "markdown",
   "metadata": {},
   "source": [
    "## Train / test split"
   ]
  },
  {
   "cell_type": "code",
   "execution_count": 100,
   "metadata": {},
   "outputs": [
    {
     "data": {
      "text/plain": [
       "((339, 13), (85, 13))"
      ]
     },
     "execution_count": 100,
     "metadata": {},
     "output_type": "execute_result"
    }
   ],
   "source": [
    "X = df.copy()\n",
    "y = df['MEDV'].copy()\n",
    "X.drop(['MEDV'],axis=1,inplace=True) # Exclude target variable from X dataframe\n",
    "\n",
    "X_train, X_test, y_train, y_test = train_test_split(X,y, test_size=0.2, random_state=42)\n",
    "X_train.shape,X_test.shape"
   ]
  },
  {
   "cell_type": "code",
   "execution_count": 101,
   "metadata": {},
   "outputs": [],
   "source": [
    "reg = LinearRegression().fit(X_train, y_train)"
   ]
  },
  {
   "cell_type": "code",
   "execution_count": 102,
   "metadata": {},
   "outputs": [
    {
     "data": {
      "text/plain": [
       "0.6823545660178939"
      ]
     },
     "execution_count": 102,
     "metadata": {},
     "output_type": "execute_result"
    }
   ],
   "source": [
    "reg.score(X_train,y_train) # Score on training data"
   ]
  },
  {
   "cell_type": "code",
   "execution_count": 103,
   "metadata": {},
   "outputs": [
    {
     "data": {
      "text/plain": [
       "0.84487315340836644"
      ]
     },
     "execution_count": 103,
     "metadata": {},
     "output_type": "execute_result"
    }
   ],
   "source": [
    "reg.score(X_test,y_test) # Score on test data"
   ]
  },
  {
   "cell_type": "markdown",
   "metadata": {},
   "source": [
    "Score on test data was improved"
   ]
  },
  {
   "cell_type": "markdown",
   "metadata": {},
   "source": [
    "# Scaling numeric columns"
   ]
  },
  {
   "cell_type": "code",
   "execution_count": 104,
   "metadata": {
    "scrolled": true
   },
   "outputs": [
    {
     "data": {
      "text/html": [
       "<div>\n",
       "<style scoped>\n",
       "    .dataframe tbody tr th:only-of-type {\n",
       "        vertical-align: middle;\n",
       "    }\n",
       "\n",
       "    .dataframe tbody tr th {\n",
       "        vertical-align: top;\n",
       "    }\n",
       "\n",
       "    .dataframe thead th {\n",
       "        text-align: right;\n",
       "    }\n",
       "</style>\n",
       "<table border=\"1\" class=\"dataframe\">\n",
       "  <thead>\n",
       "    <tr style=\"text-align: right;\">\n",
       "      <th></th>\n",
       "      <th>CRIM</th>\n",
       "      <th>ZN</th>\n",
       "      <th>INDUS</th>\n",
       "      <th>NOX</th>\n",
       "      <th>RM</th>\n",
       "      <th>AGE</th>\n",
       "      <th>DIS</th>\n",
       "      <th>TAX</th>\n",
       "      <th>PTRATIO</th>\n",
       "      <th>B</th>\n",
       "      <th>LSTAT</th>\n",
       "      <th>MEDV</th>\n",
       "    </tr>\n",
       "  </thead>\n",
       "  <tbody>\n",
       "    <tr>\n",
       "      <th>count</th>\n",
       "      <td>424.000000</td>\n",
       "      <td>424.000000</td>\n",
       "      <td>424.000000</td>\n",
       "      <td>424.000000</td>\n",
       "      <td>424.000000</td>\n",
       "      <td>424.000000</td>\n",
       "      <td>424.000000</td>\n",
       "      <td>424.000000</td>\n",
       "      <td>424.000000</td>\n",
       "      <td>424.000000</td>\n",
       "      <td>424.000000</td>\n",
       "      <td>424.000000</td>\n",
       "    </tr>\n",
       "    <tr>\n",
       "      <th>mean</th>\n",
       "      <td>2.270294</td>\n",
       "      <td>7.886719</td>\n",
       "      <td>11.335938</td>\n",
       "      <td>0.551758</td>\n",
       "      <td>6.264140</td>\n",
       "      <td>68.625000</td>\n",
       "      <td>3.713326</td>\n",
       "      <td>398.195755</td>\n",
       "      <td>18.578125</td>\n",
       "      <td>366.665497</td>\n",
       "      <td>12.285048</td>\n",
       "      <td>22.288915</td>\n",
       "    </tr>\n",
       "    <tr>\n",
       "      <th>std</th>\n",
       "      <td>4.087355</td>\n",
       "      <td>17.625000</td>\n",
       "      <td>6.667969</td>\n",
       "      <td>0.113464</td>\n",
       "      <td>0.555912</td>\n",
       "      <td>27.468750</td>\n",
       "      <td>1.789123</td>\n",
       "      <td>162.672892</td>\n",
       "      <td>1.953125</td>\n",
       "      <td>71.135315</td>\n",
       "      <td>6.153078</td>\n",
       "      <td>8.008264</td>\n",
       "    </tr>\n",
       "    <tr>\n",
       "      <th>min</th>\n",
       "      <td>0.006320</td>\n",
       "      <td>0.000000</td>\n",
       "      <td>0.459961</td>\n",
       "      <td>0.388916</td>\n",
       "      <td>4.903000</td>\n",
       "      <td>2.900391</td>\n",
       "      <td>1.129600</td>\n",
       "      <td>188.000000</td>\n",
       "      <td>14.398438</td>\n",
       "      <td>24.650000</td>\n",
       "      <td>1.730000</td>\n",
       "      <td>7.000000</td>\n",
       "    </tr>\n",
       "    <tr>\n",
       "      <th>25%</th>\n",
       "      <td>0.084320</td>\n",
       "      <td>0.000000</td>\n",
       "      <td>5.859375</td>\n",
       "      <td>0.458008</td>\n",
       "      <td>5.897250</td>\n",
       "      <td>46.593750</td>\n",
       "      <td>2.209750</td>\n",
       "      <td>279.750000</td>\n",
       "      <td>17.406250</td>\n",
       "      <td>376.745003</td>\n",
       "      <td>7.385000</td>\n",
       "      <td>17.500000</td>\n",
       "    </tr>\n",
       "    <tr>\n",
       "      <th>50%</th>\n",
       "      <td>0.222000</td>\n",
       "      <td>0.000000</td>\n",
       "      <td>9.687500</td>\n",
       "      <td>0.528076</td>\n",
       "      <td>6.201500</td>\n",
       "      <td>76.500000</td>\n",
       "      <td>3.361800</td>\n",
       "      <td>320.000000</td>\n",
       "      <td>19.000000</td>\n",
       "      <td>392.044998</td>\n",
       "      <td>11.490000</td>\n",
       "      <td>21.200000</td>\n",
       "    </tr>\n",
       "    <tr>\n",
       "      <th>75%</th>\n",
       "      <td>2.371107</td>\n",
       "      <td>0.000000</td>\n",
       "      <td>18.093750</td>\n",
       "      <td>0.608887</td>\n",
       "      <td>6.545250</td>\n",
       "      <td>93.812500</td>\n",
       "      <td>4.967100</td>\n",
       "      <td>437.000000</td>\n",
       "      <td>20.203125</td>\n",
       "      <td>396.352493</td>\n",
       "      <td>16.245000</td>\n",
       "      <td>24.600000</td>\n",
       "    </tr>\n",
       "    <tr>\n",
       "      <th>max</th>\n",
       "      <td>23.648199</td>\n",
       "      <td>80.000000</td>\n",
       "      <td>27.734375</td>\n",
       "      <td>0.871094</td>\n",
       "      <td>8.266000</td>\n",
       "      <td>100.000000</td>\n",
       "      <td>8.344000</td>\n",
       "      <td>711.000000</td>\n",
       "      <td>21.203125</td>\n",
       "      <td>396.899994</td>\n",
       "      <td>29.930000</td>\n",
       "      <td>50.000000</td>\n",
       "    </tr>\n",
       "  </tbody>\n",
       "</table>\n",
       "</div>"
      ],
      "text/plain": [
       "             CRIM          ZN       INDUS         NOX          RM         AGE  \\\n",
       "count  424.000000  424.000000  424.000000  424.000000  424.000000  424.000000   \n",
       "mean     2.270294    7.886719   11.335938    0.551758    6.264140   68.625000   \n",
       "std      4.087355   17.625000    6.667969    0.113464    0.555912   27.468750   \n",
       "min      0.006320    0.000000    0.459961    0.388916    4.903000    2.900391   \n",
       "25%      0.084320    0.000000    5.859375    0.458008    5.897250   46.593750   \n",
       "50%      0.222000    0.000000    9.687500    0.528076    6.201500   76.500000   \n",
       "75%      2.371107    0.000000   18.093750    0.608887    6.545250   93.812500   \n",
       "max     23.648199   80.000000   27.734375    0.871094    8.266000  100.000000   \n",
       "\n",
       "              DIS         TAX     PTRATIO           B       LSTAT        MEDV  \n",
       "count  424.000000  424.000000  424.000000  424.000000  424.000000  424.000000  \n",
       "mean     3.713326  398.195755   18.578125  366.665497   12.285048   22.288915  \n",
       "std      1.789123  162.672892    1.953125   71.135315    6.153078    8.008264  \n",
       "min      1.129600  188.000000   14.398438   24.650000    1.730000    7.000000  \n",
       "25%      2.209750  279.750000   17.406250  376.745003    7.385000   17.500000  \n",
       "50%      3.361800  320.000000   19.000000  392.044998   11.490000   21.200000  \n",
       "75%      4.967100  437.000000   20.203125  396.352493   16.245000   24.600000  \n",
       "max      8.344000  711.000000   21.203125  396.899994   29.930000   50.000000  "
      ]
     },
     "execution_count": 104,
     "metadata": {},
     "output_type": "execute_result"
    }
   ],
   "source": [
    "# data before scaling\n",
    "df.describe()"
   ]
  },
  {
   "cell_type": "code",
   "execution_count": 105,
   "metadata": {},
   "outputs": [],
   "source": [
    "for col in num_cols:\n",
    "    ss = StandardScaler()\n",
    "    df[col] = ss.fit_transform(df[col].values.reshape(-1,1))"
   ]
  },
  {
   "cell_type": "code",
   "execution_count": 106,
   "metadata": {
    "scrolled": true
   },
   "outputs": [
    {
     "data": {
      "text/html": [
       "<div>\n",
       "<style scoped>\n",
       "    .dataframe tbody tr th:only-of-type {\n",
       "        vertical-align: middle;\n",
       "    }\n",
       "\n",
       "    .dataframe tbody tr th {\n",
       "        vertical-align: top;\n",
       "    }\n",
       "\n",
       "    .dataframe thead th {\n",
       "        text-align: right;\n",
       "    }\n",
       "</style>\n",
       "<table border=\"1\" class=\"dataframe\">\n",
       "  <thead>\n",
       "    <tr style=\"text-align: right;\">\n",
       "      <th></th>\n",
       "      <th>CRIM</th>\n",
       "      <th>ZN</th>\n",
       "      <th>INDUS</th>\n",
       "      <th>NOX</th>\n",
       "      <th>RM</th>\n",
       "      <th>AGE</th>\n",
       "      <th>DIS</th>\n",
       "      <th>TAX</th>\n",
       "      <th>PTRATIO</th>\n",
       "      <th>B</th>\n",
       "      <th>LSTAT</th>\n",
       "      <th>MEDV</th>\n",
       "    </tr>\n",
       "  </thead>\n",
       "  <tbody>\n",
       "    <tr>\n",
       "      <th>count</th>\n",
       "      <td>4.240000e+02</td>\n",
       "      <td>424.0</td>\n",
       "      <td>424.000000</td>\n",
       "      <td>424.000000</td>\n",
       "      <td>4.240000e+02</td>\n",
       "      <td>424.0</td>\n",
       "      <td>4.240000e+02</td>\n",
       "      <td>4.240000e+02</td>\n",
       "      <td>424.000000</td>\n",
       "      <td>4.240000e+02</td>\n",
       "      <td>4.240000e+02</td>\n",
       "      <td>424.000000</td>\n",
       "    </tr>\n",
       "    <tr>\n",
       "      <th>mean</th>\n",
       "      <td>1.799386e-08</td>\n",
       "      <td>0.0</td>\n",
       "      <td>0.000264</td>\n",
       "      <td>0.000417</td>\n",
       "      <td>-4.768372e-07</td>\n",
       "      <td>0.0</td>\n",
       "      <td>-5.398157e-08</td>\n",
       "      <td>6.703233e-17</td>\n",
       "      <td>-0.001317</td>\n",
       "      <td>-1.034647e-07</td>\n",
       "      <td>2.249232e-08</td>\n",
       "      <td>22.288915</td>\n",
       "    </tr>\n",
       "    <tr>\n",
       "      <th>std</th>\n",
       "      <td>1.001181e+00</td>\n",
       "      <td>0.0</td>\n",
       "      <td>1.000977</td>\n",
       "      <td>1.000977</td>\n",
       "      <td>1.001181e+00</td>\n",
       "      <td>0.0</td>\n",
       "      <td>1.001181e+00</td>\n",
       "      <td>1.001181e+00</td>\n",
       "      <td>1.000977</td>\n",
       "      <td>1.001181e+00</td>\n",
       "      <td>1.001181e+00</td>\n",
       "      <td>8.008264</td>\n",
       "    </tr>\n",
       "    <tr>\n",
       "      <th>min</th>\n",
       "      <td>-5.545515e-01</td>\n",
       "      <td>0.0</td>\n",
       "      <td>-1.633789</td>\n",
       "      <td>-1.438477</td>\n",
       "      <td>-2.451372e+00</td>\n",
       "      <td>-0.0</td>\n",
       "      <td>-1.445836e+00</td>\n",
       "      <td>-1.293664e+00</td>\n",
       "      <td>-2.146484</td>\n",
       "      <td>-4.813636e+00</td>\n",
       "      <td>-1.717436e+00</td>\n",
       "      <td>7.000000</td>\n",
       "    </tr>\n",
       "    <tr>\n",
       "      <th>25%</th>\n",
       "      <td>-5.354457e-01</td>\n",
       "      <td>-0.0</td>\n",
       "      <td>-0.823242</td>\n",
       "      <td>-0.828613</td>\n",
       "      <td>-6.607574e-01</td>\n",
       "      <td>-0.0</td>\n",
       "      <td>-8.413915e-01</td>\n",
       "      <td>-7.289824e-01</td>\n",
       "      <td>-0.604004</td>\n",
       "      <td>1.418622e-01</td>\n",
       "      <td>-7.972979e-01</td>\n",
       "      <td>17.500000</td>\n",
       "    </tr>\n",
       "    <tr>\n",
       "      <th>50%</th>\n",
       "      <td>-5.017215e-01</td>\n",
       "      <td>0.0</td>\n",
       "      <td>-0.248169</td>\n",
       "      <td>-0.210083</td>\n",
       "      <td>-1.128114e-01</td>\n",
       "      <td>-0.0</td>\n",
       "      <td>-1.967119e-01</td>\n",
       "      <td>-4.812611e-01</td>\n",
       "      <td>0.212769</td>\n",
       "      <td>3.571992e-01</td>\n",
       "      <td>-1.293639e-01</td>\n",
       "      <td>21.200000</td>\n",
       "    </tr>\n",
       "    <tr>\n",
       "      <th>75%</th>\n",
       "      <td>2.469381e-02</td>\n",
       "      <td>-0.0</td>\n",
       "      <td>1.014648</td>\n",
       "      <td>0.502930</td>\n",
       "      <td>5.062720e-01</td>\n",
       "      <td>0.0</td>\n",
       "      <td>7.016035e-01</td>\n",
       "      <td>2.388234e-01</td>\n",
       "      <td>0.829590</td>\n",
       "      <td>4.178243e-01</td>\n",
       "      <td>6.443330e-01</td>\n",
       "      <td>24.600000</td>\n",
       "    </tr>\n",
       "    <tr>\n",
       "      <th>max</th>\n",
       "      <td>5.236433e+00</td>\n",
       "      <td>0.0</td>\n",
       "      <td>2.460938</td>\n",
       "      <td>2.816406</td>\n",
       "      <td>3.605292e+00</td>\n",
       "      <td>-0.0</td>\n",
       "      <td>2.591294e+00</td>\n",
       "      <td>1.925175e+00</td>\n",
       "      <td>1.342773</td>\n",
       "      <td>4.255300e-01</td>\n",
       "      <td>2.871051e+00</td>\n",
       "      <td>50.000000</td>\n",
       "    </tr>\n",
       "  </tbody>\n",
       "</table>\n",
       "</div>"
      ],
      "text/plain": [
       "               CRIM     ZN       INDUS         NOX            RM    AGE  \\\n",
       "count  4.240000e+02  424.0  424.000000  424.000000  4.240000e+02  424.0   \n",
       "mean   1.799386e-08    0.0    0.000264    0.000417 -4.768372e-07    0.0   \n",
       "std    1.001181e+00    0.0    1.000977    1.000977  1.001181e+00    0.0   \n",
       "min   -5.545515e-01    0.0   -1.633789   -1.438477 -2.451372e+00   -0.0   \n",
       "25%   -5.354457e-01   -0.0   -0.823242   -0.828613 -6.607574e-01   -0.0   \n",
       "50%   -5.017215e-01    0.0   -0.248169   -0.210083 -1.128114e-01   -0.0   \n",
       "75%    2.469381e-02   -0.0    1.014648    0.502930  5.062720e-01    0.0   \n",
       "max    5.236433e+00    0.0    2.460938    2.816406  3.605292e+00   -0.0   \n",
       "\n",
       "                DIS           TAX     PTRATIO             B         LSTAT  \\\n",
       "count  4.240000e+02  4.240000e+02  424.000000  4.240000e+02  4.240000e+02   \n",
       "mean  -5.398157e-08  6.703233e-17   -0.001317 -1.034647e-07  2.249232e-08   \n",
       "std    1.001181e+00  1.001181e+00    1.000977  1.001181e+00  1.001181e+00   \n",
       "min   -1.445836e+00 -1.293664e+00   -2.146484 -4.813636e+00 -1.717436e+00   \n",
       "25%   -8.413915e-01 -7.289824e-01   -0.604004  1.418622e-01 -7.972979e-01   \n",
       "50%   -1.967119e-01 -4.812611e-01    0.212769  3.571992e-01 -1.293639e-01   \n",
       "75%    7.016035e-01  2.388234e-01    0.829590  4.178243e-01  6.443330e-01   \n",
       "max    2.591294e+00  1.925175e+00    1.342773  4.255300e-01  2.871051e+00   \n",
       "\n",
       "             MEDV  \n",
       "count  424.000000  \n",
       "mean    22.288915  \n",
       "std      8.008264  \n",
       "min      7.000000  \n",
       "25%     17.500000  \n",
       "50%     21.200000  \n",
       "75%     24.600000  \n",
       "max     50.000000  "
      ]
     },
     "execution_count": 106,
     "metadata": {},
     "output_type": "execute_result"
    }
   ],
   "source": [
    "# data after scaling\n",
    "df.describe()"
   ]
  },
  {
   "cell_type": "code",
   "execution_count": 107,
   "metadata": {},
   "outputs": [
    {
     "data": {
      "text/plain": [
       "((339, 13), (85, 13))"
      ]
     },
     "execution_count": 107,
     "metadata": {},
     "output_type": "execute_result"
    }
   ],
   "source": [
    "X = df.copy()\n",
    "y = df['MEDV'].copy()\n",
    "X.drop(['MEDV'],axis=1,inplace=True) # Exclude target variable from X dataframe\n",
    "\n",
    "X_train, X_test, y_train, y_test = train_test_split(X,y, test_size=0.2, random_state=42)\n",
    "X_train.shape,X_test.shape"
   ]
  },
  {
   "cell_type": "code",
   "execution_count": 108,
   "metadata": {},
   "outputs": [
    {
     "data": {
      "text/plain": [
       "0.68105834020121037"
      ]
     },
     "execution_count": 108,
     "metadata": {},
     "output_type": "execute_result"
    }
   ],
   "source": [
    "reg = LinearRegression().fit(X_train, y_train)\n",
    "reg.score(X_train,y_train) # Score on training data"
   ]
  },
  {
   "cell_type": "code",
   "execution_count": 109,
   "metadata": {
    "scrolled": true
   },
   "outputs": [
    {
     "data": {
      "text/plain": [
       "0.84636086154629575"
      ]
     },
     "execution_count": 109,
     "metadata": {},
     "output_type": "execute_result"
    }
   ],
   "source": [
    "reg.score(X_test,y_test) # Score on test data"
   ]
  },
  {
   "cell_type": "markdown",
   "metadata": {},
   "source": [
    "Score on test data was improved"
   ]
  }
 ],
 "metadata": {
  "kernelspec": {
   "display_name": "Python 3",
   "language": "python",
   "name": "python3"
  },
  "language_info": {
   "codemirror_mode": {
    "name": "ipython",
    "version": 3
   },
   "file_extension": ".py",
   "mimetype": "text/x-python",
   "name": "python",
   "nbconvert_exporter": "python",
   "pygments_lexer": "ipython3",
   "version": "3.6.6"
  },
  "toc": {
   "base_numbering": 1,
   "nav_menu": {},
   "number_sections": true,
   "sideBar": true,
   "skip_h1_title": false,
   "title_cell": "Table of Contents",
   "title_sidebar": "Contents",
   "toc_cell": false,
   "toc_position": {},
   "toc_section_display": true,
   "toc_window_display": false
  }
 },
 "nbformat": 4,
 "nbformat_minor": 2
}
